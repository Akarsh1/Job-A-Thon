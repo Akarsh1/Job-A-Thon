{
  "nbformat": 4,
  "nbformat_minor": 0,
  "metadata": {
    "colab": {
      "name": "JOB-A-THON.ipynb",
      "provenance": [],
      "collapsed_sections": [],
      "toc_visible": true
    },
    "kernelspec": {
      "name": "python3",
      "display_name": "Python 3"
    }
  },
  "cells": [
    {
      "cell_type": "code",
      "metadata": {
        "colab": {
          "base_uri": "https://localhost:8080/"
        },
        "id": "PIAZhKH-f2WN",
        "outputId": "d6021790-29a9-4841-b480-f94b6113ee6b"
      },
      "source": [
        "from google_drive_downloader import GoogleDriveDownloader as gdd\r\n",
        "gdd.download_file_from_google_drive(file_id='1rzWWN6GaNhFiVwF-BrRICRchpFBrEnut',dest_path='content/JOB-A-THON.zip',unzip=True)"
      ],
      "execution_count": 1,
      "outputs": [
        {
          "output_type": "stream",
          "text": [
            "Downloading 1rzWWN6GaNhFiVwF-BrRICRchpFBrEnut into content/JOB-A-THON.zip... Done.\n",
            "Unzipping...Done.\n"
          ],
          "name": "stdout"
        }
      ]
    },
    {
      "cell_type": "code",
      "metadata": {
        "id": "0ScGtK_SgXj6"
      },
      "source": [
        "#Importing Libraries\r\n",
        "import numpy as np\r\n",
        "import matplotlib.pyplot as plt\r\n",
        "import pandas as pd\r\n",
        "from sklearn.model_selection import train_test_split\r\n",
        "from sklearn.linear_model import LogisticRegression\r\n",
        "from sklearn.preprocessing import PowerTransformer\r\n",
        "import seaborn as sns\r\n",
        "from scipy.stats import chi2_contingency\r\n",
        "from sklearn.preprocessing import LabelEncoder\r\n",
        "from sklearn.feature_selection import SelectFromModel\r\n",
        "from sklearn.linear_model import Lasso\r\n",
        "from sklearn.metrics import roc_auc_score\r\n",
        "from sklearn.metrics import f1_score\r\n",
        "from sklearn.tree import DecisionTreeClassifier\r\n",
        "from sklearn.ensemble import RandomForestClassifier\r\n",
        "%matplotlib inline"
      ],
      "execution_count": 2,
      "outputs": []
    },
    {
      "cell_type": "code",
      "metadata": {
        "id": "K5rUhNjwg4WR"
      },
      "source": [
        "#Loading the training and testing data\r\n",
        "train_data = pd.read_csv(\"/content/content/train_Df64byy.csv\")\r\n",
        "test_data = pd.read_csv(\"/content/content/test_YCcRUnU.csv\")"
      ],
      "execution_count": 3,
      "outputs": []
    },
    {
      "cell_type": "code",
      "metadata": {
        "colab": {
          "base_uri": "https://localhost:8080/",
          "height": 233
        },
        "id": "JBEvp7GIhG0K",
        "outputId": "e06cbdd0-4a48-41d6-91bc-e6196c658934"
      },
      "source": [
        "train_data.head()"
      ],
      "execution_count": null,
      "outputs": [
        {
          "output_type": "execute_result",
          "data": {
            "text/html": [
              "<div>\n",
              "<style scoped>\n",
              "    .dataframe tbody tr th:only-of-type {\n",
              "        vertical-align: middle;\n",
              "    }\n",
              "\n",
              "    .dataframe tbody tr th {\n",
              "        vertical-align: top;\n",
              "    }\n",
              "\n",
              "    .dataframe thead th {\n",
              "        text-align: right;\n",
              "    }\n",
              "</style>\n",
              "<table border=\"1\" class=\"dataframe\">\n",
              "  <thead>\n",
              "    <tr style=\"text-align: right;\">\n",
              "      <th></th>\n",
              "      <th>ID</th>\n",
              "      <th>City_Code</th>\n",
              "      <th>Region_Code</th>\n",
              "      <th>Accomodation_Type</th>\n",
              "      <th>Reco_Insurance_Type</th>\n",
              "      <th>Upper_Age</th>\n",
              "      <th>Lower_Age</th>\n",
              "      <th>Is_Spouse</th>\n",
              "      <th>Health Indicator</th>\n",
              "      <th>Holding_Policy_Duration</th>\n",
              "      <th>Holding_Policy_Type</th>\n",
              "      <th>Reco_Policy_Cat</th>\n",
              "      <th>Reco_Policy_Premium</th>\n",
              "      <th>Response</th>\n",
              "    </tr>\n",
              "  </thead>\n",
              "  <tbody>\n",
              "    <tr>\n",
              "      <th>0</th>\n",
              "      <td>1</td>\n",
              "      <td>C3</td>\n",
              "      <td>3213</td>\n",
              "      <td>Rented</td>\n",
              "      <td>Individual</td>\n",
              "      <td>36</td>\n",
              "      <td>36</td>\n",
              "      <td>No</td>\n",
              "      <td>X1</td>\n",
              "      <td>14+</td>\n",
              "      <td>3.0</td>\n",
              "      <td>22</td>\n",
              "      <td>11628.0</td>\n",
              "      <td>0</td>\n",
              "    </tr>\n",
              "    <tr>\n",
              "      <th>1</th>\n",
              "      <td>2</td>\n",
              "      <td>C5</td>\n",
              "      <td>1117</td>\n",
              "      <td>Owned</td>\n",
              "      <td>Joint</td>\n",
              "      <td>75</td>\n",
              "      <td>22</td>\n",
              "      <td>No</td>\n",
              "      <td>X2</td>\n",
              "      <td>NaN</td>\n",
              "      <td>NaN</td>\n",
              "      <td>22</td>\n",
              "      <td>30510.0</td>\n",
              "      <td>0</td>\n",
              "    </tr>\n",
              "    <tr>\n",
              "      <th>2</th>\n",
              "      <td>3</td>\n",
              "      <td>C5</td>\n",
              "      <td>3732</td>\n",
              "      <td>Owned</td>\n",
              "      <td>Individual</td>\n",
              "      <td>32</td>\n",
              "      <td>32</td>\n",
              "      <td>No</td>\n",
              "      <td>NaN</td>\n",
              "      <td>1.0</td>\n",
              "      <td>1.0</td>\n",
              "      <td>19</td>\n",
              "      <td>7450.0</td>\n",
              "      <td>1</td>\n",
              "    </tr>\n",
              "    <tr>\n",
              "      <th>3</th>\n",
              "      <td>4</td>\n",
              "      <td>C24</td>\n",
              "      <td>4378</td>\n",
              "      <td>Owned</td>\n",
              "      <td>Joint</td>\n",
              "      <td>52</td>\n",
              "      <td>48</td>\n",
              "      <td>No</td>\n",
              "      <td>X1</td>\n",
              "      <td>14+</td>\n",
              "      <td>3.0</td>\n",
              "      <td>19</td>\n",
              "      <td>17780.0</td>\n",
              "      <td>0</td>\n",
              "    </tr>\n",
              "    <tr>\n",
              "      <th>4</th>\n",
              "      <td>5</td>\n",
              "      <td>C8</td>\n",
              "      <td>2190</td>\n",
              "      <td>Rented</td>\n",
              "      <td>Individual</td>\n",
              "      <td>44</td>\n",
              "      <td>44</td>\n",
              "      <td>No</td>\n",
              "      <td>X2</td>\n",
              "      <td>3.0</td>\n",
              "      <td>1.0</td>\n",
              "      <td>16</td>\n",
              "      <td>10404.0</td>\n",
              "      <td>0</td>\n",
              "    </tr>\n",
              "  </tbody>\n",
              "</table>\n",
              "</div>"
            ],
            "text/plain": [
              "   ID City_Code  Region_Code  ... Reco_Policy_Cat Reco_Policy_Premium  Response\n",
              "0   1        C3         3213  ...              22             11628.0         0\n",
              "1   2        C5         1117  ...              22             30510.0         0\n",
              "2   3        C5         3732  ...              19              7450.0         1\n",
              "3   4       C24         4378  ...              19             17780.0         0\n",
              "4   5        C8         2190  ...              16             10404.0         0\n",
              "\n",
              "[5 rows x 14 columns]"
            ]
          },
          "metadata": {
            "tags": []
          },
          "execution_count": 4
        }
      ]
    },
    {
      "cell_type": "code",
      "metadata": {
        "colab": {
          "base_uri": "https://localhost:8080/"
        },
        "id": "kk61RYdyhhQp",
        "outputId": "5e5ea8d5-58c6-4009-8bbb-dbbe75c95966"
      },
      "source": [
        "# Displaying total records in training and testing data\r\n",
        "print(\"There are {} rows and {} columns in training data.\".format(train_data.shape[0],train_data.shape[1]))\r\n",
        "print(\"There are {} rows and {} columns in testing data.\".format(test_data.shape[0],test_data.shape[1]))"
      ],
      "execution_count": null,
      "outputs": [
        {
          "output_type": "stream",
          "text": [
            "There are 50882 rows and 14 columns in training data.\n",
            "There are 21805 rows and 13 columns in testing data.\n"
          ],
          "name": "stdout"
        }
      ]
    },
    {
      "cell_type": "code",
      "metadata": {
        "colab": {
          "base_uri": "https://localhost:8080/",
          "height": 286
        },
        "id": "IxtLXIJSh72B",
        "outputId": "51942faa-5c8c-4425-9d80-3a5d6babf250"
      },
      "source": [
        "#Exploratory Data Analysis for training data\r\n",
        "#Checking the dtypes and info of the training dataset\r\n",
        "train_data.describe()"
      ],
      "execution_count": null,
      "outputs": [
        {
          "output_type": "execute_result",
          "data": {
            "text/html": [
              "<div>\n",
              "<style scoped>\n",
              "    .dataframe tbody tr th:only-of-type {\n",
              "        vertical-align: middle;\n",
              "    }\n",
              "\n",
              "    .dataframe tbody tr th {\n",
              "        vertical-align: top;\n",
              "    }\n",
              "\n",
              "    .dataframe thead th {\n",
              "        text-align: right;\n",
              "    }\n",
              "</style>\n",
              "<table border=\"1\" class=\"dataframe\">\n",
              "  <thead>\n",
              "    <tr style=\"text-align: right;\">\n",
              "      <th></th>\n",
              "      <th>ID</th>\n",
              "      <th>Region_Code</th>\n",
              "      <th>Upper_Age</th>\n",
              "      <th>Lower_Age</th>\n",
              "      <th>Holding_Policy_Type</th>\n",
              "      <th>Reco_Policy_Cat</th>\n",
              "      <th>Reco_Policy_Premium</th>\n",
              "      <th>Response</th>\n",
              "    </tr>\n",
              "  </thead>\n",
              "  <tbody>\n",
              "    <tr>\n",
              "      <th>count</th>\n",
              "      <td>50882.000000</td>\n",
              "      <td>50882.000000</td>\n",
              "      <td>50882.000000</td>\n",
              "      <td>50882.000000</td>\n",
              "      <td>30631.000000</td>\n",
              "      <td>50882.000000</td>\n",
              "      <td>50882.000000</td>\n",
              "      <td>50882.000000</td>\n",
              "    </tr>\n",
              "    <tr>\n",
              "      <th>mean</th>\n",
              "      <td>25441.500000</td>\n",
              "      <td>1732.788707</td>\n",
              "      <td>44.856275</td>\n",
              "      <td>42.738866</td>\n",
              "      <td>2.439228</td>\n",
              "      <td>15.115188</td>\n",
              "      <td>14183.950069</td>\n",
              "      <td>0.239947</td>\n",
              "    </tr>\n",
              "    <tr>\n",
              "      <th>std</th>\n",
              "      <td>14688.512535</td>\n",
              "      <td>1424.081652</td>\n",
              "      <td>17.310271</td>\n",
              "      <td>17.319375</td>\n",
              "      <td>1.025923</td>\n",
              "      <td>6.340663</td>\n",
              "      <td>6590.074873</td>\n",
              "      <td>0.427055</td>\n",
              "    </tr>\n",
              "    <tr>\n",
              "      <th>min</th>\n",
              "      <td>1.000000</td>\n",
              "      <td>1.000000</td>\n",
              "      <td>18.000000</td>\n",
              "      <td>16.000000</td>\n",
              "      <td>1.000000</td>\n",
              "      <td>1.000000</td>\n",
              "      <td>2280.000000</td>\n",
              "      <td>0.000000</td>\n",
              "    </tr>\n",
              "    <tr>\n",
              "      <th>25%</th>\n",
              "      <td>12721.250000</td>\n",
              "      <td>523.000000</td>\n",
              "      <td>28.000000</td>\n",
              "      <td>27.000000</td>\n",
              "      <td>1.000000</td>\n",
              "      <td>12.000000</td>\n",
              "      <td>9248.000000</td>\n",
              "      <td>0.000000</td>\n",
              "    </tr>\n",
              "    <tr>\n",
              "      <th>50%</th>\n",
              "      <td>25441.500000</td>\n",
              "      <td>1391.000000</td>\n",
              "      <td>44.000000</td>\n",
              "      <td>40.000000</td>\n",
              "      <td>3.000000</td>\n",
              "      <td>17.000000</td>\n",
              "      <td>13178.000000</td>\n",
              "      <td>0.000000</td>\n",
              "    </tr>\n",
              "    <tr>\n",
              "      <th>75%</th>\n",
              "      <td>38161.750000</td>\n",
              "      <td>2667.000000</td>\n",
              "      <td>59.000000</td>\n",
              "      <td>57.000000</td>\n",
              "      <td>3.000000</td>\n",
              "      <td>20.000000</td>\n",
              "      <td>18096.000000</td>\n",
              "      <td>0.000000</td>\n",
              "    </tr>\n",
              "    <tr>\n",
              "      <th>max</th>\n",
              "      <td>50882.000000</td>\n",
              "      <td>6194.000000</td>\n",
              "      <td>75.000000</td>\n",
              "      <td>75.000000</td>\n",
              "      <td>4.000000</td>\n",
              "      <td>22.000000</td>\n",
              "      <td>43350.400000</td>\n",
              "      <td>1.000000</td>\n",
              "    </tr>\n",
              "  </tbody>\n",
              "</table>\n",
              "</div>"
            ],
            "text/plain": [
              "                 ID   Region_Code  ...  Reco_Policy_Premium      Response\n",
              "count  50882.000000  50882.000000  ...         50882.000000  50882.000000\n",
              "mean   25441.500000   1732.788707  ...         14183.950069      0.239947\n",
              "std    14688.512535   1424.081652  ...          6590.074873      0.427055\n",
              "min        1.000000      1.000000  ...          2280.000000      0.000000\n",
              "25%    12721.250000    523.000000  ...          9248.000000      0.000000\n",
              "50%    25441.500000   1391.000000  ...         13178.000000      0.000000\n",
              "75%    38161.750000   2667.000000  ...         18096.000000      0.000000\n",
              "max    50882.000000   6194.000000  ...         43350.400000      1.000000\n",
              "\n",
              "[8 rows x 8 columns]"
            ]
          },
          "metadata": {
            "tags": []
          },
          "execution_count": 6
        }
      ]
    },
    {
      "cell_type": "code",
      "metadata": {
        "colab": {
          "base_uri": "https://localhost:8080/"
        },
        "id": "uyFpUP97irOB",
        "outputId": "7d51c505-aac7-49ad-cb99-ad1ef3cfea1e"
      },
      "source": [
        "train_data.info()"
      ],
      "execution_count": null,
      "outputs": [
        {
          "output_type": "stream",
          "text": [
            "<class 'pandas.core.frame.DataFrame'>\n",
            "RangeIndex: 50882 entries, 0 to 50881\n",
            "Data columns (total 14 columns):\n",
            " #   Column                   Non-Null Count  Dtype  \n",
            "---  ------                   --------------  -----  \n",
            " 0   ID                       50882 non-null  int64  \n",
            " 1   City_Code                50882 non-null  object \n",
            " 2   Region_Code              50882 non-null  int64  \n",
            " 3   Accomodation_Type        50882 non-null  object \n",
            " 4   Reco_Insurance_Type      50882 non-null  object \n",
            " 5   Upper_Age                50882 non-null  int64  \n",
            " 6   Lower_Age                50882 non-null  int64  \n",
            " 7   Is_Spouse                50882 non-null  object \n",
            " 8   Health Indicator         39191 non-null  object \n",
            " 9   Holding_Policy_Duration  30631 non-null  object \n",
            " 10  Holding_Policy_Type      30631 non-null  float64\n",
            " 11  Reco_Policy_Cat          50882 non-null  int64  \n",
            " 12  Reco_Policy_Premium      50882 non-null  float64\n",
            " 13  Response                 50882 non-null  int64  \n",
            "dtypes: float64(2), int64(6), object(6)\n",
            "memory usage: 5.4+ MB\n"
          ],
          "name": "stdout"
        }
      ]
    },
    {
      "cell_type": "code",
      "metadata": {
        "colab": {
          "base_uri": "https://localhost:8080/"
        },
        "id": "W5rmg81Ni2hx",
        "outputId": "219bda1a-dbdf-4a02-d29c-8f09f855b234"
      },
      "source": [
        "#Checking the null values\r\n",
        "train_data.isnull().any()"
      ],
      "execution_count": null,
      "outputs": [
        {
          "output_type": "execute_result",
          "data": {
            "text/plain": [
              "ID                         False\n",
              "City_Code                  False\n",
              "Region_Code                False\n",
              "Accomodation_Type          False\n",
              "Reco_Insurance_Type        False\n",
              "Upper_Age                  False\n",
              "Lower_Age                  False\n",
              "Is_Spouse                  False\n",
              "Health Indicator            True\n",
              "Holding_Policy_Duration     True\n",
              "Holding_Policy_Type         True\n",
              "Reco_Policy_Cat            False\n",
              "Reco_Policy_Premium        False\n",
              "Response                   False\n",
              "dtype: bool"
            ]
          },
          "metadata": {
            "tags": []
          },
          "execution_count": 10
        }
      ]
    },
    {
      "cell_type": "code",
      "metadata": {
        "colab": {
          "base_uri": "https://localhost:8080/",
          "height": 648
        },
        "id": "nSsw84JDjPyB",
        "outputId": "149f5914-baef-40ed-c5fa-60e5e541a7ab"
      },
      "source": [
        "# Visulizing null values\r\n",
        "plt.figure(figsize=(13,9))\r\n",
        "sns.heatmap(train_data.isnull(),yticklabels=False,cbar=False,cmap='viridis')\r\n",
        "plt.show()"
      ],
      "execution_count": null,
      "outputs": [
        {
          "output_type": "display_data",
          "data": {
            "image/png": "[encoded data removed]",
            "text/plain": [
              "<Figure size 936x648 with 1 Axes>"
            ]
          },
          "metadata": {
            "tags": [],
            "needs_background": "light"
          }
        }
      ]
    },
    {
      "cell_type": "code",
      "metadata": {
        "colab": {
          "base_uri": "https://localhost:8080/"
        },
        "id": "3_Tp63IBk6mS",
        "outputId": "b05fcbdf-1c5d-47f2-d82c-62745b2f7ec5"
      },
      "source": [
        "#Investigating average null values\r\n",
        "features_with_nan = [feature for feature in train_data.columns if train_data[feature].isnull().sum()>=1]\r\n",
        "for features in features_with_nan:\r\n",
        "  print(features,np.round(train_data[features].isnull().mean(),4),'%missing values')"
      ],
      "execution_count": null,
      "outputs": [
        {
          "output_type": "stream",
          "text": [
            "Health Indicator 0.2298 %missing values\n",
            "Holding_Policy_Duration 0.398 %missing values\n",
            "Holding_Policy_Type 0.398 %missing values\n"
          ],
          "name": "stdout"
        }
      ]
    },
    {
      "cell_type": "code",
      "metadata": {
        "colab": {
          "base_uri": "https://localhost:8080/"
        },
        "id": "vkf7hkm2lw2Z",
        "outputId": "030f6d90-5f4d-40d4-ab43-6cab520991c8"
      },
      "source": [
        "#Understanding the relationship between missing values and target values\r\n",
        "for feature in features_with_nan:\r\n",
        "  data_copy = train_data.copy()\r\n",
        "  data_copy[feature] = np.where(data_copy[feature].isnull(),1,0)\r\n",
        "  print(chi2_contingency(pd.crosstab(data_copy[feature],train_data['Response'])))"
      ],
      "execution_count": null,
      "outputs": [
        {
          "output_type": "stream",
          "text": [
            "(2.7110256745098207, 0.09965689805327917, 1, array([[29787.22422468,  9403.77577532],\n",
            "       [ 8885.77577532,  2805.22422468]]))\n",
            "(0.17408208394698832, 0.6765091224363439, 1, array([[23281.1733619,  7349.8266381],\n",
            "       [15391.8266381,  4859.1733619]]))\n",
            "(0.17408208394698832, 0.6765091224363439, 1, array([[23281.1733619,  7349.8266381],\n",
            "       [15391.8266381,  4859.1733619]]))\n"
          ],
          "name": "stdout"
        }
      ]
    },
    {
      "cell_type": "markdown",
      "metadata": {
        "id": "Nq8DppciD6MT"
      },
      "source": [
        "### The above matrix shows that the missing feature are not related with the target value since the p-value for the features > 0.05"
      ]
    },
    {
      "cell_type": "code",
      "metadata": {
        "colab": {
          "base_uri": "https://localhost:8080/",
          "height": 213
        },
        "id": "zWeot9KmmxHI",
        "outputId": "b96c7b9b-518f-4537-b09e-c92866afc0a4"
      },
      "source": [
        "#Numerical Variables in data\r\n",
        "numerical_features = [feature for feature in train_data.columns if train_data[feature].dtypes!='O']\r\n",
        "print(\"The number of numerical variables in dataset is :{}\".format(len(numerical_features)))\r\n",
        "train_data[numerical_features].head()"
      ],
      "execution_count": null,
      "outputs": [
        {
          "output_type": "stream",
          "text": [
            "The number of numerical variables in dataset is :8\n"
          ],
          "name": "stdout"
        },
        {
          "output_type": "execute_result",
          "data": {
            "text/html": [
              "<div>\n",
              "<style scoped>\n",
              "    .dataframe tbody tr th:only-of-type {\n",
              "        vertical-align: middle;\n",
              "    }\n",
              "\n",
              "    .dataframe tbody tr th {\n",
              "        vertical-align: top;\n",
              "    }\n",
              "\n",
              "    .dataframe thead th {\n",
              "        text-align: right;\n",
              "    }\n",
              "</style>\n",
              "<table border=\"1\" class=\"dataframe\">\n",
              "  <thead>\n",
              "    <tr style=\"text-align: right;\">\n",
              "      <th></th>\n",
              "      <th>ID</th>\n",
              "      <th>Region_Code</th>\n",
              "      <th>Upper_Age</th>\n",
              "      <th>Lower_Age</th>\n",
              "      <th>Holding_Policy_Type</th>\n",
              "      <th>Reco_Policy_Cat</th>\n",
              "      <th>Reco_Policy_Premium</th>\n",
              "      <th>Response</th>\n",
              "    </tr>\n",
              "  </thead>\n",
              "  <tbody>\n",
              "    <tr>\n",
              "      <th>0</th>\n",
              "      <td>1</td>\n",
              "      <td>3213</td>\n",
              "      <td>36</td>\n",
              "      <td>36</td>\n",
              "      <td>3.0</td>\n",
              "      <td>22</td>\n",
              "      <td>11628.0</td>\n",
              "      <td>0</td>\n",
              "    </tr>\n",
              "    <tr>\n",
              "      <th>1</th>\n",
              "      <td>2</td>\n",
              "      <td>1117</td>\n",
              "      <td>75</td>\n",
              "      <td>22</td>\n",
              "      <td>NaN</td>\n",
              "      <td>22</td>\n",
              "      <td>30510.0</td>\n",
              "      <td>0</td>\n",
              "    </tr>\n",
              "    <tr>\n",
              "      <th>2</th>\n",
              "      <td>3</td>\n",
              "      <td>3732</td>\n",
              "      <td>32</td>\n",
              "      <td>32</td>\n",
              "      <td>1.0</td>\n",
              "      <td>19</td>\n",
              "      <td>7450.0</td>\n",
              "      <td>1</td>\n",
              "    </tr>\n",
              "    <tr>\n",
              "      <th>3</th>\n",
              "      <td>4</td>\n",
              "      <td>4378</td>\n",
              "      <td>52</td>\n",
              "      <td>48</td>\n",
              "      <td>3.0</td>\n",
              "      <td>19</td>\n",
              "      <td>17780.0</td>\n",
              "      <td>0</td>\n",
              "    </tr>\n",
              "    <tr>\n",
              "      <th>4</th>\n",
              "      <td>5</td>\n",
              "      <td>2190</td>\n",
              "      <td>44</td>\n",
              "      <td>44</td>\n",
              "      <td>1.0</td>\n",
              "      <td>16</td>\n",
              "      <td>10404.0</td>\n",
              "      <td>0</td>\n",
              "    </tr>\n",
              "  </tbody>\n",
              "</table>\n",
              "</div>"
            ],
            "text/plain": [
              "   ID  Region_Code  Upper_Age  ...  Reco_Policy_Cat  Reco_Policy_Premium  Response\n",
              "0   1         3213         36  ...               22              11628.0         0\n",
              "1   2         1117         75  ...               22              30510.0         0\n",
              "2   3         3732         32  ...               19               7450.0         1\n",
              "3   4         4378         52  ...               19              17780.0         0\n",
              "4   5         2190         44  ...               16              10404.0         0\n",
              "\n",
              "[5 rows x 8 columns]"
            ]
          },
          "metadata": {
            "tags": []
          },
          "execution_count": 127
        }
      ]
    },
    {
      "cell_type": "code",
      "metadata": {
        "colab": {
          "base_uri": "https://localhost:8080/",
          "height": 213
        },
        "id": "LlPdRagBncv5",
        "outputId": "5c517eb2-e70b-4d37-fb6e-81b800c41ccd"
      },
      "source": [
        "#Discrete variables in data\r\n",
        "discrete_features = [feature for feature in numerical_features if len(train_data[feature].unique())<25 and feature not in ['Response'] ]\r\n",
        "print(\"The number of discrete features are :{} \".format(len(discrete_features)))\r\n",
        "train_data[discrete_features].head()"
      ],
      "execution_count": null,
      "outputs": [
        {
          "output_type": "stream",
          "text": [
            "The number of discrete features are :2 \n"
          ],
          "name": "stdout"
        },
        {
          "output_type": "execute_result",
          "data": {
            "text/html": [
              "<div>\n",
              "<style scoped>\n",
              "    .dataframe tbody tr th:only-of-type {\n",
              "        vertical-align: middle;\n",
              "    }\n",
              "\n",
              "    .dataframe tbody tr th {\n",
              "        vertical-align: top;\n",
              "    }\n",
              "\n",
              "    .dataframe thead th {\n",
              "        text-align: right;\n",
              "    }\n",
              "</style>\n",
              "<table border=\"1\" class=\"dataframe\">\n",
              "  <thead>\n",
              "    <tr style=\"text-align: right;\">\n",
              "      <th></th>\n",
              "      <th>Holding_Policy_Type</th>\n",
              "      <th>Reco_Policy_Cat</th>\n",
              "    </tr>\n",
              "  </thead>\n",
              "  <tbody>\n",
              "    <tr>\n",
              "      <th>0</th>\n",
              "      <td>3.0</td>\n",
              "      <td>22</td>\n",
              "    </tr>\n",
              "    <tr>\n",
              "      <th>1</th>\n",
              "      <td>NaN</td>\n",
              "      <td>22</td>\n",
              "    </tr>\n",
              "    <tr>\n",
              "      <th>2</th>\n",
              "      <td>1.0</td>\n",
              "      <td>19</td>\n",
              "    </tr>\n",
              "    <tr>\n",
              "      <th>3</th>\n",
              "      <td>3.0</td>\n",
              "      <td>19</td>\n",
              "    </tr>\n",
              "    <tr>\n",
              "      <th>4</th>\n",
              "      <td>1.0</td>\n",
              "      <td>16</td>\n",
              "    </tr>\n",
              "  </tbody>\n",
              "</table>\n",
              "</div>"
            ],
            "text/plain": [
              "   Holding_Policy_Type  Reco_Policy_Cat\n",
              "0                  3.0               22\n",
              "1                  NaN               22\n",
              "2                  1.0               19\n",
              "3                  3.0               19\n",
              "4                  1.0               16"
            ]
          },
          "metadata": {
            "tags": []
          },
          "execution_count": 128
        }
      ]
    },
    {
      "cell_type": "code",
      "metadata": {
        "colab": {
          "base_uri": "https://localhost:8080/"
        },
        "id": "Ib8XBKdjpBCQ",
        "outputId": "ca563e5e-4f36-4994-ab33-0334391cb18f"
      },
      "source": [
        "#Relationship between target and discrete features\r\n",
        "for feature in discrete_features:\r\n",
        "  data_copy = train_data.copy()\r\n",
        "  print(chi2_contingency(pd.crosstab(data_copy[feature],train_data['Response'])))"
      ],
      "execution_count": null,
      "outputs": [
        {
          "output_type": "stream",
          "text": [
            "(2.7827600712944203, 0.42634578504540277, 3, array([[ 6206.52779864,  1966.47220136],\n",
            "       [ 3800.76735986,  1204.23264014],\n",
            "       [10083.99396037,  3195.00603963],\n",
            "       [ 3169.71088113,  1004.28911887]]))\n",
            "(1987.7494053076875, 0.0, 21, array([[1495.02360363,  471.97639637],\n",
            "       [1457.02097009,  459.97902991],\n",
            "       [ 804.89577847,  254.10422153],\n",
            "       [ 771.45346095,  243.54653905],\n",
            "       [ 765.37303958,  241.62696042],\n",
            "       [ 646.80482292,  204.19517708],\n",
            "       [ 633.88392752,  200.11607248],\n",
            "       [ 589.80087261,  186.19912739],\n",
            "       [ 599.68155733,  189.31844267],\n",
            "       [ 585.24055658,  184.75944342],\n",
            "       [ 593.60113596,  187.39886404],\n",
            "       [1647.79419048,  520.20580952],\n",
            "       [1279.92869777,  404.07130223],\n",
            "       [1324.01175268,  417.98824732],\n",
            "       [1227.48506348,  387.51493652],\n",
            "       [3104.0551079 ,  979.9448921 ],\n",
            "       [2854.75783185,  901.24216815],\n",
            "       [4220.57248143, 1332.42751857],\n",
            "       [2818.27530364,  889.72469636],\n",
            "       [2414.6873354 ,  762.3126646 ],\n",
            "       [3820.78477654, 1206.21522346],\n",
            "       [5017.86773319, 1584.13226681]]))\n"
          ],
          "name": "stdout"
        }
      ]
    },
    {
      "cell_type": "markdown",
      "metadata": {
        "id": "hjBZXRrVHt16"
      },
      "source": [
        "### The above test shows that the column 'Reco_Policy_Cat' is related to target variable 'Response' since its p-value < 0.05"
      ]
    },
    {
      "cell_type": "code",
      "metadata": {
        "id": "N2kR5vQ_p8w_",
        "colab": {
          "base_uri": "https://localhost:8080/",
          "height": 213
        },
        "outputId": "ec643136-7958-4cf0-f7b4-70f7c7c83d37"
      },
      "source": [
        "#Continuous features\r\n",
        "continous_features = [feature for feature in numerical_features if feature not in discrete_features and feature not in ['ID']]\r\n",
        "print(\"The number of continous variables are : {}\".format(len(continous_features)))\r\n",
        "train_data[continous_features].head()"
      ],
      "execution_count": null,
      "outputs": [
        {
          "output_type": "stream",
          "text": [
            "The number of continous variables are : 5\n"
          ],
          "name": "stdout"
        },
        {
          "output_type": "execute_result",
          "data": {
            "text/html": [
              "<div>\n",
              "<style scoped>\n",
              "    .dataframe tbody tr th:only-of-type {\n",
              "        vertical-align: middle;\n",
              "    }\n",
              "\n",
              "    .dataframe tbody tr th {\n",
              "        vertical-align: top;\n",
              "    }\n",
              "\n",
              "    .dataframe thead th {\n",
              "        text-align: right;\n",
              "    }\n",
              "</style>\n",
              "<table border=\"1\" class=\"dataframe\">\n",
              "  <thead>\n",
              "    <tr style=\"text-align: right;\">\n",
              "      <th></th>\n",
              "      <th>Region_Code</th>\n",
              "      <th>Upper_Age</th>\n",
              "      <th>Lower_Age</th>\n",
              "      <th>Reco_Policy_Premium</th>\n",
              "      <th>Response</th>\n",
              "    </tr>\n",
              "  </thead>\n",
              "  <tbody>\n",
              "    <tr>\n",
              "      <th>0</th>\n",
              "      <td>3213</td>\n",
              "      <td>36</td>\n",
              "      <td>36</td>\n",
              "      <td>11628.0</td>\n",
              "      <td>0</td>\n",
              "    </tr>\n",
              "    <tr>\n",
              "      <th>1</th>\n",
              "      <td>1117</td>\n",
              "      <td>75</td>\n",
              "      <td>22</td>\n",
              "      <td>30510.0</td>\n",
              "      <td>0</td>\n",
              "    </tr>\n",
              "    <tr>\n",
              "      <th>2</th>\n",
              "      <td>3732</td>\n",
              "      <td>32</td>\n",
              "      <td>32</td>\n",
              "      <td>7450.0</td>\n",
              "      <td>1</td>\n",
              "    </tr>\n",
              "    <tr>\n",
              "      <th>3</th>\n",
              "      <td>4378</td>\n",
              "      <td>52</td>\n",
              "      <td>48</td>\n",
              "      <td>17780.0</td>\n",
              "      <td>0</td>\n",
              "    </tr>\n",
              "    <tr>\n",
              "      <th>4</th>\n",
              "      <td>2190</td>\n",
              "      <td>44</td>\n",
              "      <td>44</td>\n",
              "      <td>10404.0</td>\n",
              "      <td>0</td>\n",
              "    </tr>\n",
              "  </tbody>\n",
              "</table>\n",
              "</div>"
            ],
            "text/plain": [
              "   Region_Code  Upper_Age  Lower_Age  Reco_Policy_Premium  Response\n",
              "0         3213         36         36              11628.0         0\n",
              "1         1117         75         22              30510.0         0\n",
              "2         3732         32         32               7450.0         1\n",
              "3         4378         52         48              17780.0         0\n",
              "4         2190         44         44              10404.0         0"
            ]
          },
          "metadata": {
            "tags": []
          },
          "execution_count": 130
        }
      ]
    },
    {
      "cell_type": "code",
      "metadata": {
        "colab": {
          "base_uri": "https://localhost:8080/",
          "height": 1000
        },
        "id": "xWazBMgmqw7Y",
        "outputId": "9b1eec16-3998-444d-bcc6-9a76216c0d97"
      },
      "source": [
        "#Relationship between continous feature and target\r\n",
        "for fetaure in continous_features:\r\n",
        "  data_copy = train_data.copy()\r\n",
        "  data_copy[fetaure].hist(bins=25)\r\n",
        "  plt.xlabel(fetaure)\r\n",
        "  plt.ylabel('Response')\r\n",
        "  plt.show()"
      ],
      "execution_count": null,
      "outputs": [
        {
          "output_type": "display_data",
          "data": {
            "image/png": "[encoded data removed]",
            "text/plain": [
              "<Figure size 432x288 with 1 Axes>"
            ]
          },
          "metadata": {
            "tags": [],
            "needs_background": "light"
          }
        },
        {
          "output_type": "display_data",
          "data": {
            "image/png": "[encoded data removed]",
            "text/plain": [
              "<Figure size 432x288 with 1 Axes>"
            ]
          },
          "metadata": {
            "tags": [],
            "needs_background": "light"
          }
        },
        {
          "output_type": "display_data",
          "data": {
            "image/png": "[encoded data removed]",
            "text/plain": [
              "<Figure size 432x288 with 1 Axes>"
            ]
          },
          "metadata": {
            "tags": [],
            "needs_background": "light"
          }
        },
        {
          "output_type": "display_data",
          "data": {
            "image/png": "[encoded data removed]",
            "text/plain": [
              "<Figure size 432x288 with 1 Axes>"
            ]
          },
          "metadata": {
            "tags": [],
            "needs_background": "light"
          }
        },
        {
          "output_type": "display_data",
          "data": {
            "image/png": "[encoded data removed]",
            "text/plain": [
              "<Figure size 432x288 with 1 Axes>"
            ]
          },
          "metadata": {
            "tags": [],
            "needs_background": "light"
          }
        }
      ]
    },
    {
      "cell_type": "markdown",
      "metadata": {
        "id": "hryXyFEEtJWV"
      },
      "source": [
        "### From the visulaization, it appears that all the continous features are right skewed distributed."
      ]
    },
    {
      "cell_type": "code",
      "metadata": {
        "colab": {
          "base_uri": "https://localhost:8080/"
        },
        "id": "PzYhn7SX5Pr_",
        "outputId": "37edbb1b-51af-4f8e-95e7-d9193ccc3e68"
      },
      "source": [
        "# Applying chi-squared test on continous data\r\n",
        "for feature in continous_features:\r\n",
        "    data_copy = train_data.copy()\r\n",
        "    print(chi2_contingency(pd.crosstab(data_copy[feature],train_data['Response'])))"
      ],
      "execution_count": null,
      "outputs": [
        {
          "output_type": "stream",
          "text": [
            "(5294.103798017927, 0.5778800960227055, 5315, array([[72.96505641, 23.03494359],\n",
            "       [55.48384497, 17.51615503],\n",
            "       [55.48384497, 17.51615503],\n",
            "       ...,\n",
            "       [ 0.76005267,  0.23994733],\n",
            "       [ 0.76005267,  0.23994733],\n",
            "       [ 0.76005267,  0.23994733]]))\n",
            "(75.73754202340912, 0.049095554608295316, 57, array([[  88.16610982,   27.83389018],\n",
            "       [ 391.42712551,  123.57287449],\n",
            "       [ 576.11992453,  181.88007547],\n",
            "       [ 857.33941276,  270.66058724],\n",
            "       [1187.96232459,  375.03767541],\n",
            "       [1270.04801305,  400.95198695],\n",
            "       [1255.6070123 ,  396.3929877 ],\n",
            "       [1249.52659094,  394.47340906],\n",
            "       [1110.43695216,  350.56304784],\n",
            "       [ 947.02562792,  298.97437208],\n",
            "       [ 910.54309972,  287.45690028],\n",
            "       [ 755.49235486,  238.50764514],\n",
            "       [ 741.05135411,  233.94864589],\n",
            "       [ 681.00719311,  214.99280689],\n",
            "       [ 692.40798318,  218.59201682],\n",
            "       [ 620.96303211,  196.03696789],\n",
            "       [ 611.84240006,  193.15759994],\n",
            "       [ 612.60245273,  193.39754727],\n",
            "       [ 554.07839708,  174.92160292],\n",
            "       [ 557.11860776,  175.88139224],\n",
            "       [ 569.27945049,  179.72054951],\n",
            "       [ 523.67629024,  165.32370976],\n",
            "       [ 553.3183444 ,  174.6816556 ],\n",
            "       [ 595.1212413 ,  187.8787587 ],\n",
            "       [ 625.52334814,  197.47665186],\n",
            "       [ 633.12387485,  199.87612515],\n",
            "       [ 618.6828741 ,  195.3171259 ],\n",
            "       [ 601.20166267,  189.79833733],\n",
            "       [ 615.64266342,  194.35733658],\n",
            "       [ 595.1212413 ,  187.8787587 ],\n",
            "       [ 653.64529696,  206.35470304],\n",
            "       [ 593.60113596,  187.39886404],\n",
            "       [ 605.7619787 ,  191.2380213 ],\n",
            "       [ 611.08234739,  192.91765261],\n",
            "       [ 669.60640305,  211.39359695],\n",
            "       [ 614.88261075,  194.11738925],\n",
            "       [ 627.04345348,  197.95654652],\n",
            "       [ 667.32624504,  210.67375496],\n",
            "       [ 620.20297944,  195.79702056],\n",
            "       [ 601.96171534,  190.03828466],\n",
            "       [ 612.60245273,  193.39754727],\n",
            "       [ 582.96039857,  184.03960143],\n",
            "       [ 578.40008254,  182.59991746],\n",
            "       [ 583.72045124,  184.27954876],\n",
            "       [ 549.51808105,  173.48191895],\n",
            "       [ 565.47918714,  178.52081286],\n",
            "       [ 541.15750167,  170.84249833],\n",
            "       [ 574.59981919,  181.40018081],\n",
            "       [ 570.79955584,  180.20044416],\n",
            "       [ 466.67233992,  147.32766008],\n",
            "       [ 414.22870563,  130.77129437],\n",
            "       [ 453.75144452,  143.24855548],\n",
            "       [ 506.19507881,  159.80492119],\n",
            "       [ 437.79033843,  138.20966157],\n",
            "       [ 389.14696749,  122.85303251],\n",
            "       [ 373.94591408,  118.05408592],\n",
            "       [ 338.98349121,  107.01650879],\n",
            "       [2266.47706458,  715.52293542]]))\n",
            "(80.05014326646182, 0.035481188486851306, 59, array([[ 215.09490586,   67.90509414],\n",
            "       [ 156.5708502 ,   49.4291498 ],\n",
            "       [ 272.85890885,   86.14109115],\n",
            "       [ 572.31966118,  180.68033882],\n",
            "       [ 748.65188082,  236.34811918],\n",
            "       [1019.23063166,  321.76936834],\n",
            "       [1312.61096262,  414.38903738],\n",
            "       [1398.49691443,  441.50308557],\n",
            "       [1349.09349082,  425.90650918],\n",
            "       [1355.17391219,  427.82608781],\n",
            "       [1194.04274596,  376.95725404],\n",
            "       [1020.750737  ,  322.249263  ],\n",
            "       [ 995.66899886,  314.33100114],\n",
            "       [ 820.85688456,  259.14311544],\n",
            "       [ 783.61430368,  247.38569632],\n",
            "       [ 720.529932  ,  227.470068  ],\n",
            "       [ 728.13045871,  229.86954129],\n",
            "       [ 681.00719311,  214.99280689],\n",
            "       [ 634.64398019,  200.35601981],\n",
            "       [ 640.72440156,  202.27559844],\n",
            "       [ 554.07839708,  174.92160292],\n",
            "       [ 566.23923981,  178.76076019],\n",
            "       [ 554.07839708,  174.92160292],\n",
            "       [ 515.31571086,  162.68428914],\n",
            "       [ 541.15750167,  170.84249833],\n",
            "       [ 560.15881844,  176.84118156],\n",
            "       [ 572.31966118,  180.68033882],\n",
            "       [ 579.16013521,  182.83986479],\n",
            "       [ 561.67892378,  177.32107622],\n",
            "       [ 557.87866043,  176.12133957],\n",
            "       [ 570.79955584,  180.20044416],\n",
            "       [ 565.47918714,  178.52081286],\n",
            "       [ 595.88129397,  188.11870603],\n",
            "       [ 552.55829173,  174.44170827],\n",
            "       [ 575.35987186,  181.64012814],\n",
            "       [ 577.64002987,  182.35997013],\n",
            "       [ 622.48313746,  196.51686254],\n",
            "       [ 574.59981919,  181.40018081],\n",
            "       [ 547.99797571,  173.00202429],\n",
            "       [ 642.2445069 ,  202.7554931 ],\n",
            "       [ 576.8799772 ,  182.1200228 ],\n",
            "       [ 566.99929248,  179.00070752],\n",
            "       [ 576.8799772 ,  182.1200228 ],\n",
            "       [ 524.43634291,  165.56365709],\n",
            "       [ 546.47787037,  172.52212963],\n",
            "       [ 532.03686962,  167.96313038],\n",
            "       [ 556.35855509,  175.64144491],\n",
            "       [ 513.03555285,  161.96444715],\n",
            "       [ 504.67497347,  159.32502653],\n",
            "       [ 557.11860776,  175.88139224],\n",
            "       [ 538.11729099,  169.88270901],\n",
            "       [ 395.22738886,  124.77261114],\n",
            "       [ 390.66707284,  123.33292716],\n",
            "       [ 410.42844228,  129.57155772],\n",
            "       [ 446.15091781,  140.84908219],\n",
            "       [ 401.30781023,  126.69218977],\n",
            "       [ 319.22212177,  100.77787823],\n",
            "       [ 327.58270115,  103.41729885],\n",
            "       [ 300.220805  ,   94.779195  ],\n",
            "       [1681.99656067,  531.00343933]]))\n",
            "(6827.333128059168, 0.8965298277124464, 6976, array([[1.52010534, 0.47989466],\n",
            "       [0.76005267, 0.23994733],\n",
            "       [0.76005267, 0.23994733],\n",
            "       ...,\n",
            "       [0.76005267, 0.23994733],\n",
            "       [0.76005267, 0.23994733],\n",
            "       [0.76005267, 0.23994733]]))\n",
            "(50876.5168681426, 0.0, 1, array([[29393.51694116,  9279.48305884],\n",
            "       [ 9279.48305884,  2929.51694116]]))\n"
          ],
          "name": "stdout"
        }
      ]
    },
    {
      "cell_type": "markdown",
      "metadata": {
        "id": "IK61wc9_EXrk"
      },
      "source": [
        "### From above, it appears that Upper_Age and Lower_Age columns are related to target variable 'Response'"
      ]
    },
    {
      "cell_type": "code",
      "metadata": {
        "colab": {
          "base_uri": "https://localhost:8080/",
          "height": 1000
        },
        "id": "eW9QXKXErXvn",
        "outputId": "920e3876-8bd3-40a7-f54d-9f8538811c43"
      },
      "source": [
        "#Detecting Outliers\r\n",
        "for feature in numerical_features:\r\n",
        "  data_copy = train_data.copy()\r\n",
        "  if 0 in train_data[feature].unique():\r\n",
        "    pass\r\n",
        "  else:\r\n",
        "    data_copy[fetaure] = np.log(data_copy[feature])\r\n",
        "    data_copy.boxplot(column=feature)\r\n",
        "    \r\n",
        "    plt.title(feature)\r\n",
        "    plt.show()"
      ],
      "execution_count": null,
      "outputs": [
        {
          "output_type": "display_data",
          "data": {
            "image/png": "[encoded data removed]",
            "text/plain": [
              "<Figure size 432x288 with 1 Axes>"
            ]
          },
          "metadata": {
            "tags": [],
            "needs_background": "light"
          }
        },
        {
          "output_type": "display_data",
          "data": {
            "image/png": "[encoded data removed]",
            "text/plain": [
              "<Figure size 432x288 with 1 Axes>"
            ]
          },
          "metadata": {
            "tags": [],
            "needs_background": "light"
          }
        },
        {
          "output_type": "display_data",
          "data": {
            "image/png": "[encoded data removed]",
            "text/plain": [
              "<Figure size 432x288 with 1 Axes>"
            ]
          },
          "metadata": {
            "tags": [],
            "needs_background": "light"
          }
        },
        {
          "output_type": "display_data",
          "data": {
            "image/png": "[encoded data removed]",
            "text/plain": [
              "<Figure size 432x288 with 1 Axes>"
            ]
          },
          "metadata": {
            "tags": [],
            "needs_background": "light"
          }
        },
        {
          "output_type": "display_data",
          "data": {
            "image/png": "[encoded data removed]",
            "text/plain": [
              "<Figure size 432x288 with 1 Axes>"
            ]
          },
          "metadata": {
            "tags": [],
            "needs_background": "light"
          }
        },
        {
          "output_type": "display_data",
          "data": {
            "image/png": "[encoded data removed]",
            "text/plain": [
              "<Figure size 432x288 with 1 Axes>"
            ]
          },
          "metadata": {
            "tags": [],
            "needs_background": "light"
          }
        },
        {
          "output_type": "display_data",
          "data": {
            "image/png": "[encoded data removed]",
            "text/plain": [
              "<Figure size 432x288 with 1 Axes>"
            ]
          },
          "metadata": {
            "tags": [],
            "needs_background": "light"
          }
        }
      ]
    },
    {
      "cell_type": "markdown",
      "metadata": {
        "id": "ZO95ySEstCRm"
      },
      "source": [
        "### From the above box-plot, it appears that the columns 'Region_Code' and 'Reco_Policy_Premium' contains outliers."
      ]
    },
    {
      "cell_type": "code",
      "metadata": {
        "colab": {
          "base_uri": "https://localhost:8080/",
          "height": 1000
        },
        "id": "N5Y7IcwTtHPk",
        "outputId": "78e0c4c1-13cf-4c41-93be-a245eabd4159"
      },
      "source": [
        "#Further, visualizing outliers with log normalization\r\n",
        "for feature in continous_features:\r\n",
        "    data_copy = train_data.copy()\r\n",
        "    if 0 in data_copy[feature].unique():\r\n",
        "        pass\r\n",
        "    else:\r\n",
        "        data_copy[feature] = np.log(data_copy[feature])\r\n",
        "        plt.scatter(data_copy[feature],data_copy['Response'])\r\n",
        "        plt.xlabel(feature)\r\n",
        "        plt.ylabel('Response')\r\n",
        "        plt.title(feature)\r\n",
        "        plt.show()"
      ],
      "execution_count": null,
      "outputs": [
        {
          "output_type": "display_data",
          "data": {
            "image/png": "[encoded data removed]",
            "text/plain": [
              "<Figure size 432x288 with 1 Axes>"
            ]
          },
          "metadata": {
            "tags": [],
            "needs_background": "light"
          }
        },
        {
          "output_type": "display_data",
          "data": {
            "image/png": "[encoded data removed]",
            "text/plain": [
              "<Figure size 432x288 with 1 Axes>"
            ]
          },
          "metadata": {
            "tags": [],
            "needs_background": "light"
          }
        },
        {
          "output_type": "display_data",
          "data": {
            "image/png": "[encoded data removed]",
            "text/plain": [
              "<Figure size 432x288 with 1 Axes>"
            ]
          },
          "metadata": {
            "tags": [],
            "needs_background": "light"
          }
        },
        {
          "output_type": "display_data",
          "data": {
            "image/png": "[encoded data removed]",
            "text/plain": [
              "<Figure size 432x288 with 1 Axes>"
            ]
          },
          "metadata": {
            "tags": [],
            "needs_background": "light"
          }
        }
      ]
    },
    {
      "cell_type": "markdown",
      "metadata": {
        "id": "lQWpO3l4t_2u"
      },
      "source": [
        "### From the above Scatter Plot, it appears that the column 'Region_Code' contains some outliers"
      ]
    },
    {
      "cell_type": "code",
      "metadata": {
        "colab": {
          "base_uri": "https://localhost:8080/",
          "height": 654
        },
        "id": "bZ-QOBKBuRdj",
        "outputId": "9743d294-2f99-421d-aecd-700be3940ac2"
      },
      "source": [
        "# Computing the correlation b/w the features\r\n",
        "plt.figure(figsize=(12,9))\r\n",
        "sns.heatmap(train_data[numerical_features].corr(),annot=True)"
      ],
      "execution_count": null,
      "outputs": [
        {
          "output_type": "execute_result",
          "data": {
            "text/plain": [
              "<matplotlib.axes._subplots.AxesSubplot at 0x7f5dc6d5ec10>"
            ]
          },
          "metadata": {
            "tags": []
          },
          "execution_count": 48
        },
        {
          "output_type": "display_data",
          "data": {
            "image/png": "[encoded data removed]",
            "text/plain": [
              "<Figure size 864x648 with 2 Axes>"
            ]
          },
          "metadata": {
            "tags": [],
            "needs_background": "light"
          }
        }
      ]
    },
    {
      "cell_type": "markdown",
      "metadata": {
        "id": "ZJjX9luju_Xb"
      },
      "source": [
        "### From the above heatmap, it appears that columns 'Upper_Age' and 'Lower_Age' are positive correlated with the score of 0.92"
      ]
    },
    {
      "cell_type": "code",
      "metadata": {
        "colab": {
          "base_uri": "https://localhost:8080/",
          "height": 213
        },
        "id": "SRdFmbdRvGtU",
        "outputId": "554edf26-3b34-415e-87e0-c0783ce8e022"
      },
      "source": [
        "#Analysing categorical features\r\n",
        "categorical_features = [feature for feature in train_data.columns if feature not in numerical_features]\r\n",
        "print(\"The number of categorical features is : {}\".format(len(categorical_features)))\r\n",
        "train_data[categorical_features].head()"
      ],
      "execution_count": null,
      "outputs": [
        {
          "output_type": "stream",
          "text": [
            "The number of categorical features is : 6\n"
          ],
          "name": "stdout"
        },
        {
          "output_type": "execute_result",
          "data": {
            "text/html": [
              "<div>\n",
              "<style scoped>\n",
              "    .dataframe tbody tr th:only-of-type {\n",
              "        vertical-align: middle;\n",
              "    }\n",
              "\n",
              "    .dataframe tbody tr th {\n",
              "        vertical-align: top;\n",
              "    }\n",
              "\n",
              "    .dataframe thead th {\n",
              "        text-align: right;\n",
              "    }\n",
              "</style>\n",
              "<table border=\"1\" class=\"dataframe\">\n",
              "  <thead>\n",
              "    <tr style=\"text-align: right;\">\n",
              "      <th></th>\n",
              "      <th>City_Code</th>\n",
              "      <th>Accomodation_Type</th>\n",
              "      <th>Reco_Insurance_Type</th>\n",
              "      <th>Is_Spouse</th>\n",
              "      <th>Health Indicator</th>\n",
              "      <th>Holding_Policy_Duration</th>\n",
              "    </tr>\n",
              "  </thead>\n",
              "  <tbody>\n",
              "    <tr>\n",
              "      <th>0</th>\n",
              "      <td>C3</td>\n",
              "      <td>Rented</td>\n",
              "      <td>Individual</td>\n",
              "      <td>No</td>\n",
              "      <td>X1</td>\n",
              "      <td>14+</td>\n",
              "    </tr>\n",
              "    <tr>\n",
              "      <th>1</th>\n",
              "      <td>C5</td>\n",
              "      <td>Owned</td>\n",
              "      <td>Joint</td>\n",
              "      <td>No</td>\n",
              "      <td>X2</td>\n",
              "      <td>NaN</td>\n",
              "    </tr>\n",
              "    <tr>\n",
              "      <th>2</th>\n",
              "      <td>C5</td>\n",
              "      <td>Owned</td>\n",
              "      <td>Individual</td>\n",
              "      <td>No</td>\n",
              "      <td>NaN</td>\n",
              "      <td>1.0</td>\n",
              "    </tr>\n",
              "    <tr>\n",
              "      <th>3</th>\n",
              "      <td>C24</td>\n",
              "      <td>Owned</td>\n",
              "      <td>Joint</td>\n",
              "      <td>No</td>\n",
              "      <td>X1</td>\n",
              "      <td>14+</td>\n",
              "    </tr>\n",
              "    <tr>\n",
              "      <th>4</th>\n",
              "      <td>C8</td>\n",
              "      <td>Rented</td>\n",
              "      <td>Individual</td>\n",
              "      <td>No</td>\n",
              "      <td>X2</td>\n",
              "      <td>3.0</td>\n",
              "    </tr>\n",
              "  </tbody>\n",
              "</table>\n",
              "</div>"
            ],
            "text/plain": [
              "  City_Code Accomodation_Type  ... Health Indicator Holding_Policy_Duration\n",
              "0        C3            Rented  ...               X1                     14+\n",
              "1        C5             Owned  ...               X2                     NaN\n",
              "2        C5             Owned  ...              NaN                     1.0\n",
              "3       C24             Owned  ...               X1                     14+\n",
              "4        C8            Rented  ...               X2                     3.0\n",
              "\n",
              "[5 rows x 6 columns]"
            ]
          },
          "metadata": {
            "tags": []
          },
          "execution_count": 133
        }
      ]
    },
    {
      "cell_type": "code",
      "metadata": {
        "colab": {
          "base_uri": "https://localhost:8080/"
        },
        "id": "gsedGWwUvIdr",
        "outputId": "34b44392-1efa-401d-fa8c-26dbc9bcb2e5"
      },
      "source": [
        "#Determining the cardinality of the categorical features\r\n",
        "for feature in categorical_features:\r\n",
        "  print(\"The feature is {} and its cardinality is {}\".format(feature,len(train_data[feature].unique())))"
      ],
      "execution_count": null,
      "outputs": [
        {
          "output_type": "stream",
          "text": [
            "The feature is City_Code and its cardinality is 36\n",
            "The feature is Accomodation_Type and its cardinality is 2\n",
            "The feature is Reco_Insurance_Type and its cardinality is 2\n",
            "The feature is Is_Spouse and its cardinality is 2\n",
            "The feature is Health Indicator and its cardinality is 10\n",
            "The feature is Holding_Policy_Duration and its cardinality is 16\n"
          ],
          "name": "stdout"
        }
      ]
    },
    {
      "cell_type": "markdown",
      "metadata": {
        "id": "Y1NTglQ8wRLX"
      },
      "source": [
        "### The Highest Cardinality is of City_Code which is 36."
      ]
    },
    {
      "cell_type": "code",
      "metadata": {
        "colab": {
          "base_uri": "https://localhost:8080/"
        },
        "id": "npEdZbBGwQh1",
        "outputId": "8f23f37d-1074-48e3-9ec5-706bd1ea9374"
      },
      "source": [
        "# Visualizing size or count of categorical values\r\n",
        "for feature in categorical_features:\r\n",
        "    data_copy = train_data.copy()\r\n",
        "    print(chi2_contingency(pd.crosstab(data_copy[feature],train_data['Response'])))"
      ],
      "execution_count": null,
      "outputs": [
        {
          "output_type": "stream",
          "text": [
            "(29.622432040915207, 0.7251180856306821, 35, array([[6.81995262e+03, 2.15304738e+03],\n",
            "       [1.22444485e+03, 3.86555147e+02],\n",
            "       [8.71780414e+02, 2.75219586e+02],\n",
            "       [6.59725718e+02, 2.08274282e+02],\n",
            "       [7.63852934e+02, 2.41147066e+02],\n",
            "       [5.66999292e+02, 1.79000708e+02],\n",
            "       [9.01422468e+02, 2.84577532e+02],\n",
            "       [8.62659781e+02, 2.72340219e+02],\n",
            "       [8.80901046e+02, 2.78098954e+02],\n",
            "       [6.05761979e+02, 1.91238021e+02],\n",
            "       [6.83287351e+02, 2.15712649e+02],\n",
            "       [5.88812804e+03, 1.85887196e+03],\n",
            "       [7.03808773e+02, 2.22191227e+02],\n",
            "       [5.16075764e+02, 1.62924236e+02],\n",
            "       [3.92187178e+02, 1.23812822e+02],\n",
            "       [4.46150918e+02, 1.40849082e+02],\n",
            "       [4.20309127e+02, 1.32690873e+02],\n",
            "       [2.78179278e+02, 8.78207225e+01],\n",
            "       [3.79266283e+02, 1.19733717e+02],\n",
            "       [2.24215538e+02, 7.07844621e+01],\n",
            "       [2.16615011e+02, 6.83849888e+01],\n",
            "       [2.94140384e+02, 9.28596164e+01],\n",
            "       [3.71589751e+03, 1.17310249e+03],\n",
            "       [4.40830549e+01, 1.39169451e+01],\n",
            "       [1.14007901e+01, 3.59920994e+00],\n",
            "       [1.21608427e+02, 3.83915727e+01],\n",
            "       [2.17375064e+02, 6.86249361e+01],\n",
            "       [9.88068472e+01, 3.11931528e+01],\n",
            "       [4.25629496e+01, 1.34370504e+01],\n",
            "       [2.73618962e+01, 8.63810385e+00],\n",
            "       [2.79015335e+03, 8.80846645e+02],\n",
            "       [1.03671184e+03, 3.27288157e+02],\n",
            "       [1.48210271e+03, 4.67897292e+02],\n",
            "       [1.45170060e+03, 4.58299399e+02],\n",
            "       [1.37265512e+03, 4.33344876e+02],\n",
            "       [1.66071509e+03, 5.24284914e+02]]))\n",
            "(1.352062147880252, 0.24491793264478945, 1, array([[21244.23220392,  6706.76779608],\n",
            "       [17428.76779608,  5502.23220392]]))\n",
            "(4.920825020237625, 0.026534842934215437, 1, array([[30809.49506702,  9726.50493298],\n",
            "       [ 7863.50493298,  2482.49506702]]))\n",
            "(0.733593466505061, 0.3917208801956691, 1, array([[32271.8364058, 10188.1635942],\n",
            "       [ 6401.1635942,  2020.8364058]]))\n",
            "(7.947105622548288, 0.43865402848058554, 8, array([[9865.96922763, 3144.03077237],\n",
            "       [7835.14174173, 2496.85825827],\n",
            "       [5127.87731877, 1634.12268123],\n",
            "       [4355.1315353 , 1387.8684647 ],\n",
            "       [1309.64864382,  417.35135618],\n",
            "       [ 970.67183792,  309.32816208],\n",
            "       [ 148.63412518,   47.36587482],\n",
            "       [  59.15031512,   18.84968488],\n",
            "       [  47.77525452,   15.22474548]]))\n",
            "(25.822209199464783, 0.027266643846758, 14, array([[3416.51395645, 1082.48604355],\n",
            "       [ 617.38738533,  195.61261467],\n",
            "       [ 414.62916653,  131.37083347],\n",
            "       [ 389.56916196,  123.43083804],\n",
            "       [ 388.0503738 ,  122.9496262 ],\n",
            "       [3291.97332767, 1043.02667233],\n",
            "       [ 353.8776403 ,  112.1223597 ],\n",
            "       [3235.01877183, 1024.98122817],\n",
            "       [2723.18716333,  862.81283667],\n",
            "       [2104.28098985,  666.71901015],\n",
            "       [1793.68881199,  568.31118801],\n",
            "       [1438.29238353,  455.70761647],\n",
            "       [1249.20325814,  395.79674186],\n",
            "       [ 999.36260651,  316.63739349],\n",
            "       [ 845.96500277,  268.03499723]]))\n"
          ],
          "name": "stdout"
        }
      ]
    },
    {
      "cell_type": "markdown",
      "metadata": {
        "id": "MRzSPz_lIDWX"
      },
      "source": [
        "### From the above statistics, it appears that features 'Reco_Insurance_Type' and 'Holding_Policy_Duration' are related to target variable since it's p-value < 0.05"
      ]
    },
    {
      "cell_type": "code",
      "metadata": {
        "colab": {
          "base_uri": "https://localhost:8080/",
          "height": 296
        },
        "id": "DB3iLYtMIbxJ",
        "outputId": "62d1226c-1295-41b9-cab0-beea099d5a13"
      },
      "source": [
        "# Checking the imbalanceness in the target variable \r\n",
        "sns.countplot(y=train_data['Response'])"
      ],
      "execution_count": null,
      "outputs": [
        {
          "output_type": "execute_result",
          "data": {
            "text/plain": [
              "<matplotlib.axes._subplots.AxesSubplot at 0x7f5db88939d0>"
            ]
          },
          "metadata": {
            "tags": []
          },
          "execution_count": 116
        },
        {
          "output_type": "display_data",
          "data": {
            "image/png": "[encoded data removed]",
            "text/plain": [
              "<Figure size 432x288 with 1 Axes>"
            ]
          },
          "metadata": {
            "tags": [],
            "needs_background": "light"
          }
        }
      ]
    },
    {
      "cell_type": "markdown",
      "metadata": {
        "id": "Bou3Fd2uJSr3"
      },
      "source": [
        "### From above countplot, it appears that there is a problem of class imbalanceness as there are more number of examples in class 0 (upto 40,000) than class 1(around 13500)"
      ]
    },
    {
      "cell_type": "code",
      "metadata": {
        "colab": {
          "base_uri": "https://localhost:8080/"
        },
        "id": "Aexod0ulJvU6",
        "outputId": "6ff9283b-278d-4712-eca3-7c37b1968f21"
      },
      "source": [
        "# Handling missing values\r\n",
        "#Listing Null values in Numerical data\r\n",
        "numerical_with_nan = [feature for feature in train_data.columns if train_data[feature].isnull().sum()>=1 and train_data[feature].dtypes!='O' ]\r\n",
        "for feature in numerical_with_nan:\r\n",
        "    print(feature,np.round(train_data[feature].isnull().mean(),4),'%missing values')"
      ],
      "execution_count": null,
      "outputs": [
        {
          "output_type": "stream",
          "text": [
            "Holding_Policy_Type 0.398 %missing values\n"
          ],
          "name": "stdout"
        }
      ]
    },
    {
      "cell_type": "code",
      "metadata": {
        "colab": {
          "base_uri": "https://localhost:8080/"
        },
        "id": "xvZsKsTzQPPE",
        "outputId": "99394962-e993-4262-f8ea-b26ba91bca0c"
      },
      "source": [
        "# Filling the missing values with mean\r\n",
        "for feature in numerical_with_nan:\r\n",
        "    mean_value = train_data[feature].mean()\r\n",
        "    train_data[feature+'_nan'] = np.where(train_data[feature].isnull(),1,0)\r\n",
        "    train_data[feature] = train_data[feature].fillna(mean_value)\r\n",
        "train_data[numerical_with_nan].isnull().sum()"
      ],
      "execution_count": null,
      "outputs": [
        {
          "output_type": "execute_result",
          "data": {
            "text/plain": [
              "Holding_Policy_Type    0\n",
              "dtype: int64"
            ]
          },
          "metadata": {
            "tags": []
          },
          "execution_count": 136
        }
      ]
    },
    {
      "cell_type": "code",
      "metadata": {
        "colab": {
          "base_uri": "https://localhost:8080/",
          "height": 233
        },
        "id": "X08AkxVThICL",
        "outputId": "26beb204-2842-4012-b7b6-f89e0ba13950"
      },
      "source": [
        "train_data.head()"
      ],
      "execution_count": null,
      "outputs": [
        {
          "output_type": "execute_result",
          "data": {
            "text/html": [
              "<div>\n",
              "<style scoped>\n",
              "    .dataframe tbody tr th:only-of-type {\n",
              "        vertical-align: middle;\n",
              "    }\n",
              "\n",
              "    .dataframe tbody tr th {\n",
              "        vertical-align: top;\n",
              "    }\n",
              "\n",
              "    .dataframe thead th {\n",
              "        text-align: right;\n",
              "    }\n",
              "</style>\n",
              "<table border=\"1\" class=\"dataframe\">\n",
              "  <thead>\n",
              "    <tr style=\"text-align: right;\">\n",
              "      <th></th>\n",
              "      <th>ID</th>\n",
              "      <th>City_Code</th>\n",
              "      <th>Region_Code</th>\n",
              "      <th>Accomodation_Type</th>\n",
              "      <th>Reco_Insurance_Type</th>\n",
              "      <th>Upper_Age</th>\n",
              "      <th>Lower_Age</th>\n",
              "      <th>Is_Spouse</th>\n",
              "      <th>Health Indicator</th>\n",
              "      <th>Holding_Policy_Duration</th>\n",
              "      <th>Holding_Policy_Type</th>\n",
              "      <th>Reco_Policy_Cat</th>\n",
              "      <th>Reco_Policy_Premium</th>\n",
              "      <th>Response</th>\n",
              "      <th>Holding_Policy_Type_nan</th>\n",
              "    </tr>\n",
              "  </thead>\n",
              "  <tbody>\n",
              "    <tr>\n",
              "      <th>0</th>\n",
              "      <td>1</td>\n",
              "      <td>C3</td>\n",
              "      <td>3213</td>\n",
              "      <td>Rented</td>\n",
              "      <td>Individual</td>\n",
              "      <td>36</td>\n",
              "      <td>36</td>\n",
              "      <td>No</td>\n",
              "      <td>X1</td>\n",
              "      <td>14+</td>\n",
              "      <td>3.000000</td>\n",
              "      <td>22</td>\n",
              "      <td>11628.0</td>\n",
              "      <td>0</td>\n",
              "      <td>0</td>\n",
              "    </tr>\n",
              "    <tr>\n",
              "      <th>1</th>\n",
              "      <td>2</td>\n",
              "      <td>C5</td>\n",
              "      <td>1117</td>\n",
              "      <td>Owned</td>\n",
              "      <td>Joint</td>\n",
              "      <td>75</td>\n",
              "      <td>22</td>\n",
              "      <td>No</td>\n",
              "      <td>X2</td>\n",
              "      <td>NaN</td>\n",
              "      <td>2.439228</td>\n",
              "      <td>22</td>\n",
              "      <td>30510.0</td>\n",
              "      <td>0</td>\n",
              "      <td>1</td>\n",
              "    </tr>\n",
              "    <tr>\n",
              "      <th>2</th>\n",
              "      <td>3</td>\n",
              "      <td>C5</td>\n",
              "      <td>3732</td>\n",
              "      <td>Owned</td>\n",
              "      <td>Individual</td>\n",
              "      <td>32</td>\n",
              "      <td>32</td>\n",
              "      <td>No</td>\n",
              "      <td>NaN</td>\n",
              "      <td>1.0</td>\n",
              "      <td>1.000000</td>\n",
              "      <td>19</td>\n",
              "      <td>7450.0</td>\n",
              "      <td>1</td>\n",
              "      <td>0</td>\n",
              "    </tr>\n",
              "    <tr>\n",
              "      <th>3</th>\n",
              "      <td>4</td>\n",
              "      <td>C24</td>\n",
              "      <td>4378</td>\n",
              "      <td>Owned</td>\n",
              "      <td>Joint</td>\n",
              "      <td>52</td>\n",
              "      <td>48</td>\n",
              "      <td>No</td>\n",
              "      <td>X1</td>\n",
              "      <td>14+</td>\n",
              "      <td>3.000000</td>\n",
              "      <td>19</td>\n",
              "      <td>17780.0</td>\n",
              "      <td>0</td>\n",
              "      <td>0</td>\n",
              "    </tr>\n",
              "    <tr>\n",
              "      <th>4</th>\n",
              "      <td>5</td>\n",
              "      <td>C8</td>\n",
              "      <td>2190</td>\n",
              "      <td>Rented</td>\n",
              "      <td>Individual</td>\n",
              "      <td>44</td>\n",
              "      <td>44</td>\n",
              "      <td>No</td>\n",
              "      <td>X2</td>\n",
              "      <td>3.0</td>\n",
              "      <td>1.000000</td>\n",
              "      <td>16</td>\n",
              "      <td>10404.0</td>\n",
              "      <td>0</td>\n",
              "      <td>0</td>\n",
              "    </tr>\n",
              "  </tbody>\n",
              "</table>\n",
              "</div>"
            ],
            "text/plain": [
              "   ID City_Code  ...  Response Holding_Policy_Type_nan\n",
              "0   1        C3  ...         0                       0\n",
              "1   2        C5  ...         0                       1\n",
              "2   3        C5  ...         1                       0\n",
              "3   4       C24  ...         0                       0\n",
              "4   5        C8  ...         0                       0\n",
              "\n",
              "[5 rows x 15 columns]"
            ]
          },
          "metadata": {
            "tags": []
          },
          "execution_count": 137
        }
      ]
    },
    {
      "cell_type": "code",
      "metadata": {
        "colab": {
          "base_uri": "https://localhost:8080/",
          "height": 233
        },
        "id": "tLenAI33hsks",
        "outputId": "f7dd0b49-9410-472f-af74-ce6b042bbbd8"
      },
      "source": [
        "# Dropping Employee Id column as it donot contribute in prediction.\r\n",
        "train_data = train_data.drop(columns=['ID'])\r\n",
        "train_data.head()"
      ],
      "execution_count": null,
      "outputs": [
        {
          "output_type": "execute_result",
          "data": {
            "text/html": [
              "<div>\n",
              "<style scoped>\n",
              "    .dataframe tbody tr th:only-of-type {\n",
              "        vertical-align: middle;\n",
              "    }\n",
              "\n",
              "    .dataframe tbody tr th {\n",
              "        vertical-align: top;\n",
              "    }\n",
              "\n",
              "    .dataframe thead th {\n",
              "        text-align: right;\n",
              "    }\n",
              "</style>\n",
              "<table border=\"1\" class=\"dataframe\">\n",
              "  <thead>\n",
              "    <tr style=\"text-align: right;\">\n",
              "      <th></th>\n",
              "      <th>City_Code</th>\n",
              "      <th>Region_Code</th>\n",
              "      <th>Accomodation_Type</th>\n",
              "      <th>Reco_Insurance_Type</th>\n",
              "      <th>Upper_Age</th>\n",
              "      <th>Lower_Age</th>\n",
              "      <th>Is_Spouse</th>\n",
              "      <th>Health Indicator</th>\n",
              "      <th>Holding_Policy_Duration</th>\n",
              "      <th>Holding_Policy_Type</th>\n",
              "      <th>Reco_Policy_Cat</th>\n",
              "      <th>Reco_Policy_Premium</th>\n",
              "      <th>Response</th>\n",
              "      <th>Holding_Policy_Type_nan</th>\n",
              "    </tr>\n",
              "  </thead>\n",
              "  <tbody>\n",
              "    <tr>\n",
              "      <th>0</th>\n",
              "      <td>C3</td>\n",
              "      <td>3213</td>\n",
              "      <td>Rented</td>\n",
              "      <td>Individual</td>\n",
              "      <td>36</td>\n",
              "      <td>36</td>\n",
              "      <td>No</td>\n",
              "      <td>X1</td>\n",
              "      <td>14+</td>\n",
              "      <td>3.000000</td>\n",
              "      <td>22</td>\n",
              "      <td>11628.0</td>\n",
              "      <td>0</td>\n",
              "      <td>0</td>\n",
              "    </tr>\n",
              "    <tr>\n",
              "      <th>1</th>\n",
              "      <td>C5</td>\n",
              "      <td>1117</td>\n",
              "      <td>Owned</td>\n",
              "      <td>Joint</td>\n",
              "      <td>75</td>\n",
              "      <td>22</td>\n",
              "      <td>No</td>\n",
              "      <td>X2</td>\n",
              "      <td>NaN</td>\n",
              "      <td>2.439228</td>\n",
              "      <td>22</td>\n",
              "      <td>30510.0</td>\n",
              "      <td>0</td>\n",
              "      <td>1</td>\n",
              "    </tr>\n",
              "    <tr>\n",
              "      <th>2</th>\n",
              "      <td>C5</td>\n",
              "      <td>3732</td>\n",
              "      <td>Owned</td>\n",
              "      <td>Individual</td>\n",
              "      <td>32</td>\n",
              "      <td>32</td>\n",
              "      <td>No</td>\n",
              "      <td>NaN</td>\n",
              "      <td>1.0</td>\n",
              "      <td>1.000000</td>\n",
              "      <td>19</td>\n",
              "      <td>7450.0</td>\n",
              "      <td>1</td>\n",
              "      <td>0</td>\n",
              "    </tr>\n",
              "    <tr>\n",
              "      <th>3</th>\n",
              "      <td>C24</td>\n",
              "      <td>4378</td>\n",
              "      <td>Owned</td>\n",
              "      <td>Joint</td>\n",
              "      <td>52</td>\n",
              "      <td>48</td>\n",
              "      <td>No</td>\n",
              "      <td>X1</td>\n",
              "      <td>14+</td>\n",
              "      <td>3.000000</td>\n",
              "      <td>19</td>\n",
              "      <td>17780.0</td>\n",
              "      <td>0</td>\n",
              "      <td>0</td>\n",
              "    </tr>\n",
              "    <tr>\n",
              "      <th>4</th>\n",
              "      <td>C8</td>\n",
              "      <td>2190</td>\n",
              "      <td>Rented</td>\n",
              "      <td>Individual</td>\n",
              "      <td>44</td>\n",
              "      <td>44</td>\n",
              "      <td>No</td>\n",
              "      <td>X2</td>\n",
              "      <td>3.0</td>\n",
              "      <td>1.000000</td>\n",
              "      <td>16</td>\n",
              "      <td>10404.0</td>\n",
              "      <td>0</td>\n",
              "      <td>0</td>\n",
              "    </tr>\n",
              "  </tbody>\n",
              "</table>\n",
              "</div>"
            ],
            "text/plain": [
              "  City_Code  Region_Code  ... Response Holding_Policy_Type_nan\n",
              "0        C3         3213  ...        0                       0\n",
              "1        C5         1117  ...        0                       1\n",
              "2        C5         3732  ...        1                       0\n",
              "3       C24         4378  ...        0                       0\n",
              "4        C8         2190  ...        0                       0\n",
              "\n",
              "[5 rows x 14 columns]"
            ]
          },
          "metadata": {
            "tags": []
          },
          "execution_count": 138
        }
      ]
    },
    {
      "cell_type": "code",
      "metadata": {
        "colab": {
          "base_uri": "https://localhost:8080/"
        },
        "id": "ODh4srO7oxhJ",
        "outputId": "8dd53ed7-18ff-4d97-9fe9-a08be09f40f1"
      },
      "source": [
        "#Listing null values in categorical data\r\n",
        "features_with_nan = [feature for feature in train_data.columns if train_data[feature].isnull().sum()>=1 and train_data[feature].dtypes=='O']\r\n",
        "for feature in features_with_nan:\r\n",
        "    print(feature,np.round(train_data[feature].isnull().mean(),4),'%missing values')"
      ],
      "execution_count": null,
      "outputs": [
        {
          "output_type": "stream",
          "text": [
            "Health Indicator 0.2298 %missing values\n",
            "Holding_Policy_Duration 0.398 %missing values\n"
          ],
          "name": "stdout"
        }
      ]
    },
    {
      "cell_type": "code",
      "metadata": {
        "colab": {
          "base_uri": "https://localhost:8080/"
        },
        "id": "02XxqnvlpBWK",
        "outputId": "2d6fa65d-8d57-4eec-9e3b-3c603fb6ac64"
      },
      "source": [
        "def replace_cat_feature(dataset,features_with_nan):\r\n",
        "    data = train_data.copy()\r\n",
        "    data[features_with_nan] = data[features_with_nan].fillna(\"Missing\")\r\n",
        "    return data\r\n",
        "train_data = replace_cat_feature(train_data,features_with_nan)\r\n",
        "train_data[features_with_nan].isnull().sum()"
      ],
      "execution_count": null,
      "outputs": [
        {
          "output_type": "execute_result",
          "data": {
            "text/plain": [
              "Health Indicator           0\n",
              "Holding_Policy_Duration    0\n",
              "dtype: int64"
            ]
          },
          "metadata": {
            "tags": []
          },
          "execution_count": 140
        }
      ]
    },
    {
      "cell_type": "markdown",
      "metadata": {
        "id": "W24tG4z-qk-n"
      },
      "source": [
        "# Performing Feature Engineering "
      ]
    },
    {
      "cell_type": "code",
      "metadata": {
        "colab": {
          "base_uri": "https://localhost:8080/",
          "height": 233
        },
        "id": "Cq1pB9wjqhlA",
        "outputId": "07536d46-842a-4c0c-ede6-d88a9dbdc7b3"
      },
      "source": [
        "train_data.head()"
      ],
      "execution_count": null,
      "outputs": [
        {
          "output_type": "execute_result",
          "data": {
            "text/html": [
              "<div>\n",
              "<style scoped>\n",
              "    .dataframe tbody tr th:only-of-type {\n",
              "        vertical-align: middle;\n",
              "    }\n",
              "\n",
              "    .dataframe tbody tr th {\n",
              "        vertical-align: top;\n",
              "    }\n",
              "\n",
              "    .dataframe thead th {\n",
              "        text-align: right;\n",
              "    }\n",
              "</style>\n",
              "<table border=\"1\" class=\"dataframe\">\n",
              "  <thead>\n",
              "    <tr style=\"text-align: right;\">\n",
              "      <th></th>\n",
              "      <th>City_Code</th>\n",
              "      <th>Region_Code</th>\n",
              "      <th>Accomodation_Type</th>\n",
              "      <th>Reco_Insurance_Type</th>\n",
              "      <th>Upper_Age</th>\n",
              "      <th>Lower_Age</th>\n",
              "      <th>Is_Spouse</th>\n",
              "      <th>Health Indicator</th>\n",
              "      <th>Holding_Policy_Duration</th>\n",
              "      <th>Holding_Policy_Type</th>\n",
              "      <th>Reco_Policy_Cat</th>\n",
              "      <th>Reco_Policy_Premium</th>\n",
              "      <th>Response</th>\n",
              "      <th>Holding_Policy_Type_nan</th>\n",
              "    </tr>\n",
              "  </thead>\n",
              "  <tbody>\n",
              "    <tr>\n",
              "      <th>0</th>\n",
              "      <td>C3</td>\n",
              "      <td>3213</td>\n",
              "      <td>Rented</td>\n",
              "      <td>Individual</td>\n",
              "      <td>36</td>\n",
              "      <td>36</td>\n",
              "      <td>No</td>\n",
              "      <td>X1</td>\n",
              "      <td>14+</td>\n",
              "      <td>3.000000</td>\n",
              "      <td>22</td>\n",
              "      <td>11628.0</td>\n",
              "      <td>0</td>\n",
              "      <td>0</td>\n",
              "    </tr>\n",
              "    <tr>\n",
              "      <th>1</th>\n",
              "      <td>C5</td>\n",
              "      <td>1117</td>\n",
              "      <td>Owned</td>\n",
              "      <td>Joint</td>\n",
              "      <td>75</td>\n",
              "      <td>22</td>\n",
              "      <td>No</td>\n",
              "      <td>X2</td>\n",
              "      <td>Missing</td>\n",
              "      <td>2.439228</td>\n",
              "      <td>22</td>\n",
              "      <td>30510.0</td>\n",
              "      <td>0</td>\n",
              "      <td>1</td>\n",
              "    </tr>\n",
              "    <tr>\n",
              "      <th>2</th>\n",
              "      <td>C5</td>\n",
              "      <td>3732</td>\n",
              "      <td>Owned</td>\n",
              "      <td>Individual</td>\n",
              "      <td>32</td>\n",
              "      <td>32</td>\n",
              "      <td>No</td>\n",
              "      <td>Missing</td>\n",
              "      <td>1.0</td>\n",
              "      <td>1.000000</td>\n",
              "      <td>19</td>\n",
              "      <td>7450.0</td>\n",
              "      <td>1</td>\n",
              "      <td>0</td>\n",
              "    </tr>\n",
              "    <tr>\n",
              "      <th>3</th>\n",
              "      <td>C24</td>\n",
              "      <td>4378</td>\n",
              "      <td>Owned</td>\n",
              "      <td>Joint</td>\n",
              "      <td>52</td>\n",
              "      <td>48</td>\n",
              "      <td>No</td>\n",
              "      <td>X1</td>\n",
              "      <td>14+</td>\n",
              "      <td>3.000000</td>\n",
              "      <td>19</td>\n",
              "      <td>17780.0</td>\n",
              "      <td>0</td>\n",
              "      <td>0</td>\n",
              "    </tr>\n",
              "    <tr>\n",
              "      <th>4</th>\n",
              "      <td>C8</td>\n",
              "      <td>2190</td>\n",
              "      <td>Rented</td>\n",
              "      <td>Individual</td>\n",
              "      <td>44</td>\n",
              "      <td>44</td>\n",
              "      <td>No</td>\n",
              "      <td>X2</td>\n",
              "      <td>3.0</td>\n",
              "      <td>1.000000</td>\n",
              "      <td>16</td>\n",
              "      <td>10404.0</td>\n",
              "      <td>0</td>\n",
              "      <td>0</td>\n",
              "    </tr>\n",
              "  </tbody>\n",
              "</table>\n",
              "</div>"
            ],
            "text/plain": [
              "  City_Code  Region_Code  ... Response Holding_Policy_Type_nan\n",
              "0        C3         3213  ...        0                       0\n",
              "1        C5         1117  ...        0                       1\n",
              "2        C5         3732  ...        1                       0\n",
              "3       C24         4378  ...        0                       0\n",
              "4        C8         2190  ...        0                       0\n",
              "\n",
              "[5 rows x 14 columns]"
            ]
          },
          "metadata": {
            "tags": []
          },
          "execution_count": 141
        }
      ]
    },
    {
      "cell_type": "code",
      "metadata": {
        "colab": {
          "base_uri": "https://localhost:8080/",
          "height": 233
        },
        "id": "ECpJgAAmm8Jn",
        "outputId": "8d494d4a-87d4-43d9-c495-de1ee660ddb2"
      },
      "source": [
        "# Since, Upper_Age and Lower_Age columns are strongly correlated, therefore dropping the Lower_Age column and renaming the Upper_Age column to Age\r\n",
        "train_data = train_data.drop(columns=['Lower_Age'],axis=1)\r\n",
        "train_data = train_data.rename(columns={'Upper_Age':\"Age\"})\r\n",
        "train_data.head()"
      ],
      "execution_count": null,
      "outputs": [
        {
          "output_type": "execute_result",
          "data": {
            "text/html": [
              "<div>\n",
              "<style scoped>\n",
              "    .dataframe tbody tr th:only-of-type {\n",
              "        vertical-align: middle;\n",
              "    }\n",
              "\n",
              "    .dataframe tbody tr th {\n",
              "        vertical-align: top;\n",
              "    }\n",
              "\n",
              "    .dataframe thead th {\n",
              "        text-align: right;\n",
              "    }\n",
              "</style>\n",
              "<table border=\"1\" class=\"dataframe\">\n",
              "  <thead>\n",
              "    <tr style=\"text-align: right;\">\n",
              "      <th></th>\n",
              "      <th>City_Code</th>\n",
              "      <th>Region_Code</th>\n",
              "      <th>Accomodation_Type</th>\n",
              "      <th>Reco_Insurance_Type</th>\n",
              "      <th>Age</th>\n",
              "      <th>Is_Spouse</th>\n",
              "      <th>Health Indicator</th>\n",
              "      <th>Holding_Policy_Duration</th>\n",
              "      <th>Holding_Policy_Type</th>\n",
              "      <th>Reco_Policy_Cat</th>\n",
              "      <th>Reco_Policy_Premium</th>\n",
              "      <th>Response</th>\n",
              "      <th>Holding_Policy_Type_nan</th>\n",
              "    </tr>\n",
              "  </thead>\n",
              "  <tbody>\n",
              "    <tr>\n",
              "      <th>0</th>\n",
              "      <td>C3</td>\n",
              "      <td>3213</td>\n",
              "      <td>Rented</td>\n",
              "      <td>Individual</td>\n",
              "      <td>36</td>\n",
              "      <td>No</td>\n",
              "      <td>X1</td>\n",
              "      <td>14+</td>\n",
              "      <td>3.000000</td>\n",
              "      <td>22</td>\n",
              "      <td>11628.0</td>\n",
              "      <td>0</td>\n",
              "      <td>0</td>\n",
              "    </tr>\n",
              "    <tr>\n",
              "      <th>1</th>\n",
              "      <td>C5</td>\n",
              "      <td>1117</td>\n",
              "      <td>Owned</td>\n",
              "      <td>Joint</td>\n",
              "      <td>75</td>\n",
              "      <td>No</td>\n",
              "      <td>X2</td>\n",
              "      <td>Missing</td>\n",
              "      <td>2.439228</td>\n",
              "      <td>22</td>\n",
              "      <td>30510.0</td>\n",
              "      <td>0</td>\n",
              "      <td>1</td>\n",
              "    </tr>\n",
              "    <tr>\n",
              "      <th>2</th>\n",
              "      <td>C5</td>\n",
              "      <td>3732</td>\n",
              "      <td>Owned</td>\n",
              "      <td>Individual</td>\n",
              "      <td>32</td>\n",
              "      <td>No</td>\n",
              "      <td>Missing</td>\n",
              "      <td>1.0</td>\n",
              "      <td>1.000000</td>\n",
              "      <td>19</td>\n",
              "      <td>7450.0</td>\n",
              "      <td>1</td>\n",
              "      <td>0</td>\n",
              "    </tr>\n",
              "    <tr>\n",
              "      <th>3</th>\n",
              "      <td>C24</td>\n",
              "      <td>4378</td>\n",
              "      <td>Owned</td>\n",
              "      <td>Joint</td>\n",
              "      <td>52</td>\n",
              "      <td>No</td>\n",
              "      <td>X1</td>\n",
              "      <td>14+</td>\n",
              "      <td>3.000000</td>\n",
              "      <td>19</td>\n",
              "      <td>17780.0</td>\n",
              "      <td>0</td>\n",
              "      <td>0</td>\n",
              "    </tr>\n",
              "    <tr>\n",
              "      <th>4</th>\n",
              "      <td>C8</td>\n",
              "      <td>2190</td>\n",
              "      <td>Rented</td>\n",
              "      <td>Individual</td>\n",
              "      <td>44</td>\n",
              "      <td>No</td>\n",
              "      <td>X2</td>\n",
              "      <td>3.0</td>\n",
              "      <td>1.000000</td>\n",
              "      <td>16</td>\n",
              "      <td>10404.0</td>\n",
              "      <td>0</td>\n",
              "      <td>0</td>\n",
              "    </tr>\n",
              "  </tbody>\n",
              "</table>\n",
              "</div>"
            ],
            "text/plain": [
              "  City_Code  Region_Code  ... Response Holding_Policy_Type_nan\n",
              "0        C3         3213  ...        0                       0\n",
              "1        C5         1117  ...        0                       1\n",
              "2        C5         3732  ...        1                       0\n",
              "3       C24         4378  ...        0                       0\n",
              "4        C8         2190  ...        0                       0\n",
              "\n",
              "[5 rows x 13 columns]"
            ]
          },
          "metadata": {
            "tags": []
          },
          "execution_count": 142
        }
      ]
    },
    {
      "cell_type": "code",
      "metadata": {
        "id": "muGYjxXj6Oh4"
      },
      "source": [
        "# Feature Engineering Numerical Discrete Features: ['Holding_Policy_Type', 'Reco_Policy_Cat']\r\n",
        "# 1. Holding_Policy_Type\r\n",
        "max_cat_policy_type = train_data['Holding_Policy_Type'].value_counts().index[1]   #3.0\r\n",
        "min_cat_policy_type = train_data['Holding_Policy_Type'].value_counts().index[-1]  #4.0\r\n",
        "train_data['Holding_Policy_Type_Max_count'] = np.where(train_data['Holding_Policy_Type']== max_cat_policy_type,1,0)\r\n",
        "train_data['Holding_Policy_Type_Min_count'] = np.where(train_data['Holding_Policy_Type']== min_cat_policy_type,1,0)\r\n",
        "\r\n",
        "# 2. Reco_Policy_Cat\r\n",
        "max_count_health = train_data['Reco_Policy_Cat'].value_counts().index[0]\r\n",
        "min_count_health = train_data['Reco_Policy_Cat'].value_counts().index[-1]\r\n",
        "train_data['Reco_Policy_Cat_Max'] = np.where(train_data['Reco_Policy_Cat']== max_count_health,1,0)\r\n",
        "train_data['Reco_Policy_Cat_Min'] = np.where(train_data['Reco_Policy_Cat']== min_count_health,1,0)"
      ],
      "execution_count": null,
      "outputs": []
    },
    {
      "cell_type": "code",
      "metadata": {
        "id": "8nPos2QA92rf"
      },
      "source": [
        "# Feature Engineering Numerical Continuous Features: ['Region_Code', 'Age','Reco_Policy_Premium']\r\n",
        "# 1. Region_Code\r\n",
        "for i in range(train_data.shape[0]):\r\n",
        "  if train_data[\"Region_Code\"][i] in range(0,1001):\r\n",
        "    train_data['Region_Code'][i] = 'Code within 1000'\r\n",
        "  elif train_data[\"Region_Code\"][i] in range(1001,2001):\r\n",
        "    train_data['Region_Code'][i] = 'Code within 2000'\r\n",
        "  elif train_data[\"Region_Code\"][i] in range(2001,3001):\r\n",
        "    train_data['Region_Code'][i] = 'Code within 3000'\r\n",
        "  elif train_data[\"Region_Code\"][i] in range(3001,4001):\r\n",
        "    train_data['Region_Code'][i] = 'Code within 4000'\r\n",
        "  elif train_data[\"Region_Code\"][i] in range(4001,7001):\r\n",
        "    train_data['Region_Code'][i] = 'Code within 7000'\r\n",
        "\r\n",
        "# 2. 'Age'\r\n",
        "for i in range(train_data.shape[0]):\r\n",
        "  if train_data[\"Age\"][i] in range(0,31):\r\n",
        "    train_data['Age'][i] = 'Within_30'\r\n",
        "  elif train_data[\"Age\"][i] in range(31,46):\r\n",
        "    train_data['Age'][i] = 'Within_45'\r\n",
        "  elif train_data[\"Age\"][i] in range(46,61):\r\n",
        "    train_data['Age'][i] = 'Within_60'\r\n",
        "  elif train_data[\"Age\"][i] in range(61,81):\r\n",
        "    train_data['Age'][i] = 'Above_60'\r\n",
        "\r\n",
        "# 3. 'Reco_Policy_Premium'\r\n",
        "mean_premium = train_data['Reco_Policy_Premium'].mean()\r\n",
        "train_data['Reco_Policy_Premium_Less'] = np.where(train_data['Reco_Policy_Premium']<=mean_premium,1,0)\r\n",
        "train_data['Reco_Policy_Premium_More'] = np.where(train_data['Reco_Policy_Premium']>mean_premium,1,0)"
      ],
      "execution_count": null,
      "outputs": []
    },
    {
      "cell_type": "code",
      "metadata": {
        "id": "Abzma7XaCyI_"
      },
      "source": [
        "# Feature Engineering Categorical Features: [City_Code,Accomodation_Type,Reco_Insurance_Type,Is_Spouse,Health Indicator,Holding_Policy_Duration]\r\n",
        "#1. Is_Spouse\r\n",
        "train_data[\"Married\"] = np.where(train_data['Is_Spouse']=='Yes',1,0)\r\n",
        "train_data[\"UnMarried\"] = np.where(train_data['Is_Spouse']=='No',1,0)\r\n",
        "\r\n",
        "#2. Health Indicator\r\n",
        "indicator_max_count = train_data['Health Indicator'].value_counts().index[0]\r\n",
        "indicator_min_count = train_data['Health Indicator'].value_counts().index[-1]\r\n",
        "indicator_mising_count = train_data['Health Indicator'].value_counts().index[1]\r\n",
        "train_data['Health Indicator_Max'] = np.where(train_data['Health Indicator']== indicator_max_count,1,0)\r\n",
        "train_data['Health Indicator_Min'] = np.where(train_data['Health Indicator']== indicator_min_count,1,0)"
      ],
      "execution_count": null,
      "outputs": []
    },
    {
      "cell_type": "code",
      "metadata": {
        "colab": {
          "base_uri": "https://localhost:8080/",
          "height": 317
        },
        "id": "W_h3ezjxWUYZ",
        "outputId": "dc109bdf-22b7-450e-a8a3-77eb67153380"
      },
      "source": [
        "train_data.head()"
      ],
      "execution_count": null,
      "outputs": [
        {
          "output_type": "execute_result",
          "data": {
            "text/html": [
              "<div>\n",
              "<style scoped>\n",
              "    .dataframe tbody tr th:only-of-type {\n",
              "        vertical-align: middle;\n",
              "    }\n",
              "\n",
              "    .dataframe tbody tr th {\n",
              "        vertical-align: top;\n",
              "    }\n",
              "\n",
              "    .dataframe thead th {\n",
              "        text-align: right;\n",
              "    }\n",
              "</style>\n",
              "<table border=\"1\" class=\"dataframe\">\n",
              "  <thead>\n",
              "    <tr style=\"text-align: right;\">\n",
              "      <th></th>\n",
              "      <th>City_Code</th>\n",
              "      <th>Region_Code</th>\n",
              "      <th>Accomodation_Type</th>\n",
              "      <th>Reco_Insurance_Type</th>\n",
              "      <th>Age</th>\n",
              "      <th>Is_Spouse</th>\n",
              "      <th>Health Indicator</th>\n",
              "      <th>Holding_Policy_Duration</th>\n",
              "      <th>Holding_Policy_Type</th>\n",
              "      <th>Reco_Policy_Cat</th>\n",
              "      <th>Reco_Policy_Premium</th>\n",
              "      <th>Response</th>\n",
              "      <th>Holding_Policy_Type_nan</th>\n",
              "      <th>Holding_Policy_Type_Max_count</th>\n",
              "      <th>Holding_Policy_Type_Min_count</th>\n",
              "      <th>Reco_Policy_Cat_Max</th>\n",
              "      <th>Reco_Policy_Cat_Min</th>\n",
              "      <th>Reco_Policy_Premium_Less</th>\n",
              "      <th>Reco_Policy_Premium_More</th>\n",
              "      <th>Married</th>\n",
              "      <th>UnMarried</th>\n",
              "      <th>Health Indicator_Max</th>\n",
              "      <th>Health Indicator_Min</th>\n",
              "    </tr>\n",
              "  </thead>\n",
              "  <tbody>\n",
              "    <tr>\n",
              "      <th>0</th>\n",
              "      <td>C3</td>\n",
              "      <td>Code within 4000</td>\n",
              "      <td>Rented</td>\n",
              "      <td>Individual</td>\n",
              "      <td>Within_45</td>\n",
              "      <td>No</td>\n",
              "      <td>X1</td>\n",
              "      <td>14+</td>\n",
              "      <td>3.000000</td>\n",
              "      <td>22</td>\n",
              "      <td>11628.0</td>\n",
              "      <td>0</td>\n",
              "      <td>0</td>\n",
              "      <td>1</td>\n",
              "      <td>0</td>\n",
              "      <td>1</td>\n",
              "      <td>0</td>\n",
              "      <td>1</td>\n",
              "      <td>0</td>\n",
              "      <td>0</td>\n",
              "      <td>1</td>\n",
              "      <td>1</td>\n",
              "      <td>0</td>\n",
              "    </tr>\n",
              "    <tr>\n",
              "      <th>1</th>\n",
              "      <td>C5</td>\n",
              "      <td>Code within 2000</td>\n",
              "      <td>Owned</td>\n",
              "      <td>Joint</td>\n",
              "      <td>Above_60</td>\n",
              "      <td>No</td>\n",
              "      <td>X2</td>\n",
              "      <td>Missing</td>\n",
              "      <td>2.439228</td>\n",
              "      <td>22</td>\n",
              "      <td>30510.0</td>\n",
              "      <td>0</td>\n",
              "      <td>1</td>\n",
              "      <td>0</td>\n",
              "      <td>0</td>\n",
              "      <td>1</td>\n",
              "      <td>0</td>\n",
              "      <td>0</td>\n",
              "      <td>1</td>\n",
              "      <td>0</td>\n",
              "      <td>1</td>\n",
              "      <td>0</td>\n",
              "      <td>0</td>\n",
              "    </tr>\n",
              "    <tr>\n",
              "      <th>2</th>\n",
              "      <td>C5</td>\n",
              "      <td>Code within 4000</td>\n",
              "      <td>Owned</td>\n",
              "      <td>Individual</td>\n",
              "      <td>Within_45</td>\n",
              "      <td>No</td>\n",
              "      <td>Missing</td>\n",
              "      <td>1.0</td>\n",
              "      <td>1.000000</td>\n",
              "      <td>19</td>\n",
              "      <td>7450.0</td>\n",
              "      <td>1</td>\n",
              "      <td>0</td>\n",
              "      <td>0</td>\n",
              "      <td>0</td>\n",
              "      <td>0</td>\n",
              "      <td>0</td>\n",
              "      <td>1</td>\n",
              "      <td>0</td>\n",
              "      <td>0</td>\n",
              "      <td>1</td>\n",
              "      <td>0</td>\n",
              "      <td>0</td>\n",
              "    </tr>\n",
              "    <tr>\n",
              "      <th>3</th>\n",
              "      <td>C24</td>\n",
              "      <td>Code within 7000</td>\n",
              "      <td>Owned</td>\n",
              "      <td>Joint</td>\n",
              "      <td>Within_60</td>\n",
              "      <td>No</td>\n",
              "      <td>X1</td>\n",
              "      <td>14+</td>\n",
              "      <td>3.000000</td>\n",
              "      <td>19</td>\n",
              "      <td>17780.0</td>\n",
              "      <td>0</td>\n",
              "      <td>0</td>\n",
              "      <td>1</td>\n",
              "      <td>0</td>\n",
              "      <td>0</td>\n",
              "      <td>0</td>\n",
              "      <td>0</td>\n",
              "      <td>1</td>\n",
              "      <td>0</td>\n",
              "      <td>1</td>\n",
              "      <td>1</td>\n",
              "      <td>0</td>\n",
              "    </tr>\n",
              "    <tr>\n",
              "      <th>4</th>\n",
              "      <td>C8</td>\n",
              "      <td>Code within 3000</td>\n",
              "      <td>Rented</td>\n",
              "      <td>Individual</td>\n",
              "      <td>Within_45</td>\n",
              "      <td>No</td>\n",
              "      <td>X2</td>\n",
              "      <td>3.0</td>\n",
              "      <td>1.000000</td>\n",
              "      <td>16</td>\n",
              "      <td>10404.0</td>\n",
              "      <td>0</td>\n",
              "      <td>0</td>\n",
              "      <td>0</td>\n",
              "      <td>0</td>\n",
              "      <td>0</td>\n",
              "      <td>0</td>\n",
              "      <td>1</td>\n",
              "      <td>0</td>\n",
              "      <td>0</td>\n",
              "      <td>1</td>\n",
              "      <td>0</td>\n",
              "      <td>0</td>\n",
              "    </tr>\n",
              "  </tbody>\n",
              "</table>\n",
              "</div>"
            ],
            "text/plain": [
              "  City_Code       Region_Code  ... Health Indicator_Max Health Indicator_Min\n",
              "0        C3  Code within 4000  ...                    1                    0\n",
              "1        C5  Code within 2000  ...                    0                    0\n",
              "2        C5  Code within 4000  ...                    0                    0\n",
              "3       C24  Code within 7000  ...                    1                    0\n",
              "4        C8  Code within 3000  ...                    0                    0\n",
              "\n",
              "[5 rows x 23 columns]"
            ]
          },
          "metadata": {
            "tags": []
          },
          "execution_count": 146
        }
      ]
    },
    {
      "cell_type": "code",
      "metadata": {
        "colab": {
          "base_uri": "https://localhost:8080/",
          "height": 196
        },
        "id": "Dy5Z2DgHXX8M",
        "outputId": "d3fe694f-7ba6-4593-fcd1-1db80ab830be"
      },
      "source": [
        "categorical_features = [feature for feature in train_data.columns if train_data[feature].dtypes=='O']\r\n",
        "train_data[categorical_features].head()"
      ],
      "execution_count": null,
      "outputs": [
        {
          "output_type": "execute_result",
          "data": {
            "text/html": [
              "<div>\n",
              "<style scoped>\n",
              "    .dataframe tbody tr th:only-of-type {\n",
              "        vertical-align: middle;\n",
              "    }\n",
              "\n",
              "    .dataframe tbody tr th {\n",
              "        vertical-align: top;\n",
              "    }\n",
              "\n",
              "    .dataframe thead th {\n",
              "        text-align: right;\n",
              "    }\n",
              "</style>\n",
              "<table border=\"1\" class=\"dataframe\">\n",
              "  <thead>\n",
              "    <tr style=\"text-align: right;\">\n",
              "      <th></th>\n",
              "      <th>City_Code</th>\n",
              "      <th>Region_Code</th>\n",
              "      <th>Accomodation_Type</th>\n",
              "      <th>Reco_Insurance_Type</th>\n",
              "      <th>Age</th>\n",
              "      <th>Is_Spouse</th>\n",
              "      <th>Health Indicator</th>\n",
              "      <th>Holding_Policy_Duration</th>\n",
              "    </tr>\n",
              "  </thead>\n",
              "  <tbody>\n",
              "    <tr>\n",
              "      <th>0</th>\n",
              "      <td>C3</td>\n",
              "      <td>Code within 4000</td>\n",
              "      <td>Rented</td>\n",
              "      <td>Individual</td>\n",
              "      <td>Within_45</td>\n",
              "      <td>No</td>\n",
              "      <td>X1</td>\n",
              "      <td>14+</td>\n",
              "    </tr>\n",
              "    <tr>\n",
              "      <th>1</th>\n",
              "      <td>C5</td>\n",
              "      <td>Code within 2000</td>\n",
              "      <td>Owned</td>\n",
              "      <td>Joint</td>\n",
              "      <td>Above_60</td>\n",
              "      <td>No</td>\n",
              "      <td>X2</td>\n",
              "      <td>Missing</td>\n",
              "    </tr>\n",
              "    <tr>\n",
              "      <th>2</th>\n",
              "      <td>C5</td>\n",
              "      <td>Code within 4000</td>\n",
              "      <td>Owned</td>\n",
              "      <td>Individual</td>\n",
              "      <td>Within_45</td>\n",
              "      <td>No</td>\n",
              "      <td>Missing</td>\n",
              "      <td>1.0</td>\n",
              "    </tr>\n",
              "    <tr>\n",
              "      <th>3</th>\n",
              "      <td>C24</td>\n",
              "      <td>Code within 7000</td>\n",
              "      <td>Owned</td>\n",
              "      <td>Joint</td>\n",
              "      <td>Within_60</td>\n",
              "      <td>No</td>\n",
              "      <td>X1</td>\n",
              "      <td>14+</td>\n",
              "    </tr>\n",
              "    <tr>\n",
              "      <th>4</th>\n",
              "      <td>C8</td>\n",
              "      <td>Code within 3000</td>\n",
              "      <td>Rented</td>\n",
              "      <td>Individual</td>\n",
              "      <td>Within_45</td>\n",
              "      <td>No</td>\n",
              "      <td>X2</td>\n",
              "      <td>3.0</td>\n",
              "    </tr>\n",
              "  </tbody>\n",
              "</table>\n",
              "</div>"
            ],
            "text/plain": [
              "  City_Code       Region_Code  ... Health Indicator Holding_Policy_Duration\n",
              "0        C3  Code within 4000  ...               X1                     14+\n",
              "1        C5  Code within 2000  ...               X2                 Missing\n",
              "2        C5  Code within 4000  ...          Missing                     1.0\n",
              "3       C24  Code within 7000  ...               X1                     14+\n",
              "4        C8  Code within 3000  ...               X2                     3.0\n",
              "\n",
              "[5 rows x 8 columns]"
            ]
          },
          "metadata": {
            "tags": []
          },
          "execution_count": 147
        }
      ]
    },
    {
      "cell_type": "code",
      "metadata": {
        "id": "kNcqsviSXzo4"
      },
      "source": [
        "# Encoding Categorical Features\r\n",
        "for feature in categorical_features:\r\n",
        "    labels_ordered = train_data.groupby([feature])['Response'].mean().sort_values().index\r\n",
        "    labels_ordered = {k:i for i,k in enumerate(labels_ordered,0)}\r\n",
        "    train_data[feature]=train_data[feature].map(labels_ordered)"
      ],
      "execution_count": null,
      "outputs": []
    },
    {
      "cell_type": "code",
      "metadata": {
        "colab": {
          "base_uri": "https://localhost:8080/",
          "height": 233
        },
        "id": "IN93ynjOX9VU",
        "outputId": "b212fcb8-7a7e-47ec-95c9-5b32d014ca09"
      },
      "source": [
        "train_data.head()"
      ],
      "execution_count": null,
      "outputs": [
        {
          "output_type": "execute_result",
          "data": {
            "text/html": [
              "<div>\n",
              "<style scoped>\n",
              "    .dataframe tbody tr th:only-of-type {\n",
              "        vertical-align: middle;\n",
              "    }\n",
              "\n",
              "    .dataframe tbody tr th {\n",
              "        vertical-align: top;\n",
              "    }\n",
              "\n",
              "    .dataframe thead th {\n",
              "        text-align: right;\n",
              "    }\n",
              "</style>\n",
              "<table border=\"1\" class=\"dataframe\">\n",
              "  <thead>\n",
              "    <tr style=\"text-align: right;\">\n",
              "      <th></th>\n",
              "      <th>City_Code</th>\n",
              "      <th>Region_Code</th>\n",
              "      <th>Accomodation_Type</th>\n",
              "      <th>Reco_Insurance_Type</th>\n",
              "      <th>Age</th>\n",
              "      <th>Is_Spouse</th>\n",
              "      <th>Health Indicator</th>\n",
              "      <th>Holding_Policy_Duration</th>\n",
              "      <th>Holding_Policy_Type</th>\n",
              "      <th>Reco_Policy_Cat</th>\n",
              "      <th>Reco_Policy_Premium</th>\n",
              "      <th>Response</th>\n",
              "      <th>Holding_Policy_Type_nan</th>\n",
              "      <th>Holding_Policy_Type_Max_count</th>\n",
              "      <th>Holding_Policy_Type_Min_count</th>\n",
              "      <th>Reco_Policy_Cat_Max</th>\n",
              "      <th>Reco_Policy_Cat_Min</th>\n",
              "      <th>Reco_Policy_Premium_Less</th>\n",
              "      <th>Reco_Policy_Premium_More</th>\n",
              "      <th>Married</th>\n",
              "      <th>UnMarried</th>\n",
              "      <th>Health Indicator_Max</th>\n",
              "      <th>Health Indicator_Min</th>\n",
              "    </tr>\n",
              "  </thead>\n",
              "  <tbody>\n",
              "    <tr>\n",
              "      <th>0</th>\n",
              "      <td>19</td>\n",
              "      <td>4</td>\n",
              "      <td>0</td>\n",
              "      <td>0</td>\n",
              "      <td>3</td>\n",
              "      <td>0</td>\n",
              "      <td>8</td>\n",
              "      <td>9</td>\n",
              "      <td>3.000000</td>\n",
              "      <td>22</td>\n",
              "      <td>11628.0</td>\n",
              "      <td>0</td>\n",
              "      <td>0</td>\n",
              "      <td>1</td>\n",
              "      <td>0</td>\n",
              "      <td>1</td>\n",
              "      <td>0</td>\n",
              "      <td>1</td>\n",
              "      <td>0</td>\n",
              "      <td>0</td>\n",
              "      <td>1</td>\n",
              "      <td>1</td>\n",
              "      <td>0</td>\n",
              "    </tr>\n",
              "    <tr>\n",
              "      <th>1</th>\n",
              "      <td>9</td>\n",
              "      <td>2</td>\n",
              "      <td>1</td>\n",
              "      <td>1</td>\n",
              "      <td>1</td>\n",
              "      <td>0</td>\n",
              "      <td>6</td>\n",
              "      <td>6</td>\n",
              "      <td>2.439228</td>\n",
              "      <td>22</td>\n",
              "      <td>30510.0</td>\n",
              "      <td>0</td>\n",
              "      <td>1</td>\n",
              "      <td>0</td>\n",
              "      <td>0</td>\n",
              "      <td>1</td>\n",
              "      <td>0</td>\n",
              "      <td>0</td>\n",
              "      <td>1</td>\n",
              "      <td>0</td>\n",
              "      <td>1</td>\n",
              "      <td>0</td>\n",
              "      <td>0</td>\n",
              "    </tr>\n",
              "    <tr>\n",
              "      <th>2</th>\n",
              "      <td>9</td>\n",
              "      <td>4</td>\n",
              "      <td>1</td>\n",
              "      <td>0</td>\n",
              "      <td>3</td>\n",
              "      <td>0</td>\n",
              "      <td>2</td>\n",
              "      <td>0</td>\n",
              "      <td>1.000000</td>\n",
              "      <td>19</td>\n",
              "      <td>7450.0</td>\n",
              "      <td>1</td>\n",
              "      <td>0</td>\n",
              "      <td>0</td>\n",
              "      <td>0</td>\n",
              "      <td>0</td>\n",
              "      <td>0</td>\n",
              "      <td>1</td>\n",
              "      <td>0</td>\n",
              "      <td>0</td>\n",
              "      <td>1</td>\n",
              "      <td>0</td>\n",
              "      <td>0</td>\n",
              "    </tr>\n",
              "    <tr>\n",
              "      <th>3</th>\n",
              "      <td>13</td>\n",
              "      <td>0</td>\n",
              "      <td>1</td>\n",
              "      <td>1</td>\n",
              "      <td>2</td>\n",
              "      <td>0</td>\n",
              "      <td>8</td>\n",
              "      <td>9</td>\n",
              "      <td>3.000000</td>\n",
              "      <td>19</td>\n",
              "      <td>17780.0</td>\n",
              "      <td>0</td>\n",
              "      <td>0</td>\n",
              "      <td>1</td>\n",
              "      <td>0</td>\n",
              "      <td>0</td>\n",
              "      <td>0</td>\n",
              "      <td>0</td>\n",
              "      <td>1</td>\n",
              "      <td>0</td>\n",
              "      <td>1</td>\n",
              "      <td>1</td>\n",
              "      <td>0</td>\n",
              "    </tr>\n",
              "    <tr>\n",
              "      <th>4</th>\n",
              "      <td>22</td>\n",
              "      <td>3</td>\n",
              "      <td>0</td>\n",
              "      <td>0</td>\n",
              "      <td>3</td>\n",
              "      <td>0</td>\n",
              "      <td>6</td>\n",
              "      <td>1</td>\n",
              "      <td>1.000000</td>\n",
              "      <td>16</td>\n",
              "      <td>10404.0</td>\n",
              "      <td>0</td>\n",
              "      <td>0</td>\n",
              "      <td>0</td>\n",
              "      <td>0</td>\n",
              "      <td>0</td>\n",
              "      <td>0</td>\n",
              "      <td>1</td>\n",
              "      <td>0</td>\n",
              "      <td>0</td>\n",
              "      <td>1</td>\n",
              "      <td>0</td>\n",
              "      <td>0</td>\n",
              "    </tr>\n",
              "  </tbody>\n",
              "</table>\n",
              "</div>"
            ],
            "text/plain": [
              "   City_Code  Region_Code  ...  Health Indicator_Max  Health Indicator_Min\n",
              "0         19            4  ...                     1                     0\n",
              "1          9            2  ...                     0                     0\n",
              "2          9            4  ...                     0                     0\n",
              "3         13            0  ...                     1                     0\n",
              "4         22            3  ...                     0                     0\n",
              "\n",
              "[5 rows x 23 columns]"
            ]
          },
          "metadata": {
            "tags": []
          },
          "execution_count": 149
        }
      ]
    },
    {
      "cell_type": "code",
      "metadata": {
        "id": "OwYZzcVJsS1Q"
      },
      "source": [
        "# Storing the work \r\n",
        "train_data.to_csv(\"train.csv\",index=False)"
      ],
      "execution_count": null,
      "outputs": []
    },
    {
      "cell_type": "code",
      "metadata": {
        "id": "bFSllRB8XuvF"
      },
      "source": [
        "train_feature_data = pd.read_csv('/content/train.csv')"
      ],
      "execution_count": 4,
      "outputs": []
    },
    {
      "cell_type": "code",
      "metadata": {
        "id": "YvQ2h5k_OIlk"
      },
      "source": [
        "#Resampling number of samples in the target variables\r\n",
        "y_train = train_feature_data[[\"Response\"]]\r\n",
        "x_train = train_feature_data.drop(columns=[\"Response\"],axis=1)\r\n",
        "from imblearn.combine import SMOTETomek\r\n",
        "smt = SMOTETomek()\r\n",
        "X_train_sm,y_train_sm = smt.fit_resample(x_train,y_train)"
      ],
      "execution_count": null,
      "outputs": []
    },
    {
      "cell_type": "code",
      "metadata": {
        "id": "TcrzUcFaQtBn"
      },
      "source": [
        "# Converting to DataFrames\r\n",
        "X_train_sm = pd.DataFrame(X_train_sm,columns=x_train.columns)\r\n",
        "y_train_sm = pd.DataFrame(y_train_sm,columns=y_train.columns)"
      ],
      "execution_count": 6,
      "outputs": []
    },
    {
      "cell_type": "code",
      "metadata": {
        "colab": {
          "base_uri": "https://localhost:8080/"
        },
        "id": "7pNhxzThsS3i",
        "outputId": "57ecf23a-015f-4951-83a0-1998000143ae"
      },
      "source": [
        "# Feature Scaling\r\n",
        "feature_scale = [feature for feature in X_train_sm.columns if feature in ['Region_Code','Age','Reco_Policy_Premium']]\r\n",
        "pt = PowerTransformer(method='yeo-johnson',standardize=False)\r\n",
        "pt.fit(X_train_sm[feature_scale])\r\n"
      ],
      "execution_count": 7,
      "outputs": [
        {
          "output_type": "execute_result",
          "data": {
            "text/plain": [
              "PowerTransformer(copy=True, method='yeo-johnson', standardize=False)"
            ]
          },
          "metadata": {
            "tags": []
          },
          "execution_count": 7
        }
      ]
    },
    {
      "cell_type": "code",
      "metadata": {
        "id": "laV1LuZlSLEY"
      },
      "source": [
        "# transforming the data\r\n",
        "training_data = pd.DataFrame(pt.transform(X_train_sm[feature_scale]),columns=feature_scale)"
      ],
      "execution_count": 8,
      "outputs": []
    },
    {
      "cell_type": "code",
      "metadata": {
        "colab": {
          "base_uri": "https://localhost:8080/",
          "height": 196
        },
        "id": "YkB4ID1lJFGr",
        "outputId": "6421daf7-4100-43ea-c5e8-b3cdfd33d6ee"
      },
      "source": [
        "training_data.head()"
      ],
      "execution_count": 9,
      "outputs": [
        {
          "output_type": "execute_result",
          "data": {
            "text/html": [
              "<div>\n",
              "<style scoped>\n",
              "    .dataframe tbody tr th:only-of-type {\n",
              "        vertical-align: middle;\n",
              "    }\n",
              "\n",
              "    .dataframe tbody tr th {\n",
              "        vertical-align: top;\n",
              "    }\n",
              "\n",
              "    .dataframe thead th {\n",
              "        text-align: right;\n",
              "    }\n",
              "</style>\n",
              "<table border=\"1\" class=\"dataframe\">\n",
              "  <thead>\n",
              "    <tr style=\"text-align: right;\">\n",
              "      <th></th>\n",
              "      <th>Region_Code</th>\n",
              "      <th>Age</th>\n",
              "      <th>Reco_Policy_Premium</th>\n",
              "    </tr>\n",
              "  </thead>\n",
              "  <tbody>\n",
              "    <tr>\n",
              "      <th>0</th>\n",
              "      <td>2.259549</td>\n",
              "      <td>2.134207</td>\n",
              "      <td>47.066968</td>\n",
              "    </tr>\n",
              "    <tr>\n",
              "      <th>1</th>\n",
              "      <td>2.259549</td>\n",
              "      <td>2.134207</td>\n",
              "      <td>41.040083</td>\n",
              "    </tr>\n",
              "    <tr>\n",
              "      <th>2</th>\n",
              "      <td>0.000000</td>\n",
              "      <td>1.539641</td>\n",
              "      <td>53.574279</td>\n",
              "    </tr>\n",
              "    <tr>\n",
              "      <th>3</th>\n",
              "      <td>1.853042</td>\n",
              "      <td>2.134207</td>\n",
              "      <td>45.488832</td>\n",
              "    </tr>\n",
              "    <tr>\n",
              "      <th>4</th>\n",
              "      <td>1.379782</td>\n",
              "      <td>1.539641</td>\n",
              "      <td>51.145075</td>\n",
              "    </tr>\n",
              "  </tbody>\n",
              "</table>\n",
              "</div>"
            ],
            "text/plain": [
              "   Region_Code       Age  Reco_Policy_Premium\n",
              "0     2.259549  2.134207            47.066968\n",
              "1     2.259549  2.134207            41.040083\n",
              "2     0.000000  1.539641            53.574279\n",
              "3     1.853042  2.134207            45.488832\n",
              "4     1.379782  1.539641            51.145075"
            ]
          },
          "metadata": {
            "tags": []
          },
          "execution_count": 9
        }
      ]
    },
    {
      "cell_type": "code",
      "metadata": {
        "colab": {
          "base_uri": "https://localhost:8080/",
          "height": 364
        },
        "id": "K6HVU0i9Jgoy",
        "outputId": "8a57b039-b659-4409-ec52-9594af0437e8"
      },
      "source": [
        "# Visualizing the transformed featres\r\n",
        "training_data.hist()"
      ],
      "execution_count": 10,
      "outputs": [
        {
          "output_type": "execute_result",
          "data": {
            "text/plain": [
              "array([[<matplotlib.axes._subplots.AxesSubplot object at 0x7fcf50524f10>,\n",
              "        <matplotlib.axes._subplots.AxesSubplot object at 0x7fcf50500450>],\n",
              "       [<matplotlib.axes._subplots.AxesSubplot object at 0x7fcf504b6ad0>,\n",
              "        <matplotlib.axes._subplots.AxesSubplot object at 0x7fcf5047c190>]],\n",
              "      dtype=object)"
            ]
          },
          "metadata": {
            "tags": []
          },
          "execution_count": 10
        },
        {
          "output_type": "display_data",
          "data": {
            "image/png": "[encoded data removed]",
            "text/plain": [
              "<Figure size 432x288 with 4 Axes>"
            ]
          },
          "metadata": {
            "tags": [],
            "needs_background": "light"
          }
        }
      ]
    },
    {
      "cell_type": "code",
      "metadata": {
        "id": "ADyL04pBgun4"
      },
      "source": [
        "X_train_sm = X_train_sm.drop(columns=['Region_Code','Age','Reco_Policy_Premium'])\r\n",
        "X_train_sm = pd.concat([X_train_sm,training_data],axis=1)"
      ],
      "execution_count": 11,
      "outputs": []
    },
    {
      "cell_type": "code",
      "metadata": {
        "colab": {
          "base_uri": "https://localhost:8080/",
          "height": 233
        },
        "id": "3NxNJB7WhkdB",
        "outputId": "64d58719-dd2b-442a-99af-05704b332358"
      },
      "source": [
        "X_train_sm.head()"
      ],
      "execution_count": 12,
      "outputs": [
        {
          "output_type": "execute_result",
          "data": {
            "text/html": [
              "<div>\n",
              "<style scoped>\n",
              "    .dataframe tbody tr th:only-of-type {\n",
              "        vertical-align: middle;\n",
              "    }\n",
              "\n",
              "    .dataframe tbody tr th {\n",
              "        vertical-align: top;\n",
              "    }\n",
              "\n",
              "    .dataframe thead th {\n",
              "        text-align: right;\n",
              "    }\n",
              "</style>\n",
              "<table border=\"1\" class=\"dataframe\">\n",
              "  <thead>\n",
              "    <tr style=\"text-align: right;\">\n",
              "      <th></th>\n",
              "      <th>City_Code</th>\n",
              "      <th>Accomodation_Type</th>\n",
              "      <th>Reco_Insurance_Type</th>\n",
              "      <th>Is_Spouse</th>\n",
              "      <th>Health Indicator</th>\n",
              "      <th>Holding_Policy_Duration</th>\n",
              "      <th>Holding_Policy_Type</th>\n",
              "      <th>Reco_Policy_Cat</th>\n",
              "      <th>Holding_Policy_Type_nan</th>\n",
              "      <th>Holding_Policy_Type_Max_count</th>\n",
              "      <th>Holding_Policy_Type_Min_count</th>\n",
              "      <th>Reco_Policy_Cat_Max</th>\n",
              "      <th>Reco_Policy_Cat_Min</th>\n",
              "      <th>Reco_Policy_Premium_Less</th>\n",
              "      <th>Reco_Policy_Premium_More</th>\n",
              "      <th>Married</th>\n",
              "      <th>UnMarried</th>\n",
              "      <th>Health Indicator_Max</th>\n",
              "      <th>Health Indicator_Min</th>\n",
              "      <th>Region_Code</th>\n",
              "      <th>Age</th>\n",
              "      <th>Reco_Policy_Premium</th>\n",
              "    </tr>\n",
              "  </thead>\n",
              "  <tbody>\n",
              "    <tr>\n",
              "      <th>0</th>\n",
              "      <td>19.0</td>\n",
              "      <td>0.0</td>\n",
              "      <td>0.0</td>\n",
              "      <td>0.0</td>\n",
              "      <td>8.0</td>\n",
              "      <td>9.0</td>\n",
              "      <td>3.0</td>\n",
              "      <td>22.0</td>\n",
              "      <td>0.0</td>\n",
              "      <td>1.0</td>\n",
              "      <td>0.0</td>\n",
              "      <td>1.0</td>\n",
              "      <td>0.0</td>\n",
              "      <td>1.0</td>\n",
              "      <td>0.0</td>\n",
              "      <td>0.0</td>\n",
              "      <td>1.0</td>\n",
              "      <td>1.0</td>\n",
              "      <td>0.0</td>\n",
              "      <td>2.259549</td>\n",
              "      <td>2.134207</td>\n",
              "      <td>47.066968</td>\n",
              "    </tr>\n",
              "    <tr>\n",
              "      <th>1</th>\n",
              "      <td>9.0</td>\n",
              "      <td>1.0</td>\n",
              "      <td>0.0</td>\n",
              "      <td>0.0</td>\n",
              "      <td>2.0</td>\n",
              "      <td>0.0</td>\n",
              "      <td>1.0</td>\n",
              "      <td>19.0</td>\n",
              "      <td>0.0</td>\n",
              "      <td>0.0</td>\n",
              "      <td>0.0</td>\n",
              "      <td>0.0</td>\n",
              "      <td>0.0</td>\n",
              "      <td>1.0</td>\n",
              "      <td>0.0</td>\n",
              "      <td>0.0</td>\n",
              "      <td>1.0</td>\n",
              "      <td>0.0</td>\n",
              "      <td>0.0</td>\n",
              "      <td>2.259549</td>\n",
              "      <td>2.134207</td>\n",
              "      <td>41.040083</td>\n",
              "    </tr>\n",
              "    <tr>\n",
              "      <th>2</th>\n",
              "      <td>13.0</td>\n",
              "      <td>1.0</td>\n",
              "      <td>1.0</td>\n",
              "      <td>0.0</td>\n",
              "      <td>8.0</td>\n",
              "      <td>9.0</td>\n",
              "      <td>3.0</td>\n",
              "      <td>19.0</td>\n",
              "      <td>0.0</td>\n",
              "      <td>1.0</td>\n",
              "      <td>0.0</td>\n",
              "      <td>0.0</td>\n",
              "      <td>0.0</td>\n",
              "      <td>0.0</td>\n",
              "      <td>1.0</td>\n",
              "      <td>0.0</td>\n",
              "      <td>1.0</td>\n",
              "      <td>1.0</td>\n",
              "      <td>0.0</td>\n",
              "      <td>0.000000</td>\n",
              "      <td>1.539641</td>\n",
              "      <td>53.574279</td>\n",
              "    </tr>\n",
              "    <tr>\n",
              "      <th>3</th>\n",
              "      <td>22.0</td>\n",
              "      <td>0.0</td>\n",
              "      <td>0.0</td>\n",
              "      <td>0.0</td>\n",
              "      <td>6.0</td>\n",
              "      <td>1.0</td>\n",
              "      <td>1.0</td>\n",
              "      <td>16.0</td>\n",
              "      <td>0.0</td>\n",
              "      <td>0.0</td>\n",
              "      <td>0.0</td>\n",
              "      <td>0.0</td>\n",
              "      <td>0.0</td>\n",
              "      <td>1.0</td>\n",
              "      <td>0.0</td>\n",
              "      <td>0.0</td>\n",
              "      <td>1.0</td>\n",
              "      <td>0.0</td>\n",
              "      <td>0.0</td>\n",
              "      <td>1.853042</td>\n",
              "      <td>2.134207</td>\n",
              "      <td>45.488832</td>\n",
              "    </tr>\n",
              "    <tr>\n",
              "      <th>4</th>\n",
              "      <td>12.0</td>\n",
              "      <td>0.0</td>\n",
              "      <td>0.0</td>\n",
              "      <td>0.0</td>\n",
              "      <td>6.0</td>\n",
              "      <td>5.0</td>\n",
              "      <td>1.0</td>\n",
              "      <td>22.0</td>\n",
              "      <td>0.0</td>\n",
              "      <td>0.0</td>\n",
              "      <td>0.0</td>\n",
              "      <td>1.0</td>\n",
              "      <td>0.0</td>\n",
              "      <td>0.0</td>\n",
              "      <td>1.0</td>\n",
              "      <td>0.0</td>\n",
              "      <td>1.0</td>\n",
              "      <td>0.0</td>\n",
              "      <td>0.0</td>\n",
              "      <td>1.379782</td>\n",
              "      <td>1.539641</td>\n",
              "      <td>51.145075</td>\n",
              "    </tr>\n",
              "  </tbody>\n",
              "</table>\n",
              "</div>"
            ],
            "text/plain": [
              "   City_Code  Accomodation_Type  ...       Age  Reco_Policy_Premium\n",
              "0       19.0                0.0  ...  2.134207            47.066968\n",
              "1        9.0                1.0  ...  2.134207            41.040083\n",
              "2       13.0                1.0  ...  1.539641            53.574279\n",
              "3       22.0                0.0  ...  2.134207            45.488832\n",
              "4       12.0                0.0  ...  1.539641            51.145075\n",
              "\n",
              "[5 rows x 22 columns]"
            ]
          },
          "metadata": {
            "tags": []
          },
          "execution_count": 12
        }
      ]
    },
    {
      "cell_type": "code",
      "metadata": {
        "id": "nOFqPuqWhohw"
      },
      "source": [
        "# Standardizing the variables\r\n",
        "from sklearn.preprocessing import StandardScaler\r\n",
        "sc = StandardScaler()\r\n",
        "X_train_sm_norm = pd.DataFrame(sc.fit_transform(X_train_sm))\r\n",
        "X_train_sm_norm.columns = X_train_sm.columns"
      ],
      "execution_count": 13,
      "outputs": []
    },
    {
      "cell_type": "code",
      "metadata": {
        "colab": {
          "base_uri": "https://localhost:8080/",
          "height": 233
        },
        "id": "XwVwk1Ych8TP",
        "outputId": "de91088d-4c5f-46ed-e35f-fd9eed58d1b6"
      },
      "source": [
        "X_train_sm_norm.head()"
      ],
      "execution_count": 14,
      "outputs": [
        {
          "output_type": "execute_result",
          "data": {
            "text/html": [
              "<div>\n",
              "<style scoped>\n",
              "    .dataframe tbody tr th:only-of-type {\n",
              "        vertical-align: middle;\n",
              "    }\n",
              "\n",
              "    .dataframe tbody tr th {\n",
              "        vertical-align: top;\n",
              "    }\n",
              "\n",
              "    .dataframe thead th {\n",
              "        text-align: right;\n",
              "    }\n",
              "</style>\n",
              "<table border=\"1\" class=\"dataframe\">\n",
              "  <thead>\n",
              "    <tr style=\"text-align: right;\">\n",
              "      <th></th>\n",
              "      <th>City_Code</th>\n",
              "      <th>Accomodation_Type</th>\n",
              "      <th>Reco_Insurance_Type</th>\n",
              "      <th>Is_Spouse</th>\n",
              "      <th>Health Indicator</th>\n",
              "      <th>Holding_Policy_Duration</th>\n",
              "      <th>Holding_Policy_Type</th>\n",
              "      <th>Reco_Policy_Cat</th>\n",
              "      <th>Holding_Policy_Type_nan</th>\n",
              "      <th>Holding_Policy_Type_Max_count</th>\n",
              "      <th>Holding_Policy_Type_Min_count</th>\n",
              "      <th>Reco_Policy_Cat_Max</th>\n",
              "      <th>Reco_Policy_Cat_Min</th>\n",
              "      <th>Reco_Policy_Premium_Less</th>\n",
              "      <th>Reco_Policy_Premium_More</th>\n",
              "      <th>Married</th>\n",
              "      <th>UnMarried</th>\n",
              "      <th>Health Indicator_Max</th>\n",
              "      <th>Health Indicator_Min</th>\n",
              "      <th>Region_Code</th>\n",
              "      <th>Age</th>\n",
              "      <th>Reco_Policy_Premium</th>\n",
              "    </tr>\n",
              "  </thead>\n",
              "  <tbody>\n",
              "    <tr>\n",
              "      <th>0</th>\n",
              "      <td>-0.103581</td>\n",
              "      <td>-1.165979</td>\n",
              "      <td>-0.519239</td>\n",
              "      <td>-0.459105</td>\n",
              "      <td>1.227347</td>\n",
              "      <td>1.004596</td>\n",
              "      <td>0.748871</td>\n",
              "      <td>1.097075</td>\n",
              "      <td>-0.865087</td>\n",
              "      <td>1.790318</td>\n",
              "      <td>-0.315743</td>\n",
              "      <td>2.606650</td>\n",
              "      <td>-0.122146</td>\n",
              "      <td>0.891291</td>\n",
              "      <td>-0.891291</td>\n",
              "      <td>-0.459105</td>\n",
              "      <td>0.459105</td>\n",
              "      <td>1.802592</td>\n",
              "      <td>-0.035428</td>\n",
              "      <td>1.757578</td>\n",
              "      <td>1.347645</td>\n",
              "      <td>-0.244523</td>\n",
              "    </tr>\n",
              "    <tr>\n",
              "      <th>1</th>\n",
              "      <td>-1.436682</td>\n",
              "      <td>0.950387</td>\n",
              "      <td>-0.519239</td>\n",
              "      <td>-0.459105</td>\n",
              "      <td>-1.522192</td>\n",
              "      <td>-1.728824</td>\n",
              "      <td>-1.913778</td>\n",
              "      <td>0.581155</td>\n",
              "      <td>-0.865087</td>\n",
              "      <td>-0.625375</td>\n",
              "      <td>-0.315743</td>\n",
              "      <td>-0.433964</td>\n",
              "      <td>-0.122146</td>\n",
              "      <td>0.891291</td>\n",
              "      <td>-0.891291</td>\n",
              "      <td>-0.459105</td>\n",
              "      <td>0.459105</td>\n",
              "      <td>-0.621206</td>\n",
              "      <td>-0.035428</td>\n",
              "      <td>1.757578</td>\n",
              "      <td>1.347645</td>\n",
              "      <td>-1.095770</td>\n",
              "    </tr>\n",
              "    <tr>\n",
              "      <th>2</th>\n",
              "      <td>-0.903442</td>\n",
              "      <td>0.950387</td>\n",
              "      <td>2.057102</td>\n",
              "      <td>-0.459105</td>\n",
              "      <td>1.227347</td>\n",
              "      <td>1.004596</td>\n",
              "      <td>0.748871</td>\n",
              "      <td>0.581155</td>\n",
              "      <td>-0.865087</td>\n",
              "      <td>1.790318</td>\n",
              "      <td>-0.315743</td>\n",
              "      <td>-0.433964</td>\n",
              "      <td>-0.122146</td>\n",
              "      <td>-1.122005</td>\n",
              "      <td>1.122005</td>\n",
              "      <td>-0.459105</td>\n",
              "      <td>0.459105</td>\n",
              "      <td>1.802592</td>\n",
              "      <td>-0.035428</td>\n",
              "      <td>-2.049834</td>\n",
              "      <td>0.589290</td>\n",
              "      <td>0.674580</td>\n",
              "    </tr>\n",
              "    <tr>\n",
              "      <th>3</th>\n",
              "      <td>0.296349</td>\n",
              "      <td>-1.165979</td>\n",
              "      <td>-0.519239</td>\n",
              "      <td>-0.459105</td>\n",
              "      <td>0.310834</td>\n",
              "      <td>-1.425111</td>\n",
              "      <td>-1.913778</td>\n",
              "      <td>0.065234</td>\n",
              "      <td>-0.865087</td>\n",
              "      <td>-0.625375</td>\n",
              "      <td>-0.315743</td>\n",
              "      <td>-0.433964</td>\n",
              "      <td>-0.122146</td>\n",
              "      <td>0.891291</td>\n",
              "      <td>-0.891291</td>\n",
              "      <td>-0.459105</td>\n",
              "      <td>0.459105</td>\n",
              "      <td>-0.621206</td>\n",
              "      <td>-0.035428</td>\n",
              "      <td>1.072600</td>\n",
              "      <td>1.347645</td>\n",
              "      <td>-0.467422</td>\n",
              "    </tr>\n",
              "    <tr>\n",
              "      <th>4</th>\n",
              "      <td>-1.036752</td>\n",
              "      <td>-1.165979</td>\n",
              "      <td>-0.519239</td>\n",
              "      <td>-0.459105</td>\n",
              "      <td>0.310834</td>\n",
              "      <td>-0.210257</td>\n",
              "      <td>-1.913778</td>\n",
              "      <td>1.097075</td>\n",
              "      <td>-0.865087</td>\n",
              "      <td>-0.625375</td>\n",
              "      <td>-0.315743</td>\n",
              "      <td>2.606650</td>\n",
              "      <td>-0.122146</td>\n",
              "      <td>-1.122005</td>\n",
              "      <td>1.122005</td>\n",
              "      <td>-0.459105</td>\n",
              "      <td>0.459105</td>\n",
              "      <td>-0.621206</td>\n",
              "      <td>-0.035428</td>\n",
              "      <td>0.275141</td>\n",
              "      <td>0.589290</td>\n",
              "      <td>0.331475</td>\n",
              "    </tr>\n",
              "  </tbody>\n",
              "</table>\n",
              "</div>"
            ],
            "text/plain": [
              "   City_Code  Accomodation_Type  ...       Age  Reco_Policy_Premium\n",
              "0  -0.103581          -1.165979  ...  1.347645            -0.244523\n",
              "1  -1.436682           0.950387  ...  1.347645            -1.095770\n",
              "2  -0.903442           0.950387  ...  0.589290             0.674580\n",
              "3   0.296349          -1.165979  ...  1.347645            -0.467422\n",
              "4  -1.036752          -1.165979  ...  0.589290             0.331475\n",
              "\n",
              "[5 rows x 22 columns]"
            ]
          },
          "metadata": {
            "tags": []
          },
          "execution_count": 14
        }
      ]
    },
    {
      "cell_type": "markdown",
      "metadata": {
        "id": "hNQKOAs_29nV"
      },
      "source": [
        "#Feature Selection Techniques"
      ]
    },
    {
      "cell_type": "code",
      "metadata": {
        "colab": {
          "base_uri": "https://localhost:8080/",
          "height": 335
        },
        "id": "9NtpMjTCoFbj",
        "outputId": "01af025c-fc64-4258-e4e1-56bc6bf52cab"
      },
      "source": [
        "# Information Gain\r\n",
        "#from sklearn.feature_selection import mutual_info_classif\r\n",
        "\r\n",
        "#importances = mutual_info_classif(X_train_sm_norm,y_train_sm)\r\n",
        "#feat_importances = pd.Series(importances,index=X_train_sm_norm.columns)\r\n",
        "#feat_importances.nlargest(8).plot(kind=\"barh\")"
      ],
      "execution_count": 15,
      "outputs": [
        {
          "output_type": "stream",
          "text": [
            "/usr/local/lib/python3.7/dist-packages/sklearn/utils/validation.py:760: DataConversionWarning: A column-vector y was passed when a 1d array was expected. Please change the shape of y to (n_samples, ), for example using ravel().\n",
            "  y = column_or_1d(y, warn=True)\n"
          ],
          "name": "stderr"
        },
        {
          "output_type": "execute_result",
          "data": {
            "text/plain": [
              "<matplotlib.axes._subplots.AxesSubplot at 0x7fcf503c5990>"
            ]
          },
          "metadata": {
            "tags": []
          },
          "execution_count": 15
        },
        {
          "output_type": "display_data",
          "data": {
            "image/png": "[encoded data removed]",
            "text/plain": [
              "<Figure size 432x288 with 1 Axes>"
            ]
          },
          "metadata": {
            "tags": [],
            "needs_background": "light"
          }
        }
      ]
    },
    {
      "cell_type": "code",
      "metadata": {
        "id": "amKL8TSjpjfz"
      },
      "source": [
        "#selected_feat  = X_train_sm_norm[['Reco_Policy_Cat', 'City_Code', 'Health Indicator','Holding_Policy_Duration', 'Region_Code', 'Holding_Policy_Type','Age']]"
      ],
      "execution_count": 16,
      "outputs": []
    },
    {
      "cell_type": "code",
      "metadata": {
        "colab": {
          "base_uri": "https://localhost:8080/"
        },
        "id": "VubLPzYRgcTZ",
        "outputId": "1bfefbca-64ca-4f63-ee4e-b9dda0610c38"
      },
      "source": [
        "# Using Extra Tree Classifier\r\n",
        "from sklearn.ensemble import ExtraTreesClassifier\r\n",
        "model=ExtraTreesClassifier(n_estimators=300)\r\n",
        "model.fit(X_train_sm_norm,y_train_sm)"
      ],
      "execution_count": 61,
      "outputs": [
        {
          "output_type": "execute_result",
          "data": {
            "text/plain": [
              "ExtraTreesClassifier(bootstrap=False, ccp_alpha=0.0, class_weight=None,\n",
              "                     criterion='gini', max_depth=None, max_features='auto',\n",
              "                     max_leaf_nodes=None, max_samples=None,\n",
              "                     min_impurity_decrease=0.0, min_impurity_split=None,\n",
              "                     min_samples_leaf=1, min_samples_split=2,\n",
              "                     min_weight_fraction_leaf=0.0, n_estimators=300,\n",
              "                     n_jobs=None, oob_score=False, random_state=None, verbose=0,\n",
              "                     warm_start=False)"
            ]
          },
          "metadata": {
            "tags": []
          },
          "execution_count": 61
        }
      ]
    },
    {
      "cell_type": "code",
      "metadata": {
        "colab": {
          "base_uri": "https://localhost:8080/",
          "height": 281
        },
        "id": "9Z5rTpzxg-dN",
        "outputId": "ae8a3714-3ddd-44fe-94d5-6d15a913f26a"
      },
      "source": [
        "feat_importances=pd.Series(model.feature_importances_,index=X_train_sm_norm.columns)\r\n",
        "feat_importances.nlargest(7).plot(kind=\"barh\")"
      ],
      "execution_count": 62,
      "outputs": [
        {
          "output_type": "execute_result",
          "data": {
            "text/plain": [
              "<matplotlib.axes._subplots.AxesSubplot at 0x7fcf42b05910>"
            ]
          },
          "metadata": {
            "tags": []
          },
          "execution_count": 62
        },
        {
          "output_type": "display_data",
          "data": {
            "image/png": "[encoded data removed]",
            "text/plain": [
              "<Figure size 432x288 with 1 Axes>"
            ]
          },
          "metadata": {
            "tags": [],
            "needs_background": "light"
          }
        }
      ]
    },
    {
      "cell_type": "code",
      "metadata": {
        "id": "SZWhNL4Ahtgs"
      },
      "source": [
        "selected_feat = X_train_sm_norm[['Reco_Policy_Premium','Reco_Policy_Cat','City_Code','Region_Code','Accomodation_Type','Health Indicator','Holding_Policy_Type_nan']]"
      ],
      "execution_count": 64,
      "outputs": []
    },
    {
      "cell_type": "code",
      "metadata": {
        "colab": {
          "base_uri": "https://localhost:8080/"
        },
        "id": "IVWF46nNJrJQ",
        "outputId": "7c131109-ee2f-4514-932e-30a2a147a066"
      },
      "source": [
        "# Using Lasso model for feature selection\r\n",
        "#feature_set_model = SelectFromModel(Lasso(alpha=0.03,random_state=0))\r\n",
        "#feature_set_model.fit(training_data,y_train_sm)"
      ],
      "execution_count": null,
      "outputs": [
        {
          "output_type": "execute_result",
          "data": {
            "text/plain": [
              "SelectFromModel(estimator=Lasso(alpha=0.03, copy_X=True, fit_intercept=True,\n",
              "                                max_iter=1000, normalize=False, positive=False,\n",
              "                                precompute=False, random_state=0,\n",
              "                                selection='cyclic', tol=0.0001,\n",
              "                                warm_start=False),\n",
              "                max_features=None, norm_order=1, prefit=False, threshold=None)"
            ]
          },
          "metadata": {
            "tags": []
          },
          "execution_count": 158
        }
      ]
    },
    {
      "cell_type": "code",
      "metadata": {
        "colab": {
          "base_uri": "https://localhost:8080/"
        },
        "id": "CvKDaER1JrL4",
        "outputId": "5fe62a95-6874-43c8-f26f-d25f7b416cab"
      },
      "source": [
        "#feature_set_model.get_support() #True signifies that the particular feature is important"
      ],
      "execution_count": null,
      "outputs": [
        {
          "output_type": "execute_result",
          "data": {
            "text/plain": [
              "array([False, False, False, False, False, False, False, False, False,\n",
              "        True, False,  True,  True,  True,  True, False, False, False,\n",
              "       False, False,  True, False])"
            ]
          },
          "metadata": {
            "tags": []
          },
          "execution_count": 159
        }
      ]
    },
    {
      "cell_type": "code",
      "metadata": {
        "colab": {
          "base_uri": "https://localhost:8080/"
        },
        "id": "R2fFd1_wJrOY",
        "outputId": "2ffcce35-fe60-4c33-a146-0a7c016d3ca4"
      },
      "source": [
        "# let's print the number of total and selected features\r\n",
        "\r\n",
        "# this is how we can make a list of the selected features\r\n",
        "#selected_feat = training_data.columns[(feature_set_model.get_support())]\r\n",
        "#print('total features: {}'.format((training_data.shape[1])))\r\n",
        "#print('selected features: {}'.format(len(selected_feat)))\r\n",
        "#print('features with coefficients shrank to zero: {}'.format(\r\n",
        "    #np.sum(feature_set_model.estimator_.coef_ == 0)))"
      ],
      "execution_count": null,
      "outputs": [
        {
          "output_type": "stream",
          "text": [
            "total features: 22\n",
            "selected features: 6\n",
            "features with coefficients shrank to zero: 16\n"
          ],
          "name": "stdout"
        }
      ]
    },
    {
      "cell_type": "code",
      "metadata": {
        "colab": {
          "base_uri": "https://localhost:8080/"
        },
        "id": "EvjDLjYfKnr9",
        "outputId": "49b0508c-35a9-4562-f6a0-0b1f80026315"
      },
      "source": [
        "#selected_feat"
      ],
      "execution_count": null,
      "outputs": [
        {
          "output_type": "execute_result",
          "data": {
            "text/plain": [
              "Index(['Reco_Policy_Cat', 'Holding_Policy_Type_nan',\n",
              "       'Holding_Policy_Type_Max_count', 'Holding_Policy_Type_Min_count',\n",
              "       'Reco_Policy_Cat_Max', 'Health Indicator_Max'],\n",
              "      dtype='object')"
            ]
          },
          "metadata": {
            "tags": []
          },
          "execution_count": 161
        }
      ]
    },
    {
      "cell_type": "code",
      "metadata": {
        "colab": {
          "base_uri": "https://localhost:8080/",
          "height": 196
        },
        "id": "g9KZDjywKqis",
        "outputId": "f491c1bf-b45b-4355-de0c-69b2d6905128"
      },
      "source": [
        "X_train = selected_feat\r\n",
        "X_train.head()"
      ],
      "execution_count": 65,
      "outputs": [
        {
          "output_type": "execute_result",
          "data": {
            "text/html": [
              "<div>\n",
              "<style scoped>\n",
              "    .dataframe tbody tr th:only-of-type {\n",
              "        vertical-align: middle;\n",
              "    }\n",
              "\n",
              "    .dataframe tbody tr th {\n",
              "        vertical-align: top;\n",
              "    }\n",
              "\n",
              "    .dataframe thead th {\n",
              "        text-align: right;\n",
              "    }\n",
              "</style>\n",
              "<table border=\"1\" class=\"dataframe\">\n",
              "  <thead>\n",
              "    <tr style=\"text-align: right;\">\n",
              "      <th></th>\n",
              "      <th>Reco_Policy_Premium</th>\n",
              "      <th>Reco_Policy_Cat</th>\n",
              "      <th>City_Code</th>\n",
              "      <th>Region_Code</th>\n",
              "      <th>Accomodation_Type</th>\n",
              "      <th>Health Indicator</th>\n",
              "      <th>Holding_Policy_Type_nan</th>\n",
              "    </tr>\n",
              "  </thead>\n",
              "  <tbody>\n",
              "    <tr>\n",
              "      <th>0</th>\n",
              "      <td>-0.244523</td>\n",
              "      <td>1.097075</td>\n",
              "      <td>-0.103581</td>\n",
              "      <td>1.757578</td>\n",
              "      <td>-1.165979</td>\n",
              "      <td>1.227347</td>\n",
              "      <td>-0.865087</td>\n",
              "    </tr>\n",
              "    <tr>\n",
              "      <th>1</th>\n",
              "      <td>-1.095770</td>\n",
              "      <td>0.581155</td>\n",
              "      <td>-1.436682</td>\n",
              "      <td>1.757578</td>\n",
              "      <td>0.950387</td>\n",
              "      <td>-1.522192</td>\n",
              "      <td>-0.865087</td>\n",
              "    </tr>\n",
              "    <tr>\n",
              "      <th>2</th>\n",
              "      <td>0.674580</td>\n",
              "      <td>0.581155</td>\n",
              "      <td>-0.903442</td>\n",
              "      <td>-2.049834</td>\n",
              "      <td>0.950387</td>\n",
              "      <td>1.227347</td>\n",
              "      <td>-0.865087</td>\n",
              "    </tr>\n",
              "    <tr>\n",
              "      <th>3</th>\n",
              "      <td>-0.467422</td>\n",
              "      <td>0.065234</td>\n",
              "      <td>0.296349</td>\n",
              "      <td>1.072600</td>\n",
              "      <td>-1.165979</td>\n",
              "      <td>0.310834</td>\n",
              "      <td>-0.865087</td>\n",
              "    </tr>\n",
              "    <tr>\n",
              "      <th>4</th>\n",
              "      <td>0.331475</td>\n",
              "      <td>1.097075</td>\n",
              "      <td>-1.036752</td>\n",
              "      <td>0.275141</td>\n",
              "      <td>-1.165979</td>\n",
              "      <td>0.310834</td>\n",
              "      <td>-0.865087</td>\n",
              "    </tr>\n",
              "  </tbody>\n",
              "</table>\n",
              "</div>"
            ],
            "text/plain": [
              "   Reco_Policy_Premium  ...  Holding_Policy_Type_nan\n",
              "0            -0.244523  ...                -0.865087\n",
              "1            -1.095770  ...                -0.865087\n",
              "2             0.674580  ...                -0.865087\n",
              "3            -0.467422  ...                -0.865087\n",
              "4             0.331475  ...                -0.865087\n",
              "\n",
              "[5 rows x 7 columns]"
            ]
          },
          "metadata": {
            "tags": []
          },
          "execution_count": 65
        }
      ]
    },
    {
      "cell_type": "code",
      "metadata": {
        "id": "Lb16AsbmUAel"
      },
      "source": [
        "# Converting the output variable of the form (n_samples,)\r\n",
        "y_train_sm=y_train_sm.values.ravel()"
      ],
      "execution_count": 18,
      "outputs": []
    },
    {
      "cell_type": "code",
      "metadata": {
        "id": "dCAfpul1JcSz"
      },
      "source": [
        "# Performing cros-validation\r\n",
        "'''\r\n",
        "from sklearn.model_selection import StratifiedKFold\r\n",
        "model_3 = RandomForestClassifier()\r\n",
        "accuracy =[]\r\n",
        "skf = StratifiedKFold(n_splits=10, random_state=None)\r\n",
        "skf.get_n_splits(X_train,y_train_sm)\r\n",
        "for train_index, test_index in skf.split(X_train,y_train_sm):\r\n",
        "\r\n",
        "    x1_train, x1_test = X_train.iloc[train_index], X_train.iloc[test_index]\r\n",
        "    Y1_train, Y1_test = y_train_sm[train_index], y_train_sm[test_index]\r\n",
        "    model_3.fit(x1_train,Y1_train)\r\n",
        "    predictions = model_3.predict_proba(x1_test)[:,-1]\r\n",
        "    score = roc_auc_score(Y1_test,predictions)\r\n",
        "    accuracy.append(score)'''"
      ],
      "execution_count": 51,
      "outputs": []
    },
    {
      "cell_type": "code",
      "metadata": {
        "colab": {
          "base_uri": "https://localhost:8080/"
        },
        "id": "r0kM342HhN9y",
        "outputId": "c258e81d-0edb-433f-e142-e1d8d9af6831"
      },
      "source": [
        "#np.array(accuracy).mean()"
      ],
      "execution_count": 52,
      "outputs": [
        {
          "output_type": "execute_result",
          "data": {
            "text/plain": [
              "0.8743887731129462"
            ]
          },
          "metadata": {
            "tags": []
          },
          "execution_count": 52
        }
      ]
    },
    {
      "cell_type": "code",
      "metadata": {
        "id": "Rvr-M_WTKxQS"
      },
      "source": [
        "# Splitting into training and validation \r\n",
        "x_train,x_valid,Y_train,Y_valid=train_test_split(X_train,y_train_sm,test_size=0.3,random_state=0,stratify=y_train_sm)"
      ],
      "execution_count": 66,
      "outputs": []
    },
    {
      "cell_type": "markdown",
      "metadata": {
        "id": "AXygGsxbK-oy"
      },
      "source": [
        "#Models"
      ]
    },
    {
      "cell_type": "code",
      "metadata": {
        "colab": {
          "base_uri": "https://localhost:8080/"
        },
        "id": "8PVzF1X4K7EE",
        "outputId": "16dc1d04-a059-47a1-ce32-ee2173ff953b"
      },
      "source": [
        "# 1. Logistic Regression\r\n",
        "model_1 = LogisticRegression()\r\n",
        "model_1.fit(x_train,Y_train)"
      ],
      "execution_count": 67,
      "outputs": [
        {
          "output_type": "execute_result",
          "data": {
            "text/plain": [
              "LogisticRegression(C=1.0, class_weight=None, dual=False, fit_intercept=True,\n",
              "                   intercept_scaling=1, l1_ratio=None, max_iter=100,\n",
              "                   multi_class='auto', n_jobs=None, penalty='l2',\n",
              "                   random_state=None, solver='lbfgs', tol=0.0001, verbose=0,\n",
              "                   warm_start=False)"
            ]
          },
          "metadata": {
            "tags": []
          },
          "execution_count": 67
        }
      ]
    },
    {
      "cell_type": "code",
      "metadata": {
        "colab": {
          "base_uri": "https://localhost:8080/"
        },
        "id": "PmqsOkHrK7Gd",
        "outputId": "18228070-cb3e-4e8c-d770-4d92d19fac67"
      },
      "source": [
        "from sklearn.metrics import roc_curve\r\n",
        "predictions = model_1.predict_proba(x_valid)[:,-1]\r\n",
        "score = roc_auc_score(Y_valid,predictions)\r\n",
        "score"
      ],
      "execution_count": 68,
      "outputs": [
        {
          "output_type": "execute_result",
          "data": {
            "text/plain": [
              "0.5745989672811194"
            ]
          },
          "metadata": {
            "tags": []
          },
          "execution_count": 68
        }
      ]
    },
    {
      "cell_type": "code",
      "metadata": {
        "colab": {
          "base_uri": "https://localhost:8080/"
        },
        "id": "swHZ5xARK7Kj",
        "outputId": "225d5d3a-9a01-4b37-9b4e-f4d934727fc6"
      },
      "source": [
        "# Decision Tree Classifier\r\n",
        "model_2 = DecisionTreeClassifier()\r\n",
        "model_2.fit(x_train,Y_train)"
      ],
      "execution_count": 69,
      "outputs": [
        {
          "output_type": "execute_result",
          "data": {
            "text/plain": [
              "DecisionTreeClassifier(ccp_alpha=0.0, class_weight=None, criterion='gini',\n",
              "                       max_depth=None, max_features=None, max_leaf_nodes=None,\n",
              "                       min_impurity_decrease=0.0, min_impurity_split=None,\n",
              "                       min_samples_leaf=1, min_samples_split=2,\n",
              "                       min_weight_fraction_leaf=0.0, presort='deprecated',\n",
              "                       random_state=None, splitter='best')"
            ]
          },
          "metadata": {
            "tags": []
          },
          "execution_count": 69
        }
      ]
    },
    {
      "cell_type": "code",
      "metadata": {
        "colab": {
          "base_uri": "https://localhost:8080/"
        },
        "id": "TLPGAXGyzArg",
        "outputId": "aafac574-c3de-4cdd-bf43-6724e206bd6f"
      },
      "source": [
        "predictions = model_2.predict_proba(x_valid)[:,-1]\r\n",
        "score = roc_auc_score(Y_valid,predictions)\r\n",
        "score"
      ],
      "execution_count": 70,
      "outputs": [
        {
          "output_type": "execute_result",
          "data": {
            "text/plain": [
              "0.7747557445793539"
            ]
          },
          "metadata": {
            "tags": []
          },
          "execution_count": 70
        }
      ]
    },
    {
      "cell_type": "code",
      "metadata": {
        "colab": {
          "base_uri": "https://localhost:8080/"
        },
        "id": "01TT6MigVyLt",
        "outputId": "6c54ea19-58ad-4d64-f640-4cc803e47789"
      },
      "source": [
        "# KNN Classifier\r\n",
        "from sklearn.neighbors import KNeighborsClassifier\r\n",
        "model_3 = KNeighborsClassifier()\r\n",
        "model_3.fit(x_train,Y_train)"
      ],
      "execution_count": 71,
      "outputs": [
        {
          "output_type": "execute_result",
          "data": {
            "text/plain": [
              "KNeighborsClassifier(algorithm='auto', leaf_size=30, metric='minkowski',\n",
              "                     metric_params=None, n_jobs=None, n_neighbors=5, p=2,\n",
              "                     weights='uniform')"
            ]
          },
          "metadata": {
            "tags": []
          },
          "execution_count": 71
        }
      ]
    },
    {
      "cell_type": "code",
      "metadata": {
        "colab": {
          "base_uri": "https://localhost:8080/"
        },
        "id": "xaYtzEGYzQgF",
        "outputId": "9378e3ef-0027-4e62-f8de-66deb508f475"
      },
      "source": [
        "predictions = model_3.predict_proba(x_valid)[:,-1]\r\n",
        "score = roc_auc_score(Y_valid,predictions)\r\n",
        "score"
      ],
      "execution_count": 72,
      "outputs": [
        {
          "output_type": "execute_result",
          "data": {
            "text/plain": [
              "0.772366470157841"
            ]
          },
          "metadata": {
            "tags": []
          },
          "execution_count": 72
        }
      ]
    },
    {
      "cell_type": "code",
      "metadata": {
        "colab": {
          "base_uri": "https://localhost:8080/"
        },
        "id": "T9MHluuqjZoo",
        "outputId": "5a023ab8-686f-4d2a-f1ce-10da120817bc"
      },
      "source": [
        "# RandomForest Classifier\r\n",
        "model_4 = RandomForestClassifier()\r\n",
        "model_4.fit(x_train,Y_train)"
      ],
      "execution_count": 73,
      "outputs": [
        {
          "output_type": "execute_result",
          "data": {
            "text/plain": [
              "RandomForestClassifier(bootstrap=True, ccp_alpha=0.0, class_weight=None,\n",
              "                       criterion='gini', max_depth=None, max_features='auto',\n",
              "                       max_leaf_nodes=None, max_samples=None,\n",
              "                       min_impurity_decrease=0.0, min_impurity_split=None,\n",
              "                       min_samples_leaf=1, min_samples_split=2,\n",
              "                       min_weight_fraction_leaf=0.0, n_estimators=100,\n",
              "                       n_jobs=None, oob_score=False, random_state=None,\n",
              "                       verbose=0, warm_start=False)"
            ]
          },
          "metadata": {
            "tags": []
          },
          "execution_count": 73
        }
      ]
    },
    {
      "cell_type": "code",
      "metadata": {
        "colab": {
          "base_uri": "https://localhost:8080/"
        },
        "id": "7L6E99kZzhNN",
        "outputId": "9ca4c8d9-4f74-43a8-92da-5fd994152037"
      },
      "source": [
        "predictions = model_4.predict_proba(x_valid)[:,-1]\r\n",
        "score = roc_auc_score(Y_valid,predictions)\r\n",
        "score"
      ],
      "execution_count": 74,
      "outputs": [
        {
          "output_type": "execute_result",
          "data": {
            "text/plain": [
              "0.8796018923509826"
            ]
          },
          "metadata": {
            "tags": []
          },
          "execution_count": 74
        }
      ]
    },
    {
      "cell_type": "code",
      "metadata": {
        "colab": {
          "base_uri": "https://localhost:8080/"
        },
        "id": "mUaqB5t5tHOQ",
        "outputId": "a5013f1e-3b6d-4a0c-fb82-7e174d859471"
      },
      "source": [
        "#Hyper-parameter Tuning RF\r\n",
        "from sklearn.model_selection import RandomizedSearchCV\r\n",
        "param_grid={'max_depth':range(1,8,2),'n_estimators':range(100,800,100),'max_features':range(2,7,1)}\r\n",
        "grid_search = RandomizedSearchCV(RandomForestClassifier(),param_grid,verbose=1,cv=5,n_jobs=-1)\r\n",
        "grid_search.fit(x_train,Y_train)"
      ],
      "execution_count": 75,
      "outputs": [
        {
          "output_type": "stream",
          "text": [
            "Fitting 5 folds for each of 10 candidates, totalling 50 fits\n"
          ],
          "name": "stdout"
        },
        {
          "output_type": "stream",
          "text": [
            "[Parallel(n_jobs=-1)]: Using backend LokyBackend with 2 concurrent workers.\n",
            "[Parallel(n_jobs=-1)]: Done  46 tasks      | elapsed:  6.3min\n",
            "[Parallel(n_jobs=-1)]: Done  50 out of  50 | elapsed:  7.2min finished\n"
          ],
          "name": "stderr"
        },
        {
          "output_type": "execute_result",
          "data": {
            "text/plain": [
              "RandomizedSearchCV(cv=5, error_score=nan,\n",
              "                   estimator=RandomForestClassifier(bootstrap=True,\n",
              "                                                    ccp_alpha=0.0,\n",
              "                                                    class_weight=None,\n",
              "                                                    criterion='gini',\n",
              "                                                    max_depth=None,\n",
              "                                                    max_features='auto',\n",
              "                                                    max_leaf_nodes=None,\n",
              "                                                    max_samples=None,\n",
              "                                                    min_impurity_decrease=0.0,\n",
              "                                                    min_impurity_split=None,\n",
              "                                                    min_samples_leaf=1,\n",
              "                                                    min_samples_split=2,\n",
              "                                                    min_weight_fraction_leaf=0.0,\n",
              "                                                    n_estimators=100,\n",
              "                                                    n_jobs=None,\n",
              "                                                    oob_score=False,\n",
              "                                                    random_state=None,\n",
              "                                                    verbose=0,\n",
              "                                                    warm_start=False),\n",
              "                   iid='deprecated', n_iter=10, n_jobs=-1,\n",
              "                   param_distributions={'max_depth': range(1, 8, 2),\n",
              "                                        'max_features': range(2, 7),\n",
              "                                        'n_estimators': range(100, 800, 100)},\n",
              "                   pre_dispatch='2*n_jobs', random_state=None, refit=True,\n",
              "                   return_train_score=False, scoring=None, verbose=1)"
            ]
          },
          "metadata": {
            "tags": []
          },
          "execution_count": 75
        }
      ]
    },
    {
      "cell_type": "code",
      "metadata": {
        "colab": {
          "base_uri": "https://localhost:8080/"
        },
        "id": "599wtR9btki9",
        "outputId": "5376ef83-a854-41b7-93e2-f6d07aa2baba"
      },
      "source": [
        "grid_search.best_estimator_"
      ],
      "execution_count": 76,
      "outputs": [
        {
          "output_type": "execute_result",
          "data": {
            "text/plain": [
              "RandomForestClassifier(bootstrap=True, ccp_alpha=0.0, class_weight=None,\n",
              "                       criterion='gini', max_depth=7, max_features=6,\n",
              "                       max_leaf_nodes=None, max_samples=None,\n",
              "                       min_impurity_decrease=0.0, min_impurity_split=None,\n",
              "                       min_samples_leaf=1, min_samples_split=2,\n",
              "                       min_weight_fraction_leaf=0.0, n_estimators=200,\n",
              "                       n_jobs=None, oob_score=False, random_state=None,\n",
              "                       verbose=0, warm_start=False)"
            ]
          },
          "metadata": {
            "tags": []
          },
          "execution_count": 76
        }
      ]
    },
    {
      "cell_type": "code",
      "metadata": {
        "colab": {
          "base_uri": "https://localhost:8080/"
        },
        "id": "THqmuc2XyEEi",
        "outputId": "459fcdc6-45f4-4587-c663-ea3ebe6456f1"
      },
      "source": [
        "grid_search_pred = grid_search.predict_proba(x_valid)[:,-1]\r\n",
        "score = roc_auc_score(Y_valid,predictions)\r\n",
        "score"
      ],
      "execution_count": 77,
      "outputs": [
        {
          "output_type": "execute_result",
          "data": {
            "text/plain": [
              "0.8796018923509826"
            ]
          },
          "metadata": {
            "tags": []
          },
          "execution_count": 77
        }
      ]
    },
    {
      "cell_type": "code",
      "metadata": {
        "id": "T0oV8NX4iLLf"
      },
      "source": [
        "# Using roc curve\r\n",
        "\r\n",
        "#predictions = model_4.predict_proba(x_valid)[:,-1]\r\n",
        "\r\n",
        "# calculate roc curves\r\n",
        "\r\n",
        "#fpr, tpr, thresholds = roc_curve(Y_valid, predictions)\r\n",
        "\r\n",
        "# calculate the g-mean for each threshold\r\n",
        "\r\n",
        "#gmeans = np.sqrt(tpr * (1-fpr))\r\n",
        "\r\n",
        "# locate the index of the largest g-mean\r\n",
        "\r\n",
        "#ix = np.argmax(gmeans)\r\n",
        "#print('Best Threshold=%f, G-Mean=%.3f' % (thresholds[ix], gmeans[ix]))\r\n",
        "\r\n",
        "# plot the roc curve for the model\r\n",
        "\r\n",
        "#plt.plot([0,1], [0,1], linestyle='--', label='No Skill')\r\n",
        "#plt.plot(fpr, tpr, marker='.', label='Logistic')\r\n",
        "#plt.scatter(fpr[ix], tpr[ix], marker='o', color='black', label='Best')\r\n",
        "# axis labels\r\n",
        "\r\n",
        "#plt.xlabel('False Positive Rate')\r\n",
        "#plt.ylabel('True Positive Rate')\r\n",
        "#plt.legend()\r\n",
        "\r\n",
        "# show the plot\r\n",
        "#plt.show()\r\n"
      ],
      "execution_count": null,
      "outputs": []
    },
    {
      "cell_type": "code",
      "metadata": {
        "colab": {
          "base_uri": "https://localhost:8080/",
          "height": 233
        },
        "id": "NkXQMgZlZe5u",
        "outputId": "94381479-5b8a-405e-f4c1-962e5d1679c5"
      },
      "source": [
        "# Preparing Testing Data\r\n",
        "test_data.head()"
      ],
      "execution_count": null,
      "outputs": [
        {
          "output_type": "execute_result",
          "data": {
            "text/html": [
              "<div>\n",
              "<style scoped>\n",
              "    .dataframe tbody tr th:only-of-type {\n",
              "        vertical-align: middle;\n",
              "    }\n",
              "\n",
              "    .dataframe tbody tr th {\n",
              "        vertical-align: top;\n",
              "    }\n",
              "\n",
              "    .dataframe thead th {\n",
              "        text-align: right;\n",
              "    }\n",
              "</style>\n",
              "<table border=\"1\" class=\"dataframe\">\n",
              "  <thead>\n",
              "    <tr style=\"text-align: right;\">\n",
              "      <th></th>\n",
              "      <th>ID</th>\n",
              "      <th>City_Code</th>\n",
              "      <th>Region_Code</th>\n",
              "      <th>Accomodation_Type</th>\n",
              "      <th>Reco_Insurance_Type</th>\n",
              "      <th>Upper_Age</th>\n",
              "      <th>Lower_Age</th>\n",
              "      <th>Is_Spouse</th>\n",
              "      <th>Health Indicator</th>\n",
              "      <th>Holding_Policy_Duration</th>\n",
              "      <th>Holding_Policy_Type</th>\n",
              "      <th>Reco_Policy_Cat</th>\n",
              "      <th>Reco_Policy_Premium</th>\n",
              "    </tr>\n",
              "  </thead>\n",
              "  <tbody>\n",
              "    <tr>\n",
              "      <th>0</th>\n",
              "      <td>50883</td>\n",
              "      <td>C1</td>\n",
              "      <td>156</td>\n",
              "      <td>Owned</td>\n",
              "      <td>Individual</td>\n",
              "      <td>30</td>\n",
              "      <td>30</td>\n",
              "      <td>No</td>\n",
              "      <td>NaN</td>\n",
              "      <td>6.0</td>\n",
              "      <td>3.0</td>\n",
              "      <td>5</td>\n",
              "      <td>11934.0</td>\n",
              "    </tr>\n",
              "    <tr>\n",
              "      <th>1</th>\n",
              "      <td>50884</td>\n",
              "      <td>C4</td>\n",
              "      <td>7</td>\n",
              "      <td>Owned</td>\n",
              "      <td>Joint</td>\n",
              "      <td>69</td>\n",
              "      <td>68</td>\n",
              "      <td>Yes</td>\n",
              "      <td>X1</td>\n",
              "      <td>3.0</td>\n",
              "      <td>3.0</td>\n",
              "      <td>18</td>\n",
              "      <td>32204.8</td>\n",
              "    </tr>\n",
              "    <tr>\n",
              "      <th>2</th>\n",
              "      <td>50885</td>\n",
              "      <td>C1</td>\n",
              "      <td>564</td>\n",
              "      <td>Rented</td>\n",
              "      <td>Individual</td>\n",
              "      <td>28</td>\n",
              "      <td>28</td>\n",
              "      <td>No</td>\n",
              "      <td>X3</td>\n",
              "      <td>2.0</td>\n",
              "      <td>4.0</td>\n",
              "      <td>17</td>\n",
              "      <td>9240.0</td>\n",
              "    </tr>\n",
              "    <tr>\n",
              "      <th>3</th>\n",
              "      <td>50886</td>\n",
              "      <td>C3</td>\n",
              "      <td>1177</td>\n",
              "      <td>Rented</td>\n",
              "      <td>Individual</td>\n",
              "      <td>23</td>\n",
              "      <td>23</td>\n",
              "      <td>No</td>\n",
              "      <td>X3</td>\n",
              "      <td>3.0</td>\n",
              "      <td>3.0</td>\n",
              "      <td>18</td>\n",
              "      <td>9086.0</td>\n",
              "    </tr>\n",
              "    <tr>\n",
              "      <th>4</th>\n",
              "      <td>50887</td>\n",
              "      <td>C1</td>\n",
              "      <td>951</td>\n",
              "      <td>Owned</td>\n",
              "      <td>Individual</td>\n",
              "      <td>75</td>\n",
              "      <td>75</td>\n",
              "      <td>No</td>\n",
              "      <td>X3</td>\n",
              "      <td>NaN</td>\n",
              "      <td>NaN</td>\n",
              "      <td>5</td>\n",
              "      <td>22534.0</td>\n",
              "    </tr>\n",
              "  </tbody>\n",
              "</table>\n",
              "</div>"
            ],
            "text/plain": [
              "      ID City_Code  ...  Reco_Policy_Cat Reco_Policy_Premium\n",
              "0  50883        C1  ...                5             11934.0\n",
              "1  50884        C4  ...               18             32204.8\n",
              "2  50885        C1  ...               17              9240.0\n",
              "3  50886        C3  ...               18              9086.0\n",
              "4  50887        C1  ...                5             22534.0\n",
              "\n",
              "[5 rows x 13 columns]"
            ]
          },
          "metadata": {
            "tags": []
          },
          "execution_count": 190
        }
      ]
    },
    {
      "cell_type": "code",
      "metadata": {
        "colab": {
          "base_uri": "https://localhost:8080/"
        },
        "id": "e-M4uUs_al5c",
        "outputId": "58398ccc-3649-488f-f012-60b98813a277"
      },
      "source": [
        "#Listing Null values in Numerical data\r\n",
        "numerical_with_nan = [feature for feature in test_data.columns if test_data[feature].isnull().sum()>=1 and test_data[feature].dtypes!='O' ]\r\n",
        "for feature in numerical_with_nan:\r\n",
        "    print(feature,np.round(test_data[feature].isnull().mean(),4),'%missing values')"
      ],
      "execution_count": null,
      "outputs": [
        {
          "output_type": "stream",
          "text": [
            "Holding_Policy_Type 0.3945 %missing values\n"
          ],
          "name": "stdout"
        }
      ]
    },
    {
      "cell_type": "code",
      "metadata": {
        "colab": {
          "base_uri": "https://localhost:8080/"
        },
        "id": "WLNbMK5Nal8f",
        "outputId": "3944f0dd-e9d7-4e8c-8edd-7cdc271caa39"
      },
      "source": [
        "# Filling the missing values with mean\r\n",
        "for feature in numerical_with_nan:\r\n",
        "    mean_value = test_data[feature].mean()\r\n",
        "    test_data[feature+'_nan'] = np.where(test_data[feature].isnull(),1,0)\r\n",
        "    test_data[feature] = test_data[feature].fillna(mean_value)\r\n",
        "test_data[numerical_with_nan].isnull().sum()"
      ],
      "execution_count": null,
      "outputs": [
        {
          "output_type": "execute_result",
          "data": {
            "text/plain": [
              "Holding_Policy_Type    0\n",
              "dtype: int64"
            ]
          },
          "metadata": {
            "tags": []
          },
          "execution_count": 192
        }
      ]
    },
    {
      "cell_type": "code",
      "metadata": {
        "colab": {
          "base_uri": "https://localhost:8080/",
          "height": 233
        },
        "id": "cGhhgaDxal_a",
        "outputId": "c8c1ba95-3dcb-4912-fe5c-3c04c30e2b9e"
      },
      "source": [
        "# Dropping Employee Id column as it donot contribute in prediction.\r\n",
        "testing_data = test_data.drop(columns=['ID'])\r\n",
        "testing_data.head()"
      ],
      "execution_count": null,
      "outputs": [
        {
          "output_type": "execute_result",
          "data": {
            "text/html": [
              "<div>\n",
              "<style scoped>\n",
              "    .dataframe tbody tr th:only-of-type {\n",
              "        vertical-align: middle;\n",
              "    }\n",
              "\n",
              "    .dataframe tbody tr th {\n",
              "        vertical-align: top;\n",
              "    }\n",
              "\n",
              "    .dataframe thead th {\n",
              "        text-align: right;\n",
              "    }\n",
              "</style>\n",
              "<table border=\"1\" class=\"dataframe\">\n",
              "  <thead>\n",
              "    <tr style=\"text-align: right;\">\n",
              "      <th></th>\n",
              "      <th>City_Code</th>\n",
              "      <th>Region_Code</th>\n",
              "      <th>Accomodation_Type</th>\n",
              "      <th>Reco_Insurance_Type</th>\n",
              "      <th>Upper_Age</th>\n",
              "      <th>Lower_Age</th>\n",
              "      <th>Is_Spouse</th>\n",
              "      <th>Health Indicator</th>\n",
              "      <th>Holding_Policy_Duration</th>\n",
              "      <th>Holding_Policy_Type</th>\n",
              "      <th>Reco_Policy_Cat</th>\n",
              "      <th>Reco_Policy_Premium</th>\n",
              "      <th>Holding_Policy_Type_nan</th>\n",
              "    </tr>\n",
              "  </thead>\n",
              "  <tbody>\n",
              "    <tr>\n",
              "      <th>0</th>\n",
              "      <td>C1</td>\n",
              "      <td>156</td>\n",
              "      <td>Owned</td>\n",
              "      <td>Individual</td>\n",
              "      <td>30</td>\n",
              "      <td>30</td>\n",
              "      <td>No</td>\n",
              "      <td>NaN</td>\n",
              "      <td>6.0</td>\n",
              "      <td>3.000000</td>\n",
              "      <td>5</td>\n",
              "      <td>11934.0</td>\n",
              "      <td>0</td>\n",
              "    </tr>\n",
              "    <tr>\n",
              "      <th>1</th>\n",
              "      <td>C4</td>\n",
              "      <td>7</td>\n",
              "      <td>Owned</td>\n",
              "      <td>Joint</td>\n",
              "      <td>69</td>\n",
              "      <td>68</td>\n",
              "      <td>Yes</td>\n",
              "      <td>X1</td>\n",
              "      <td>3.0</td>\n",
              "      <td>3.000000</td>\n",
              "      <td>18</td>\n",
              "      <td>32204.8</td>\n",
              "      <td>0</td>\n",
              "    </tr>\n",
              "    <tr>\n",
              "      <th>2</th>\n",
              "      <td>C1</td>\n",
              "      <td>564</td>\n",
              "      <td>Rented</td>\n",
              "      <td>Individual</td>\n",
              "      <td>28</td>\n",
              "      <td>28</td>\n",
              "      <td>No</td>\n",
              "      <td>X3</td>\n",
              "      <td>2.0</td>\n",
              "      <td>4.000000</td>\n",
              "      <td>17</td>\n",
              "      <td>9240.0</td>\n",
              "      <td>0</td>\n",
              "    </tr>\n",
              "    <tr>\n",
              "      <th>3</th>\n",
              "      <td>C3</td>\n",
              "      <td>1177</td>\n",
              "      <td>Rented</td>\n",
              "      <td>Individual</td>\n",
              "      <td>23</td>\n",
              "      <td>23</td>\n",
              "      <td>No</td>\n",
              "      <td>X3</td>\n",
              "      <td>3.0</td>\n",
              "      <td>3.000000</td>\n",
              "      <td>18</td>\n",
              "      <td>9086.0</td>\n",
              "      <td>0</td>\n",
              "    </tr>\n",
              "    <tr>\n",
              "      <th>4</th>\n",
              "      <td>C1</td>\n",
              "      <td>951</td>\n",
              "      <td>Owned</td>\n",
              "      <td>Individual</td>\n",
              "      <td>75</td>\n",
              "      <td>75</td>\n",
              "      <td>No</td>\n",
              "      <td>X3</td>\n",
              "      <td>NaN</td>\n",
              "      <td>2.440085</td>\n",
              "      <td>5</td>\n",
              "      <td>22534.0</td>\n",
              "      <td>1</td>\n",
              "    </tr>\n",
              "  </tbody>\n",
              "</table>\n",
              "</div>"
            ],
            "text/plain": [
              "  City_Code  Region_Code  ... Reco_Policy_Premium Holding_Policy_Type_nan\n",
              "0        C1          156  ...             11934.0                       0\n",
              "1        C4            7  ...             32204.8                       0\n",
              "2        C1          564  ...              9240.0                       0\n",
              "3        C3         1177  ...              9086.0                       0\n",
              "4        C1          951  ...             22534.0                       1\n",
              "\n",
              "[5 rows x 13 columns]"
            ]
          },
          "metadata": {
            "tags": []
          },
          "execution_count": 193
        }
      ]
    },
    {
      "cell_type": "code",
      "metadata": {
        "colab": {
          "base_uri": "https://localhost:8080/"
        },
        "id": "r5LF3K2uamB7",
        "outputId": "19336b29-5520-44d8-b720-04ac8020306f"
      },
      "source": [
        "#Listing null values in categorical data\r\n",
        "features_with_nan = [feature for feature in testing_data.columns if testing_data[feature].isnull().sum()>=1 and testing_data[feature].dtypes=='O']\r\n",
        "for feature in features_with_nan:\r\n",
        "    print(feature,np.round(testing_data[feature].isnull().mean(),4),'%missing values')"
      ],
      "execution_count": null,
      "outputs": [
        {
          "output_type": "stream",
          "text": [
            "Health Indicator 0.2305 %missing values\n",
            "Holding_Policy_Duration 0.3945 %missing values\n"
          ],
          "name": "stdout"
        }
      ]
    },
    {
      "cell_type": "code",
      "metadata": {
        "colab": {
          "base_uri": "https://localhost:8080/"
        },
        "id": "PNdlmfuPamEx",
        "outputId": "70dd0273-7d60-43e4-baae-1ba967002382"
      },
      "source": [
        "def replace_cat_feature(dataset,features_with_nan):\r\n",
        "    data = testing_data.copy()\r\n",
        "    data[features_with_nan] = data[features_with_nan].fillna(\"Missing\")\r\n",
        "    return data\r\n",
        "testing_data = replace_cat_feature(testing_data,features_with_nan)\r\n",
        "testing_data[features_with_nan].isnull().sum()"
      ],
      "execution_count": null,
      "outputs": [
        {
          "output_type": "execute_result",
          "data": {
            "text/plain": [
              "Health Indicator           0\n",
              "Holding_Policy_Duration    0\n",
              "dtype: int64"
            ]
          },
          "metadata": {
            "tags": []
          },
          "execution_count": 195
        }
      ]
    },
    {
      "cell_type": "code",
      "metadata": {
        "colab": {
          "base_uri": "https://localhost:8080/",
          "height": 233
        },
        "id": "hHg_rMmZbrF-",
        "outputId": "15284dfa-2c90-4736-a438-35ed4c07a62e"
      },
      "source": [
        "# Since, Upper_Age and Lower_Age columns are strongly correlated, therefore dropping the Lower_Age column and renaming the Upper_Age column to Age\r\n",
        "testing_data = testing_data.drop(columns=['Lower_Age'],axis=1)\r\n",
        "testing_data = testing_data.rename(columns={'Upper_Age':\"Age\"})\r\n",
        "testing_data.head()"
      ],
      "execution_count": null,
      "outputs": [
        {
          "output_type": "execute_result",
          "data": {
            "text/html": [
              "<div>\n",
              "<style scoped>\n",
              "    .dataframe tbody tr th:only-of-type {\n",
              "        vertical-align: middle;\n",
              "    }\n",
              "\n",
              "    .dataframe tbody tr th {\n",
              "        vertical-align: top;\n",
              "    }\n",
              "\n",
              "    .dataframe thead th {\n",
              "        text-align: right;\n",
              "    }\n",
              "</style>\n",
              "<table border=\"1\" class=\"dataframe\">\n",
              "  <thead>\n",
              "    <tr style=\"text-align: right;\">\n",
              "      <th></th>\n",
              "      <th>City_Code</th>\n",
              "      <th>Region_Code</th>\n",
              "      <th>Accomodation_Type</th>\n",
              "      <th>Reco_Insurance_Type</th>\n",
              "      <th>Age</th>\n",
              "      <th>Is_Spouse</th>\n",
              "      <th>Health Indicator</th>\n",
              "      <th>Holding_Policy_Duration</th>\n",
              "      <th>Holding_Policy_Type</th>\n",
              "      <th>Reco_Policy_Cat</th>\n",
              "      <th>Reco_Policy_Premium</th>\n",
              "      <th>Holding_Policy_Type_nan</th>\n",
              "    </tr>\n",
              "  </thead>\n",
              "  <tbody>\n",
              "    <tr>\n",
              "      <th>0</th>\n",
              "      <td>C1</td>\n",
              "      <td>156</td>\n",
              "      <td>Owned</td>\n",
              "      <td>Individual</td>\n",
              "      <td>30</td>\n",
              "      <td>No</td>\n",
              "      <td>Missing</td>\n",
              "      <td>6.0</td>\n",
              "      <td>3.000000</td>\n",
              "      <td>5</td>\n",
              "      <td>11934.0</td>\n",
              "      <td>0</td>\n",
              "    </tr>\n",
              "    <tr>\n",
              "      <th>1</th>\n",
              "      <td>C4</td>\n",
              "      <td>7</td>\n",
              "      <td>Owned</td>\n",
              "      <td>Joint</td>\n",
              "      <td>69</td>\n",
              "      <td>Yes</td>\n",
              "      <td>X1</td>\n",
              "      <td>3.0</td>\n",
              "      <td>3.000000</td>\n",
              "      <td>18</td>\n",
              "      <td>32204.8</td>\n",
              "      <td>0</td>\n",
              "    </tr>\n",
              "    <tr>\n",
              "      <th>2</th>\n",
              "      <td>C1</td>\n",
              "      <td>564</td>\n",
              "      <td>Rented</td>\n",
              "      <td>Individual</td>\n",
              "      <td>28</td>\n",
              "      <td>No</td>\n",
              "      <td>X3</td>\n",
              "      <td>2.0</td>\n",
              "      <td>4.000000</td>\n",
              "      <td>17</td>\n",
              "      <td>9240.0</td>\n",
              "      <td>0</td>\n",
              "    </tr>\n",
              "    <tr>\n",
              "      <th>3</th>\n",
              "      <td>C3</td>\n",
              "      <td>1177</td>\n",
              "      <td>Rented</td>\n",
              "      <td>Individual</td>\n",
              "      <td>23</td>\n",
              "      <td>No</td>\n",
              "      <td>X3</td>\n",
              "      <td>3.0</td>\n",
              "      <td>3.000000</td>\n",
              "      <td>18</td>\n",
              "      <td>9086.0</td>\n",
              "      <td>0</td>\n",
              "    </tr>\n",
              "    <tr>\n",
              "      <th>4</th>\n",
              "      <td>C1</td>\n",
              "      <td>951</td>\n",
              "      <td>Owned</td>\n",
              "      <td>Individual</td>\n",
              "      <td>75</td>\n",
              "      <td>No</td>\n",
              "      <td>X3</td>\n",
              "      <td>Missing</td>\n",
              "      <td>2.440085</td>\n",
              "      <td>5</td>\n",
              "      <td>22534.0</td>\n",
              "      <td>1</td>\n",
              "    </tr>\n",
              "  </tbody>\n",
              "</table>\n",
              "</div>"
            ],
            "text/plain": [
              "  City_Code  Region_Code  ... Reco_Policy_Premium Holding_Policy_Type_nan\n",
              "0        C1          156  ...             11934.0                       0\n",
              "1        C4            7  ...             32204.8                       0\n",
              "2        C1          564  ...              9240.0                       0\n",
              "3        C3         1177  ...              9086.0                       0\n",
              "4        C1          951  ...             22534.0                       1\n",
              "\n",
              "[5 rows x 12 columns]"
            ]
          },
          "metadata": {
            "tags": []
          },
          "execution_count": 196
        }
      ]
    },
    {
      "cell_type": "code",
      "metadata": {
        "id": "HkqjInMuaxeC"
      },
      "source": [
        "# Feature Engineering Numerical Discrete Features: ['Holding_Policy_Type', 'Reco_Policy_Cat']\r\n",
        "# 1. Holding_Policy_Type\r\n",
        "max_cat_policy_type = testing_data['Holding_Policy_Type'].value_counts().index[1]   #3.0\r\n",
        "min_cat_policy_type = testing_data['Holding_Policy_Type'].value_counts().index[-1]  #4.0\r\n",
        "testing_data['Holding_Policy_Type_Max_count'] = np.where(testing_data['Holding_Policy_Type']== max_cat_policy_type,1,0)\r\n",
        "testing_data['Holding_Policy_Type_Min_count'] = np.where(testing_data['Holding_Policy_Type']== min_cat_policy_type,1,0)\r\n",
        "\r\n",
        "# 2. Reco_Policy_Cat\r\n",
        "max_count_health = testing_data['Reco_Policy_Cat'].value_counts().index[0]\r\n",
        "min_count_health = testing_data['Reco_Policy_Cat'].value_counts().index[-1]\r\n",
        "testing_data['Reco_Policy_Cat_Max'] = np.where(testing_data['Reco_Policy_Cat']== max_count_health,1,0)\r\n",
        "testing_data['Reco_Policy_Cat_Min'] = np.where(testing_data['Reco_Policy_Cat']== min_count_health,1,0)"
      ],
      "execution_count": null,
      "outputs": []
    },
    {
      "cell_type": "code",
      "metadata": {
        "id": "yaClHXY2bRO0"
      },
      "source": [
        "# Feature Engineering Numerical Continuous Features: ['Region_Code', 'Age','Reco_Policy_Premium']\r\n",
        "# 1. Region_Code\r\n",
        "for i in range(testing_data.shape[0]):\r\n",
        "  if testing_data[\"Region_Code\"][i] in range(0,1001):\r\n",
        "    testing_data['Region_Code'][i] = 'Code within 1000'\r\n",
        "  elif testing_data[\"Region_Code\"][i] in range(1001,2001):\r\n",
        "    testing_data['Region_Code'][i] = 'Code within 2000'\r\n",
        "  elif testing_data[\"Region_Code\"][i] in range(2001,3001):\r\n",
        "    testing_data['Region_Code'][i] = 'Code within 3000'\r\n",
        "  elif testing_data[\"Region_Code\"][i] in range(3001,4001):\r\n",
        "    testing_data['Region_Code'][i] = 'Code within 4000'\r\n",
        "  elif testing_data[\"Region_Code\"][i] in range(4001,7001):\r\n",
        "    testing_data['Region_Code'][i] = 'Code within 7000'\r\n",
        "\r\n",
        "# 2. 'Age'\r\n",
        "for i in range(testing_data.shape[0]):\r\n",
        "  if testing_data[\"Age\"][i] in range(0,31):\r\n",
        "    testing_data['Age'][i] = 'Within_30'\r\n",
        "  elif testing_data[\"Age\"][i] in range(31,46):\r\n",
        "    testing_data['Age'][i] = 'Within_45'\r\n",
        "  elif testing_data[\"Age\"][i] in range(46,61):\r\n",
        "    testing_data['Age'][i] = 'Within_60'\r\n",
        "  elif testing_data[\"Age\"][i] in range(61,81):\r\n",
        "    testing_data['Age'][i] = 'Above_60'\r\n",
        "\r\n",
        "# 3. 'Reco_Policy_Premium'\r\n",
        "mean_premium = testing_data['Reco_Policy_Premium'].mean()\r\n",
        "testing_data['Reco_Policy_Premium_Less'] = np.where(testing_data['Reco_Policy_Premium']<=mean_premium,1,0)\r\n",
        "testing_data['Reco_Policy_Premium_More'] = np.where(testing_data['Reco_Policy_Premium']>mean_premium,1,0)"
      ],
      "execution_count": null,
      "outputs": []
    },
    {
      "cell_type": "code",
      "metadata": {
        "id": "OICd-lUTciyZ"
      },
      "source": [
        "# Feature Engineering Categorical Features: [City_Code,Accomodation_Type,Reco_Insurance_Type,Is_Spouse,Health Indicator,Holding_Policy_Duration]\r\n",
        "#1. Is_Spouse\r\n",
        "testing_data[\"Married\"] = np.where(testing_data['Is_Spouse']=='Yes',1,0)\r\n",
        "testing_data[\"UnMarried\"] = np.where(testing_data['Is_Spouse']=='No',1,0)\r\n",
        "\r\n",
        "#2. Health Indicator\r\n",
        "indicator_max_count = testing_data['Health Indicator'].value_counts().index[0]\r\n",
        "indicator_min_count = testing_data['Health Indicator'].value_counts().index[-1]\r\n",
        "indicator_mising_count = testing_data['Health Indicator'].value_counts().index[1]\r\n",
        "testing_data['Health Indicator_Max'] = np.where(testing_data['Health Indicator']== indicator_max_count,1,0)\r\n",
        "testing_data['Health Indicator_Min'] = np.where(testing_data['Health Indicator']== indicator_min_count,1,0)"
      ],
      "execution_count": null,
      "outputs": []
    },
    {
      "cell_type": "code",
      "metadata": {
        "colab": {
          "base_uri": "https://localhost:8080/",
          "height": 317
        },
        "id": "qt44o316dDdN",
        "outputId": "1b8d39fc-2a62-46d7-8303-d141fbc5302a"
      },
      "source": [
        "testing_data.head()"
      ],
      "execution_count": null,
      "outputs": [
        {
          "output_type": "execute_result",
          "data": {
            "text/html": [
              "<div>\n",
              "<style scoped>\n",
              "    .dataframe tbody tr th:only-of-type {\n",
              "        vertical-align: middle;\n",
              "    }\n",
              "\n",
              "    .dataframe tbody tr th {\n",
              "        vertical-align: top;\n",
              "    }\n",
              "\n",
              "    .dataframe thead th {\n",
              "        text-align: right;\n",
              "    }\n",
              "</style>\n",
              "<table border=\"1\" class=\"dataframe\">\n",
              "  <thead>\n",
              "    <tr style=\"text-align: right;\">\n",
              "      <th></th>\n",
              "      <th>City_Code</th>\n",
              "      <th>Region_Code</th>\n",
              "      <th>Accomodation_Type</th>\n",
              "      <th>Reco_Insurance_Type</th>\n",
              "      <th>Age</th>\n",
              "      <th>Is_Spouse</th>\n",
              "      <th>Health Indicator</th>\n",
              "      <th>Holding_Policy_Duration</th>\n",
              "      <th>Holding_Policy_Type</th>\n",
              "      <th>Reco_Policy_Cat</th>\n",
              "      <th>Reco_Policy_Premium</th>\n",
              "      <th>Holding_Policy_Type_nan</th>\n",
              "      <th>Holding_Policy_Type_Max_count</th>\n",
              "      <th>Holding_Policy_Type_Min_count</th>\n",
              "      <th>Reco_Policy_Cat_Max</th>\n",
              "      <th>Reco_Policy_Cat_Min</th>\n",
              "      <th>Reco_Policy_Premium_Less</th>\n",
              "      <th>Reco_Policy_Premium_More</th>\n",
              "      <th>Married</th>\n",
              "      <th>UnMarried</th>\n",
              "      <th>Health Indicator_Max</th>\n",
              "      <th>Health Indicator_Min</th>\n",
              "    </tr>\n",
              "  </thead>\n",
              "  <tbody>\n",
              "    <tr>\n",
              "      <th>0</th>\n",
              "      <td>C1</td>\n",
              "      <td>Code within 1000</td>\n",
              "      <td>Owned</td>\n",
              "      <td>Individual</td>\n",
              "      <td>Within_30</td>\n",
              "      <td>No</td>\n",
              "      <td>Missing</td>\n",
              "      <td>6.0</td>\n",
              "      <td>3.000000</td>\n",
              "      <td>5</td>\n",
              "      <td>11934.0</td>\n",
              "      <td>0</td>\n",
              "      <td>1</td>\n",
              "      <td>0</td>\n",
              "      <td>0</td>\n",
              "      <td>0</td>\n",
              "      <td>1</td>\n",
              "      <td>0</td>\n",
              "      <td>0</td>\n",
              "      <td>1</td>\n",
              "      <td>0</td>\n",
              "      <td>0</td>\n",
              "    </tr>\n",
              "    <tr>\n",
              "      <th>1</th>\n",
              "      <td>C4</td>\n",
              "      <td>Code within 1000</td>\n",
              "      <td>Owned</td>\n",
              "      <td>Joint</td>\n",
              "      <td>Above_60</td>\n",
              "      <td>Yes</td>\n",
              "      <td>X1</td>\n",
              "      <td>3.0</td>\n",
              "      <td>3.000000</td>\n",
              "      <td>18</td>\n",
              "      <td>32204.8</td>\n",
              "      <td>0</td>\n",
              "      <td>1</td>\n",
              "      <td>0</td>\n",
              "      <td>0</td>\n",
              "      <td>0</td>\n",
              "      <td>0</td>\n",
              "      <td>1</td>\n",
              "      <td>1</td>\n",
              "      <td>0</td>\n",
              "      <td>1</td>\n",
              "      <td>0</td>\n",
              "    </tr>\n",
              "    <tr>\n",
              "      <th>2</th>\n",
              "      <td>C1</td>\n",
              "      <td>Code within 1000</td>\n",
              "      <td>Rented</td>\n",
              "      <td>Individual</td>\n",
              "      <td>Within_30</td>\n",
              "      <td>No</td>\n",
              "      <td>X3</td>\n",
              "      <td>2.0</td>\n",
              "      <td>4.000000</td>\n",
              "      <td>17</td>\n",
              "      <td>9240.0</td>\n",
              "      <td>0</td>\n",
              "      <td>0</td>\n",
              "      <td>1</td>\n",
              "      <td>0</td>\n",
              "      <td>0</td>\n",
              "      <td>1</td>\n",
              "      <td>0</td>\n",
              "      <td>0</td>\n",
              "      <td>1</td>\n",
              "      <td>0</td>\n",
              "      <td>0</td>\n",
              "    </tr>\n",
              "    <tr>\n",
              "      <th>3</th>\n",
              "      <td>C3</td>\n",
              "      <td>Code within 2000</td>\n",
              "      <td>Rented</td>\n",
              "      <td>Individual</td>\n",
              "      <td>Within_30</td>\n",
              "      <td>No</td>\n",
              "      <td>X3</td>\n",
              "      <td>3.0</td>\n",
              "      <td>3.000000</td>\n",
              "      <td>18</td>\n",
              "      <td>9086.0</td>\n",
              "      <td>0</td>\n",
              "      <td>1</td>\n",
              "      <td>0</td>\n",
              "      <td>0</td>\n",
              "      <td>0</td>\n",
              "      <td>1</td>\n",
              "      <td>0</td>\n",
              "      <td>0</td>\n",
              "      <td>1</td>\n",
              "      <td>0</td>\n",
              "      <td>0</td>\n",
              "    </tr>\n",
              "    <tr>\n",
              "      <th>4</th>\n",
              "      <td>C1</td>\n",
              "      <td>Code within 1000</td>\n",
              "      <td>Owned</td>\n",
              "      <td>Individual</td>\n",
              "      <td>Above_60</td>\n",
              "      <td>No</td>\n",
              "      <td>X3</td>\n",
              "      <td>Missing</td>\n",
              "      <td>2.440085</td>\n",
              "      <td>5</td>\n",
              "      <td>22534.0</td>\n",
              "      <td>1</td>\n",
              "      <td>0</td>\n",
              "      <td>0</td>\n",
              "      <td>0</td>\n",
              "      <td>0</td>\n",
              "      <td>0</td>\n",
              "      <td>1</td>\n",
              "      <td>0</td>\n",
              "      <td>1</td>\n",
              "      <td>0</td>\n",
              "      <td>0</td>\n",
              "    </tr>\n",
              "  </tbody>\n",
              "</table>\n",
              "</div>"
            ],
            "text/plain": [
              "  City_Code       Region_Code  ... Health Indicator_Max Health Indicator_Min\n",
              "0        C1  Code within 1000  ...                    0                    0\n",
              "1        C4  Code within 1000  ...                    1                    0\n",
              "2        C1  Code within 1000  ...                    0                    0\n",
              "3        C3  Code within 2000  ...                    0                    0\n",
              "4        C1  Code within 1000  ...                    0                    0\n",
              "\n",
              "[5 rows x 22 columns]"
            ]
          },
          "metadata": {
            "tags": []
          },
          "execution_count": 202
        }
      ]
    },
    {
      "cell_type": "code",
      "metadata": {
        "colab": {
          "base_uri": "https://localhost:8080/",
          "height": 233
        },
        "id": "MDKO_e0EdTNB",
        "outputId": "5769f17f-a60c-4d4f-b5f9-215316dc39a8"
      },
      "source": [
        "testing_data.head()"
      ],
      "execution_count": null,
      "outputs": [
        {
          "output_type": "execute_result",
          "data": {
            "text/html": [
              "<div>\n",
              "<style scoped>\n",
              "    .dataframe tbody tr th:only-of-type {\n",
              "        vertical-align: middle;\n",
              "    }\n",
              "\n",
              "    .dataframe tbody tr th {\n",
              "        vertical-align: top;\n",
              "    }\n",
              "\n",
              "    .dataframe thead th {\n",
              "        text-align: right;\n",
              "    }\n",
              "</style>\n",
              "<table border=\"1\" class=\"dataframe\">\n",
              "  <thead>\n",
              "    <tr style=\"text-align: right;\">\n",
              "      <th></th>\n",
              "      <th>City_Code</th>\n",
              "      <th>Region_Code</th>\n",
              "      <th>Accomodation_Type</th>\n",
              "      <th>Reco_Insurance_Type</th>\n",
              "      <th>Age</th>\n",
              "      <th>Is_Spouse</th>\n",
              "      <th>Health Indicator</th>\n",
              "      <th>Holding_Policy_Duration</th>\n",
              "      <th>Holding_Policy_Type</th>\n",
              "      <th>Reco_Policy_Cat</th>\n",
              "      <th>Reco_Policy_Premium</th>\n",
              "      <th>Holding_Policy_Type_nan</th>\n",
              "      <th>Holding_Policy_Type_Max_count</th>\n",
              "      <th>Holding_Policy_Type_Min_count</th>\n",
              "      <th>Reco_Policy_Cat_Max</th>\n",
              "      <th>Reco_Policy_Cat_Min</th>\n",
              "      <th>Reco_Policy_Premium_Less</th>\n",
              "      <th>Reco_Policy_Premium_More</th>\n",
              "      <th>Married</th>\n",
              "      <th>UnMarried</th>\n",
              "      <th>Health Indicator_Max</th>\n",
              "      <th>Health Indicator_Min</th>\n",
              "    </tr>\n",
              "  </thead>\n",
              "  <tbody>\n",
              "    <tr>\n",
              "      <th>0</th>\n",
              "      <td>0</td>\n",
              "      <td>0</td>\n",
              "      <td>0</td>\n",
              "      <td>0</td>\n",
              "      <td>0</td>\n",
              "      <td>0</td>\n",
              "      <td>1</td>\n",
              "      <td>7</td>\n",
              "      <td>3.000000</td>\n",
              "      <td>5</td>\n",
              "      <td>11934.0</td>\n",
              "      <td>0</td>\n",
              "      <td>1</td>\n",
              "      <td>0</td>\n",
              "      <td>0</td>\n",
              "      <td>0</td>\n",
              "      <td>1</td>\n",
              "      <td>0</td>\n",
              "      <td>0</td>\n",
              "      <td>1</td>\n",
              "      <td>0</td>\n",
              "      <td>0</td>\n",
              "    </tr>\n",
              "    <tr>\n",
              "      <th>1</th>\n",
              "      <td>3</td>\n",
              "      <td>0</td>\n",
              "      <td>0</td>\n",
              "      <td>1</td>\n",
              "      <td>3</td>\n",
              "      <td>1</td>\n",
              "      <td>0</td>\n",
              "      <td>4</td>\n",
              "      <td>3.000000</td>\n",
              "      <td>18</td>\n",
              "      <td>32204.8</td>\n",
              "      <td>0</td>\n",
              "      <td>1</td>\n",
              "      <td>0</td>\n",
              "      <td>0</td>\n",
              "      <td>0</td>\n",
              "      <td>0</td>\n",
              "      <td>1</td>\n",
              "      <td>1</td>\n",
              "      <td>0</td>\n",
              "      <td>1</td>\n",
              "      <td>0</td>\n",
              "    </tr>\n",
              "    <tr>\n",
              "      <th>2</th>\n",
              "      <td>0</td>\n",
              "      <td>0</td>\n",
              "      <td>1</td>\n",
              "      <td>0</td>\n",
              "      <td>0</td>\n",
              "      <td>0</td>\n",
              "      <td>3</td>\n",
              "      <td>3</td>\n",
              "      <td>4.000000</td>\n",
              "      <td>17</td>\n",
              "      <td>9240.0</td>\n",
              "      <td>0</td>\n",
              "      <td>0</td>\n",
              "      <td>1</td>\n",
              "      <td>0</td>\n",
              "      <td>0</td>\n",
              "      <td>1</td>\n",
              "      <td>0</td>\n",
              "      <td>0</td>\n",
              "      <td>1</td>\n",
              "      <td>0</td>\n",
              "      <td>0</td>\n",
              "    </tr>\n",
              "    <tr>\n",
              "      <th>3</th>\n",
              "      <td>2</td>\n",
              "      <td>1</td>\n",
              "      <td>1</td>\n",
              "      <td>0</td>\n",
              "      <td>0</td>\n",
              "      <td>0</td>\n",
              "      <td>3</td>\n",
              "      <td>4</td>\n",
              "      <td>3.000000</td>\n",
              "      <td>18</td>\n",
              "      <td>9086.0</td>\n",
              "      <td>0</td>\n",
              "      <td>1</td>\n",
              "      <td>0</td>\n",
              "      <td>0</td>\n",
              "      <td>0</td>\n",
              "      <td>1</td>\n",
              "      <td>0</td>\n",
              "      <td>0</td>\n",
              "      <td>1</td>\n",
              "      <td>0</td>\n",
              "      <td>0</td>\n",
              "    </tr>\n",
              "    <tr>\n",
              "      <th>4</th>\n",
              "      <td>0</td>\n",
              "      <td>0</td>\n",
              "      <td>0</td>\n",
              "      <td>0</td>\n",
              "      <td>3</td>\n",
              "      <td>0</td>\n",
              "      <td>3</td>\n",
              "      <td>0</td>\n",
              "      <td>2.440085</td>\n",
              "      <td>5</td>\n",
              "      <td>22534.0</td>\n",
              "      <td>1</td>\n",
              "      <td>0</td>\n",
              "      <td>0</td>\n",
              "      <td>0</td>\n",
              "      <td>0</td>\n",
              "      <td>0</td>\n",
              "      <td>1</td>\n",
              "      <td>0</td>\n",
              "      <td>1</td>\n",
              "      <td>0</td>\n",
              "      <td>0</td>\n",
              "    </tr>\n",
              "  </tbody>\n",
              "</table>\n",
              "</div>"
            ],
            "text/plain": [
              "   City_Code  Region_Code  ...  Health Indicator_Max  Health Indicator_Min\n",
              "0          0            0  ...                     0                     0\n",
              "1          3            0  ...                     1                     0\n",
              "2          0            0  ...                     0                     0\n",
              "3          2            1  ...                     0                     0\n",
              "4          0            0  ...                     0                     0\n",
              "\n",
              "[5 rows x 22 columns]"
            ]
          },
          "metadata": {
            "tags": []
          },
          "execution_count": 207
        }
      ]
    },
    {
      "cell_type": "code",
      "metadata": {
        "id": "pEupBy3FbrJk"
      },
      "source": [
        "# Storing the work \r\n",
        "testing_data.to_csv(\"test.csv\",index=False)"
      ],
      "execution_count": null,
      "outputs": []
    },
    {
      "cell_type": "code",
      "metadata": {
        "id": "qnfPF-UUbrLc"
      },
      "source": [
        "testing_feature_data = pd.read_csv('test.csv')"
      ],
      "execution_count": 43,
      "outputs": []
    },
    {
      "cell_type": "code",
      "metadata": {
        "colab": {
          "base_uri": "https://localhost:8080/"
        },
        "id": "bkwL-bTdbrOO",
        "outputId": "edd55347-cbca-4b10-a854-1d3bd447524d"
      },
      "source": [
        "# Feature Scaling\r\n",
        "feature_scale = [feature for feature in testing_feature_data.columns if feature in ['Region_Code','Age','Reco_Policy_Premium']]\r\n",
        "pt = PowerTransformer(method='yeo-johnson',standardize=False)\r\n",
        "pt.fit(testing_feature_data[feature_scale])"
      ],
      "execution_count": 44,
      "outputs": [
        {
          "output_type": "execute_result",
          "data": {
            "text/plain": [
              "PowerTransformer(copy=True, method='yeo-johnson', standardize=False)"
            ]
          },
          "metadata": {
            "tags": []
          },
          "execution_count": 44
        }
      ]
    },
    {
      "cell_type": "code",
      "metadata": {
        "colab": {
          "base_uri": "https://localhost:8080/",
          "height": 196
        },
        "id": "PwNeSRx-dT5k",
        "outputId": "94dc220d-b4f4-4b4a-c6b2-4c7918556e89"
      },
      "source": [
        "# transforming the data\r\n",
        "testing = pd.DataFrame(pt.transform(testing_feature_data[feature_scale]),columns=feature_scale)\r\n",
        "testing.head()"
      ],
      "execution_count": 45,
      "outputs": [
        {
          "output_type": "execute_result",
          "data": {
            "text/html": [
              "<div>\n",
              "<style scoped>\n",
              "    .dataframe tbody tr th:only-of-type {\n",
              "        vertical-align: middle;\n",
              "    }\n",
              "\n",
              "    .dataframe tbody tr th {\n",
              "        vertical-align: top;\n",
              "    }\n",
              "\n",
              "    .dataframe thead th {\n",
              "        text-align: right;\n",
              "    }\n",
              "</style>\n",
              "<table border=\"1\" class=\"dataframe\">\n",
              "  <thead>\n",
              "    <tr style=\"text-align: right;\">\n",
              "      <th></th>\n",
              "      <th>Region_Code</th>\n",
              "      <th>Age</th>\n",
              "      <th>Reco_Policy_Premium</th>\n",
              "    </tr>\n",
              "  </thead>\n",
              "  <tbody>\n",
              "    <tr>\n",
              "      <th>0</th>\n",
              "      <td>-0.000000</td>\n",
              "      <td>0.000000</td>\n",
              "      <td>50.839128</td>\n",
              "    </tr>\n",
              "    <tr>\n",
              "      <th>1</th>\n",
              "      <td>-0.000000</td>\n",
              "      <td>1.982266</td>\n",
              "      <td>69.324397</td>\n",
              "    </tr>\n",
              "    <tr>\n",
              "      <th>2</th>\n",
              "      <td>-0.000000</td>\n",
              "      <td>0.000000</td>\n",
              "      <td>46.890971</td>\n",
              "    </tr>\n",
              "    <tr>\n",
              "      <th>3</th>\n",
              "      <td>0.640846</td>\n",
              "      <td>0.000000</td>\n",
              "      <td>46.641913</td>\n",
              "    </tr>\n",
              "    <tr>\n",
              "      <th>4</th>\n",
              "      <td>-0.000000</td>\n",
              "      <td>1.982266</td>\n",
              "      <td>62.043015</td>\n",
              "    </tr>\n",
              "  </tbody>\n",
              "</table>\n",
              "</div>"
            ],
            "text/plain": [
              "   Region_Code       Age  Reco_Policy_Premium\n",
              "0    -0.000000  0.000000            50.839128\n",
              "1    -0.000000  1.982266            69.324397\n",
              "2    -0.000000  0.000000            46.890971\n",
              "3     0.640846  0.000000            46.641913\n",
              "4    -0.000000  1.982266            62.043015"
            ]
          },
          "metadata": {
            "tags": []
          },
          "execution_count": 45
        }
      ]
    },
    {
      "cell_type": "code",
      "metadata": {
        "colab": {
          "base_uri": "https://localhost:8080/",
          "height": 233
        },
        "id": "NyHNb1_KkDPB",
        "outputId": "5f2d08af-8a12-4797-a468-26d13a9dbf94"
      },
      "source": [
        "X_testing = testing_feature_data.drop(columns=['Region_Code','Age','Reco_Policy_Premium'])\r\n",
        "X_testing = pd.concat([X_testing,testing],axis=1)\r\n",
        "X_testing.head()"
      ],
      "execution_count": 46,
      "outputs": [
        {
          "output_type": "execute_result",
          "data": {
            "text/html": [
              "<div>\n",
              "<style scoped>\n",
              "    .dataframe tbody tr th:only-of-type {\n",
              "        vertical-align: middle;\n",
              "    }\n",
              "\n",
              "    .dataframe tbody tr th {\n",
              "        vertical-align: top;\n",
              "    }\n",
              "\n",
              "    .dataframe thead th {\n",
              "        text-align: right;\n",
              "    }\n",
              "</style>\n",
              "<table border=\"1\" class=\"dataframe\">\n",
              "  <thead>\n",
              "    <tr style=\"text-align: right;\">\n",
              "      <th></th>\n",
              "      <th>City_Code</th>\n",
              "      <th>Accomodation_Type</th>\n",
              "      <th>Reco_Insurance_Type</th>\n",
              "      <th>Is_Spouse</th>\n",
              "      <th>Health Indicator</th>\n",
              "      <th>Holding_Policy_Duration</th>\n",
              "      <th>Holding_Policy_Type</th>\n",
              "      <th>Reco_Policy_Cat</th>\n",
              "      <th>Holding_Policy_Type_nan</th>\n",
              "      <th>Holding_Policy_Type_Max_count</th>\n",
              "      <th>Holding_Policy_Type_Min_count</th>\n",
              "      <th>Reco_Policy_Cat_Max</th>\n",
              "      <th>Reco_Policy_Cat_Min</th>\n",
              "      <th>Reco_Policy_Premium_Less</th>\n",
              "      <th>Reco_Policy_Premium_More</th>\n",
              "      <th>Married</th>\n",
              "      <th>UnMarried</th>\n",
              "      <th>Health Indicator_Max</th>\n",
              "      <th>Health Indicator_Min</th>\n",
              "      <th>Region_Code</th>\n",
              "      <th>Age</th>\n",
              "      <th>Reco_Policy_Premium</th>\n",
              "    </tr>\n",
              "  </thead>\n",
              "  <tbody>\n",
              "    <tr>\n",
              "      <th>0</th>\n",
              "      <td>0</td>\n",
              "      <td>0</td>\n",
              "      <td>0</td>\n",
              "      <td>0</td>\n",
              "      <td>1</td>\n",
              "      <td>7</td>\n",
              "      <td>3.000000</td>\n",
              "      <td>5</td>\n",
              "      <td>0</td>\n",
              "      <td>1</td>\n",
              "      <td>0</td>\n",
              "      <td>0</td>\n",
              "      <td>0</td>\n",
              "      <td>1</td>\n",
              "      <td>0</td>\n",
              "      <td>0</td>\n",
              "      <td>1</td>\n",
              "      <td>0</td>\n",
              "      <td>0</td>\n",
              "      <td>-0.000000</td>\n",
              "      <td>0.000000</td>\n",
              "      <td>50.839128</td>\n",
              "    </tr>\n",
              "    <tr>\n",
              "      <th>1</th>\n",
              "      <td>3</td>\n",
              "      <td>0</td>\n",
              "      <td>1</td>\n",
              "      <td>1</td>\n",
              "      <td>0</td>\n",
              "      <td>4</td>\n",
              "      <td>3.000000</td>\n",
              "      <td>18</td>\n",
              "      <td>0</td>\n",
              "      <td>1</td>\n",
              "      <td>0</td>\n",
              "      <td>0</td>\n",
              "      <td>0</td>\n",
              "      <td>0</td>\n",
              "      <td>1</td>\n",
              "      <td>1</td>\n",
              "      <td>0</td>\n",
              "      <td>1</td>\n",
              "      <td>0</td>\n",
              "      <td>-0.000000</td>\n",
              "      <td>1.982266</td>\n",
              "      <td>69.324397</td>\n",
              "    </tr>\n",
              "    <tr>\n",
              "      <th>2</th>\n",
              "      <td>0</td>\n",
              "      <td>1</td>\n",
              "      <td>0</td>\n",
              "      <td>0</td>\n",
              "      <td>3</td>\n",
              "      <td>3</td>\n",
              "      <td>4.000000</td>\n",
              "      <td>17</td>\n",
              "      <td>0</td>\n",
              "      <td>0</td>\n",
              "      <td>1</td>\n",
              "      <td>0</td>\n",
              "      <td>0</td>\n",
              "      <td>1</td>\n",
              "      <td>0</td>\n",
              "      <td>0</td>\n",
              "      <td>1</td>\n",
              "      <td>0</td>\n",
              "      <td>0</td>\n",
              "      <td>-0.000000</td>\n",
              "      <td>0.000000</td>\n",
              "      <td>46.890971</td>\n",
              "    </tr>\n",
              "    <tr>\n",
              "      <th>3</th>\n",
              "      <td>2</td>\n",
              "      <td>1</td>\n",
              "      <td>0</td>\n",
              "      <td>0</td>\n",
              "      <td>3</td>\n",
              "      <td>4</td>\n",
              "      <td>3.000000</td>\n",
              "      <td>18</td>\n",
              "      <td>0</td>\n",
              "      <td>1</td>\n",
              "      <td>0</td>\n",
              "      <td>0</td>\n",
              "      <td>0</td>\n",
              "      <td>1</td>\n",
              "      <td>0</td>\n",
              "      <td>0</td>\n",
              "      <td>1</td>\n",
              "      <td>0</td>\n",
              "      <td>0</td>\n",
              "      <td>0.640846</td>\n",
              "      <td>0.000000</td>\n",
              "      <td>46.641913</td>\n",
              "    </tr>\n",
              "    <tr>\n",
              "      <th>4</th>\n",
              "      <td>0</td>\n",
              "      <td>0</td>\n",
              "      <td>0</td>\n",
              "      <td>0</td>\n",
              "      <td>3</td>\n",
              "      <td>0</td>\n",
              "      <td>2.440085</td>\n",
              "      <td>5</td>\n",
              "      <td>1</td>\n",
              "      <td>0</td>\n",
              "      <td>0</td>\n",
              "      <td>0</td>\n",
              "      <td>0</td>\n",
              "      <td>0</td>\n",
              "      <td>1</td>\n",
              "      <td>0</td>\n",
              "      <td>1</td>\n",
              "      <td>0</td>\n",
              "      <td>0</td>\n",
              "      <td>-0.000000</td>\n",
              "      <td>1.982266</td>\n",
              "      <td>62.043015</td>\n",
              "    </tr>\n",
              "  </tbody>\n",
              "</table>\n",
              "</div>"
            ],
            "text/plain": [
              "   City_Code  Accomodation_Type  ...       Age  Reco_Policy_Premium\n",
              "0          0                  0  ...  0.000000            50.839128\n",
              "1          3                  0  ...  1.982266            69.324397\n",
              "2          0                  1  ...  0.000000            46.890971\n",
              "3          2                  1  ...  0.000000            46.641913\n",
              "4          0                  0  ...  1.982266            62.043015\n",
              "\n",
              "[5 rows x 22 columns]"
            ]
          },
          "metadata": {
            "tags": []
          },
          "execution_count": 46
        }
      ]
    },
    {
      "cell_type": "code",
      "metadata": {
        "colab": {
          "base_uri": "https://localhost:8080/",
          "height": 233
        },
        "id": "wlx2mrbgk9FS",
        "outputId": "1b6db1b7-c81f-4ffb-c29a-d34425813b90"
      },
      "source": [
        "# Normalising variables\r\n",
        "from sklearn.preprocessing import StandardScaler\r\n",
        "sc = StandardScaler()\r\n",
        "X_testing_norm = pd.DataFrame(sc.fit_transform(X_testing))\r\n",
        "X_testing_norm.columns = X_testing.columns\r\n",
        "X_testing_norm.head()"
      ],
      "execution_count": 47,
      "outputs": [
        {
          "output_type": "execute_result",
          "data": {
            "text/html": [
              "<div>\n",
              "<style scoped>\n",
              "    .dataframe tbody tr th:only-of-type {\n",
              "        vertical-align: middle;\n",
              "    }\n",
              "\n",
              "    .dataframe tbody tr th {\n",
              "        vertical-align: top;\n",
              "    }\n",
              "\n",
              "    .dataframe thead th {\n",
              "        text-align: right;\n",
              "    }\n",
              "</style>\n",
              "<table border=\"1\" class=\"dataframe\">\n",
              "  <thead>\n",
              "    <tr style=\"text-align: right;\">\n",
              "      <th></th>\n",
              "      <th>City_Code</th>\n",
              "      <th>Accomodation_Type</th>\n",
              "      <th>Reco_Insurance_Type</th>\n",
              "      <th>Is_Spouse</th>\n",
              "      <th>Health Indicator</th>\n",
              "      <th>Holding_Policy_Duration</th>\n",
              "      <th>Holding_Policy_Type</th>\n",
              "      <th>Reco_Policy_Cat</th>\n",
              "      <th>Holding_Policy_Type_nan</th>\n",
              "      <th>Holding_Policy_Type_Max_count</th>\n",
              "      <th>Holding_Policy_Type_Min_count</th>\n",
              "      <th>Reco_Policy_Cat_Max</th>\n",
              "      <th>Reco_Policy_Cat_Min</th>\n",
              "      <th>Reco_Policy_Premium_Less</th>\n",
              "      <th>Reco_Policy_Premium_More</th>\n",
              "      <th>Married</th>\n",
              "      <th>UnMarried</th>\n",
              "      <th>Health Indicator_Max</th>\n",
              "      <th>Health Indicator_Min</th>\n",
              "      <th>Region_Code</th>\n",
              "      <th>Age</th>\n",
              "      <th>Reco_Policy_Premium</th>\n",
              "    </tr>\n",
              "  </thead>\n",
              "  <tbody>\n",
              "    <tr>\n",
              "      <th>0</th>\n",
              "      <td>-0.909425</td>\n",
              "      <td>-0.896413</td>\n",
              "      <td>-0.507370</td>\n",
              "      <td>-0.443060</td>\n",
              "      <td>-0.509653</td>\n",
              "      <td>1.072196</td>\n",
              "      <td>0.693515</td>\n",
              "      <td>-1.608585</td>\n",
              "      <td>-0.807245</td>\n",
              "      <td>1.706844</td>\n",
              "      <td>-0.309489</td>\n",
              "      <td>-0.388305</td>\n",
              "      <td>-0.12146</td>\n",
              "      <td>0.903927</td>\n",
              "      <td>-0.903927</td>\n",
              "      <td>-0.443060</td>\n",
              "      <td>0.443060</td>\n",
              "      <td>-0.588843</td>\n",
              "      <td>-0.035857</td>\n",
              "      <td>-1.127184</td>\n",
              "      <td>-1.329323</td>\n",
              "      <td>-0.208473</td>\n",
              "    </tr>\n",
              "    <tr>\n",
              "      <th>1</th>\n",
              "      <td>-0.523730</td>\n",
              "      <td>-0.896413</td>\n",
              "      <td>1.970947</td>\n",
              "      <td>2.257031</td>\n",
              "      <td>-1.116887</td>\n",
              "      <td>0.257418</td>\n",
              "      <td>0.693515</td>\n",
              "      <td>0.454036</td>\n",
              "      <td>-0.807245</td>\n",
              "      <td>1.706844</td>\n",
              "      <td>-0.309489</td>\n",
              "      <td>-0.388305</td>\n",
              "      <td>-0.12146</td>\n",
              "      <td>-1.106284</td>\n",
              "      <td>1.106284</td>\n",
              "      <td>2.257031</td>\n",
              "      <td>-2.257031</td>\n",
              "      <td>1.698246</td>\n",
              "      <td>-0.035857</td>\n",
              "      <td>-1.127184</td>\n",
              "      <td>1.296389</td>\n",
              "      <td>2.166518</td>\n",
              "    </tr>\n",
              "    <tr>\n",
              "      <th>2</th>\n",
              "      <td>-0.909425</td>\n",
              "      <td>1.115557</td>\n",
              "      <td>-0.507370</td>\n",
              "      <td>-0.443060</td>\n",
              "      <td>0.704815</td>\n",
              "      <td>-0.014174</td>\n",
              "      <td>1.932122</td>\n",
              "      <td>0.295373</td>\n",
              "      <td>-0.807245</td>\n",
              "      <td>-0.585877</td>\n",
              "      <td>3.231128</td>\n",
              "      <td>-0.388305</td>\n",
              "      <td>-0.12146</td>\n",
              "      <td>0.903927</td>\n",
              "      <td>-0.903927</td>\n",
              "      <td>-0.443060</td>\n",
              "      <td>0.443060</td>\n",
              "      <td>-0.588843</td>\n",
              "      <td>-0.035857</td>\n",
              "      <td>-1.127184</td>\n",
              "      <td>-1.329323</td>\n",
              "      <td>-0.715733</td>\n",
              "    </tr>\n",
              "    <tr>\n",
              "      <th>3</th>\n",
              "      <td>-0.652295</td>\n",
              "      <td>1.115557</td>\n",
              "      <td>-0.507370</td>\n",
              "      <td>-0.443060</td>\n",
              "      <td>0.704815</td>\n",
              "      <td>0.257418</td>\n",
              "      <td>0.693515</td>\n",
              "      <td>0.454036</td>\n",
              "      <td>-0.807245</td>\n",
              "      <td>1.706844</td>\n",
              "      <td>-0.309489</td>\n",
              "      <td>-0.388305</td>\n",
              "      <td>-0.12146</td>\n",
              "      <td>0.903927</td>\n",
              "      <td>-0.903927</td>\n",
              "      <td>-0.443060</td>\n",
              "      <td>0.443060</td>\n",
              "      <td>-0.588843</td>\n",
              "      <td>-0.035857</td>\n",
              "      <td>0.142607</td>\n",
              "      <td>-1.329323</td>\n",
              "      <td>-0.747731</td>\n",
              "    </tr>\n",
              "    <tr>\n",
              "      <th>4</th>\n",
              "      <td>-0.909425</td>\n",
              "      <td>-0.896413</td>\n",
              "      <td>-0.507370</td>\n",
              "      <td>-0.443060</td>\n",
              "      <td>0.704815</td>\n",
              "      <td>-0.828952</td>\n",
              "      <td>0.000000</td>\n",
              "      <td>-1.608585</td>\n",
              "      <td>1.238782</td>\n",
              "      <td>-0.585877</td>\n",
              "      <td>-0.309489</td>\n",
              "      <td>-0.388305</td>\n",
              "      <td>-0.12146</td>\n",
              "      <td>-1.106284</td>\n",
              "      <td>1.106284</td>\n",
              "      <td>-0.443060</td>\n",
              "      <td>0.443060</td>\n",
              "      <td>-0.588843</td>\n",
              "      <td>-0.035857</td>\n",
              "      <td>-1.127184</td>\n",
              "      <td>1.296389</td>\n",
              "      <td>1.231005</td>\n",
              "    </tr>\n",
              "  </tbody>\n",
              "</table>\n",
              "</div>"
            ],
            "text/plain": [
              "   City_Code  Accomodation_Type  ...       Age  Reco_Policy_Premium\n",
              "0  -0.909425          -0.896413  ... -1.329323            -0.208473\n",
              "1  -0.523730          -0.896413  ...  1.296389             2.166518\n",
              "2  -0.909425           1.115557  ... -1.329323            -0.715733\n",
              "3  -0.652295           1.115557  ... -1.329323            -0.747731\n",
              "4  -0.909425          -0.896413  ...  1.296389             1.231005\n",
              "\n",
              "[5 rows x 22 columns]"
            ]
          },
          "metadata": {
            "tags": []
          },
          "execution_count": 47
        }
      ]
    },
    {
      "cell_type": "code",
      "metadata": {
        "colab": {
          "base_uri": "https://localhost:8080/",
          "height": 364
        },
        "id": "Q5HN61YFdT84",
        "outputId": "695568bd-7dc1-425d-aeda-4d06f152ac48"
      },
      "source": [
        "# Visualizing the transformed featres\r\n",
        "testing.hist()"
      ],
      "execution_count": null,
      "outputs": [
        {
          "output_type": "execute_result",
          "data": {
            "text/plain": [
              "array([[<matplotlib.axes._subplots.AxesSubplot object at 0x7fc886f38090>,\n",
              "        <matplotlib.axes._subplots.AxesSubplot object at 0x7fc88779fc50>],\n",
              "       [<matplotlib.axes._subplots.AxesSubplot object at 0x7fc886e2d310>,\n",
              "        <matplotlib.axes._subplots.AxesSubplot object at 0x7fc886debe90>]],\n",
              "      dtype=object)"
            ]
          },
          "metadata": {
            "tags": []
          },
          "execution_count": 211
        },
        {
          "output_type": "display_data",
          "data": {
            "image/png": "[encoded data removed]",
            "text/plain": [
              "<Figure size 432x288 with 4 Axes>"
            ]
          },
          "metadata": {
            "tags": [],
            "needs_background": "light"
          }
        }
      ]
    },
    {
      "cell_type": "code",
      "metadata": {
        "id": "LlSVyfs-dT_g"
      },
      "source": [
        "#Feature selection \r\n",
        "X_test = X_testing_norm\r\n",
        "X_test = X_test[['Reco_Policy_Premium','Reco_Policy_Cat','City_Code','Region_Code','Accomodation_Type','Health Indicator','Holding_Policy_Type_nan']]\r\n",
        "#X_test = selected_feat"
      ],
      "execution_count": 78,
      "outputs": []
    },
    {
      "cell_type": "code",
      "metadata": {
        "colab": {
          "base_uri": "https://localhost:8080/",
          "height": 196
        },
        "id": "BEaI7s46ecDc",
        "outputId": "85bc9bf7-2f26-4daa-f428-5f6fa3026eff"
      },
      "source": [
        "X_test.head()"
      ],
      "execution_count": 79,
      "outputs": [
        {
          "output_type": "execute_result",
          "data": {
            "text/html": [
              "<div>\n",
              "<style scoped>\n",
              "    .dataframe tbody tr th:only-of-type {\n",
              "        vertical-align: middle;\n",
              "    }\n",
              "\n",
              "    .dataframe tbody tr th {\n",
              "        vertical-align: top;\n",
              "    }\n",
              "\n",
              "    .dataframe thead th {\n",
              "        text-align: right;\n",
              "    }\n",
              "</style>\n",
              "<table border=\"1\" class=\"dataframe\">\n",
              "  <thead>\n",
              "    <tr style=\"text-align: right;\">\n",
              "      <th></th>\n",
              "      <th>Reco_Policy_Premium</th>\n",
              "      <th>Reco_Policy_Cat</th>\n",
              "      <th>City_Code</th>\n",
              "      <th>Region_Code</th>\n",
              "      <th>Accomodation_Type</th>\n",
              "      <th>Health Indicator</th>\n",
              "      <th>Holding_Policy_Type_nan</th>\n",
              "    </tr>\n",
              "  </thead>\n",
              "  <tbody>\n",
              "    <tr>\n",
              "      <th>0</th>\n",
              "      <td>-0.208473</td>\n",
              "      <td>-1.608585</td>\n",
              "      <td>-0.909425</td>\n",
              "      <td>-1.127184</td>\n",
              "      <td>-0.896413</td>\n",
              "      <td>-0.509653</td>\n",
              "      <td>-0.807245</td>\n",
              "    </tr>\n",
              "    <tr>\n",
              "      <th>1</th>\n",
              "      <td>2.166518</td>\n",
              "      <td>0.454036</td>\n",
              "      <td>-0.523730</td>\n",
              "      <td>-1.127184</td>\n",
              "      <td>-0.896413</td>\n",
              "      <td>-1.116887</td>\n",
              "      <td>-0.807245</td>\n",
              "    </tr>\n",
              "    <tr>\n",
              "      <th>2</th>\n",
              "      <td>-0.715733</td>\n",
              "      <td>0.295373</td>\n",
              "      <td>-0.909425</td>\n",
              "      <td>-1.127184</td>\n",
              "      <td>1.115557</td>\n",
              "      <td>0.704815</td>\n",
              "      <td>-0.807245</td>\n",
              "    </tr>\n",
              "    <tr>\n",
              "      <th>3</th>\n",
              "      <td>-0.747731</td>\n",
              "      <td>0.454036</td>\n",
              "      <td>-0.652295</td>\n",
              "      <td>0.142607</td>\n",
              "      <td>1.115557</td>\n",
              "      <td>0.704815</td>\n",
              "      <td>-0.807245</td>\n",
              "    </tr>\n",
              "    <tr>\n",
              "      <th>4</th>\n",
              "      <td>1.231005</td>\n",
              "      <td>-1.608585</td>\n",
              "      <td>-0.909425</td>\n",
              "      <td>-1.127184</td>\n",
              "      <td>-0.896413</td>\n",
              "      <td>0.704815</td>\n",
              "      <td>1.238782</td>\n",
              "    </tr>\n",
              "  </tbody>\n",
              "</table>\n",
              "</div>"
            ],
            "text/plain": [
              "   Reco_Policy_Premium  ...  Holding_Policy_Type_nan\n",
              "0            -0.208473  ...                -0.807245\n",
              "1             2.166518  ...                -0.807245\n",
              "2            -0.715733  ...                -0.807245\n",
              "3            -0.747731  ...                -0.807245\n",
              "4             1.231005  ...                 1.238782\n",
              "\n",
              "[5 rows x 7 columns]"
            ]
          },
          "metadata": {
            "tags": []
          },
          "execution_count": 79
        }
      ]
    },
    {
      "cell_type": "code",
      "metadata": {
        "id": "i_dVp-AFd6E_"
      },
      "source": [
        "# Final Predicitions\r\n",
        "final_predictions = model_4.predict_proba(X_test)[:,-1]"
      ],
      "execution_count": 80,
      "outputs": []
    },
    {
      "cell_type": "code",
      "metadata": {
        "id": "WF0HeuTRd6IP"
      },
      "source": [
        "final_predictions = pd.DataFrame(final_predictions)\r\n",
        "final_predictions.columns = [\"Response\"]"
      ],
      "execution_count": 81,
      "outputs": []
    },
    {
      "cell_type": "code",
      "metadata": {
        "colab": {
          "base_uri": "https://localhost:8080/",
          "height": 196
        },
        "id": "_AD_VaoMflYr",
        "outputId": "d9c8ef7e-7029-4768-f28c-bbea9a678b6a"
      },
      "source": [
        "final_predictions = pd.concat([test_data[\"ID\"],final_predictions],axis=1)\r\n",
        "final_predictions.head()"
      ],
      "execution_count": 82,
      "outputs": [
        {
          "output_type": "execute_result",
          "data": {
            "text/html": [
              "<div>\n",
              "<style scoped>\n",
              "    .dataframe tbody tr th:only-of-type {\n",
              "        vertical-align: middle;\n",
              "    }\n",
              "\n",
              "    .dataframe tbody tr th {\n",
              "        vertical-align: top;\n",
              "    }\n",
              "\n",
              "    .dataframe thead th {\n",
              "        text-align: right;\n",
              "    }\n",
              "</style>\n",
              "<table border=\"1\" class=\"dataframe\">\n",
              "  <thead>\n",
              "    <tr style=\"text-align: right;\">\n",
              "      <th></th>\n",
              "      <th>ID</th>\n",
              "      <th>Response</th>\n",
              "    </tr>\n",
              "  </thead>\n",
              "  <tbody>\n",
              "    <tr>\n",
              "      <th>0</th>\n",
              "      <td>50883</td>\n",
              "      <td>1.0</td>\n",
              "    </tr>\n",
              "    <tr>\n",
              "      <th>1</th>\n",
              "      <td>50884</td>\n",
              "      <td>1.0</td>\n",
              "    </tr>\n",
              "    <tr>\n",
              "      <th>2</th>\n",
              "      <td>50885</td>\n",
              "      <td>1.0</td>\n",
              "    </tr>\n",
              "    <tr>\n",
              "      <th>3</th>\n",
              "      <td>50886</td>\n",
              "      <td>1.0</td>\n",
              "    </tr>\n",
              "    <tr>\n",
              "      <th>4</th>\n",
              "      <td>50887</td>\n",
              "      <td>1.0</td>\n",
              "    </tr>\n",
              "  </tbody>\n",
              "</table>\n",
              "</div>"
            ],
            "text/plain": [
              "      ID  Response\n",
              "0  50883       1.0\n",
              "1  50884       1.0\n",
              "2  50885       1.0\n",
              "3  50886       1.0\n",
              "4  50887       1.0"
            ]
          },
          "metadata": {
            "tags": []
          },
          "execution_count": 82
        }
      ]
    }
  ]
}